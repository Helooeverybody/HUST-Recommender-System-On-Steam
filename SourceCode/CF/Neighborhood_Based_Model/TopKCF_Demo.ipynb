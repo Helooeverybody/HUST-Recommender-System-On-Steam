{
 "cells": [
  {
   "cell_type": "markdown",
   "metadata": {},
   "source": [
    "# Colab Filtering Demo"
   ]
  },
  {
   "cell_type": "markdown",
   "metadata": {},
   "source": [
    "### Import dependencies"
   ]
  },
  {
   "cell_type": "code",
   "execution_count": 1,
   "metadata": {},
   "outputs": [],
   "source": [
    "import os\n",
    "\n",
    "import numpy as np\n",
    "import pandas as pd\n",
    "import seaborn as sns\n",
    "import matplotlib.pyplot as plt\n",
    "\n",
    "from preprocessing import Preprocessor\n",
    "from mapping import Mapper\n",
    "from topk_cf import TopKNeighborCF\n",
    "from similarity import Similarity"
   ]
  },
  {
   "cell_type": "markdown",
   "metadata": {},
   "source": [
    "### Data analysis"
   ]
  },
  {
   "cell_type": "code",
   "execution_count": 2,
   "metadata": {},
   "outputs": [],
   "source": [
    "# Method to get file from data\n",
    "def from_data(fname: str):\n",
    "    data_path = os.path.abspath(\"../../../data\")\n",
    "    return os.path.join(data_path, fname)"
   ]
  },
  {
   "cell_type": "markdown",
   "metadata": {},
   "source": [
    "##### Overview"
   ]
  },
  {
   "cell_type": "code",
   "execution_count": 5,
   "metadata": {},
   "outputs": [],
   "source": [
    "ratings = pd.read_csv(from_data(\"kaggle/recommendations.csv\"))\n",
    "ratings.insert(\n",
    "    4, \"ratings\",\n",
    "    [Preprocessor.assign_rating(hour, rec)\n",
    "    for (hour, rec) in zip(ratings[\"hours\"], ratings[\"is_recommended\"])],\n",
    ")"
   ]
  },
  {
   "cell_type": "code",
   "execution_count": 6,
   "metadata": {},
   "outputs": [
    {
     "name": "stdout",
     "output_type": "stream",
     "text": [
      "Number of ratings: 41154794\n",
      "Number of unique games: 37610\n",
      "Number of unique users: 13781059\n",
      "Average number of ratings per user: 2.99\n",
      "Average number of ratings per game: 1094.25\n",
      "Mean global rating: 4.1\n"
     ]
    }
   ],
   "source": [
    "n_ratings = len(ratings)\n",
    "n_games = ratings[\"app_id\"].nunique()\n",
    "n_users = ratings[\"user_id\"].nunique()\n",
    "\n",
    "print(f\"Number of ratings: {n_ratings}\")\n",
    "print(f\"Number of unique games: {n_games}\")\n",
    "print(f\"Number of unique users: {n_users}\")\n",
    "print(f\"Average number of ratings per user: {round(n_ratings/n_users, 2)}\")\n",
    "print(f\"Average number of ratings per game: {round(n_ratings/n_games, 2)}\")\n",
    "print(f\"Mean global rating: {round(ratings[\"ratings\"].mean(),2)}\")"
   ]
  },
  {
   "cell_type": "code",
   "execution_count": 7,
   "metadata": {},
   "outputs": [
    {
     "data": {
      "image/png": "[encoded data removed]",
      "text/plain": [
       "<Figure size 640x480 with 1 Axes>"
      ]
     },
     "metadata": {},
     "output_type": "display_data"
    }
   ],
   "source": [
    "sns.countplot(x=\"ratings\", data=ratings, palette=\"viridis\")\n",
    "plt.title(\"Distribution of game ratings\", fontsize=14)\n",
    "plt.show()"
   ]
  },
  {
   "cell_type": "markdown",
   "metadata": {},
   "source": [
    "##### Most rated games"
   ]
  },
  {
   "cell_type": "code",
   "execution_count": 10,
   "metadata": {},
   "outputs": [
    {
     "data": {
      "text/html": [
       "<div>\n",
       "<style scoped>\n",
       "    .dataframe tbody tr th:only-of-type {\n",
       "        vertical-align: middle;\n",
       "    }\n",
       "\n",
       "    .dataframe tbody tr th {\n",
       "        vertical-align: top;\n",
       "    }\n",
       "\n",
       "    .dataframe thead th {\n",
       "        text-align: right;\n",
       "    }\n",
       "</style>\n",
       "<table border=\"1\" class=\"dataframe\">\n",
       "  <thead>\n",
       "    <tr style=\"text-align: right;\">\n",
       "      <th></th>\n",
       "      <th>count</th>\n",
       "      <th>mean</th>\n",
       "    </tr>\n",
       "    <tr>\n",
       "      <th>app_id</th>\n",
       "      <th></th>\n",
       "      <th></th>\n",
       "    </tr>\n",
       "  </thead>\n",
       "  <tbody>\n",
       "    <tr>\n",
       "      <th>440</th>\n",
       "      <td>319492</td>\n",
       "      <td>4.628787</td>\n",
       "    </tr>\n",
       "    <tr>\n",
       "      <th>252490</th>\n",
       "      <td>270684</td>\n",
       "      <td>4.542034</td>\n",
       "    </tr>\n",
       "    <tr>\n",
       "      <th>1091500</th>\n",
       "      <td>226414</td>\n",
       "      <td>4.303879</td>\n",
       "    </tr>\n",
       "    <tr>\n",
       "      <th>730</th>\n",
       "      <td>219737</td>\n",
       "      <td>4.645519</td>\n",
       "    </tr>\n",
       "    <tr>\n",
       "      <th>570</th>\n",
       "      <td>216914</td>\n",
       "      <td>4.442062</td>\n",
       "    </tr>\n",
       "  </tbody>\n",
       "</table>\n",
       "</div>"
      ],
      "text/plain": [
       "          count      mean\n",
       "app_id                   \n",
       "440      319492  4.628787\n",
       "252490   270684  4.542034\n",
       "1091500  226414  4.303879\n",
       "730      219737  4.645519\n",
       "570      216914  4.442062"
      ]
     },
     "execution_count": 10,
     "metadata": {},
     "output_type": "execute_result"
    }
   ],
   "source": [
    "game_stats = ratings.groupby(\"app_id\")[\"ratings\"].agg([\"count\", \"mean\"])\n",
    "game_stats.sort_values(by=[\"count\", \"mean\"], ascending=False).head()"
   ]
  },
  {
   "cell_type": "markdown",
   "metadata": {},
   "source": [
    "### Preprocess data"
   ]
  },
  {
   "cell_type": "markdown",
   "metadata": {},
   "source": [
    "##### Generate data from source"
   ]
  },
  {
   "cell_type": "code",
   "execution_count": 3,
   "metadata": {
    "vscode": {
     "languageId": "bat"
    }
   },
   "outputs": [
    {
     "name": "stdout",
     "output_type": "stream",
     "text": [
      "Loading data from source  Done\n",
      "Filtering recommendations Done\n",
      "Filtering users           Done -> 25217 users\n",
      "Filtering games           Done -> 36014 games\n",
      "Filtering metadata        Done -> 36014 dicts\n",
      "Generating mapping        Done\n",
      "Generating data           Done\n"
     ]
    }
   ],
   "source": [
    "!python preprocessing.py 60"
   ]
  },
  {
   "cell_type": "markdown",
   "metadata": {},
   "source": [
    "##### Import from txt"
   ]
  },
  {
   "cell_type": "code",
   "execution_count": 11,
   "metadata": {},
   "outputs": [
    {
     "name": "stdout",
     "output_type": "stream",
     "text": [
      "User-Item: (25217, 36014)\n"
     ]
    }
   ],
   "source": [
    "# X: Array of user-item pairs\n",
    "# y: Corresponding ratings for each user-item pair in\n",
    "# M: Mapping consists of 5 dictionaries:\n",
    "#    user_to_index, index_to_user, item_to_index, index_to_item, item_to_name\n",
    "# ui_shape: tuple of (num_users, num_items)\n",
    "X, y, ui_shape = Preprocessor.load_data(from_data(\"steam_60/user_item_data.txt\"))\n",
    "M = Mapper(from_data(\"steam_60/mapping.json\"))\n",
    "print(\"User-Item:\", ui_shape)"
   ]
  },
  {
   "cell_type": "markdown",
   "metadata": {},
   "source": [
    "##### Option for spliting data"
   ]
  },
  {
   "cell_type": "code",
   "execution_count": 7,
   "metadata": {},
   "outputs": [],
   "source": [
    "X_train, y_train, X_test, y_test = Preprocessor.split(X, y, 0.8, shuffle=True)"
   ]
  },
  {
   "cell_type": "markdown",
   "metadata": {},
   "source": [
    "### Load data into model"
   ]
  },
  {
   "cell_type": "code",
   "execution_count": 8,
   "metadata": {},
   "outputs": [],
   "source": [
    "sim_func = Similarity.cosine\n",
    "cf_model = TopKNeighborCF(sim_func, mode=\"uucf\", neighbors=10)\n",
    "cf_model.fit(X_train, y_train, ui_shape)"
   ]
  },
  {
   "cell_type": "markdown",
   "metadata": {},
   "source": [
    "### Get prediction"
   ]
  },
  {
   "cell_type": "code",
   "execution_count": 9,
   "metadata": {},
   "outputs": [
    {
     "name": "stdout",
     "output_type": "stream",
     "text": [
      "True: [4.  4.5 3.  ... 4.  4.5 4. ]\n",
      "Pred: [3.43411672 4.44506491 4.20355997 ... 3.66763465 4.24948626 3.61374996]\n"
     ]
    }
   ],
   "source": [
    "y_pred = cf_model.predict(X_test)\n",
    "print(\"True:\", y_test)\n",
    "print(\"Pred:\", y_pred)"
   ]
  },
  {
   "cell_type": "markdown",
   "metadata": {},
   "source": [
    "### Evaluation"
   ]
  },
  {
   "cell_type": "code",
   "execution_count": 10,
   "metadata": {},
   "outputs": [
    {
     "name": "stdout",
     "output_type": "stream",
     "text": [
      "R2  : 0.3010752153860604\n",
      "RMSE: 0.9769705268188834\n"
     ]
    }
   ],
   "source": [
    "from sklearn.metrics import r2_score, mean_squared_error\n",
    "print(\"R2  :\", r2_score(y_test, y_pred))\n",
    "print(\"RMSE:\", mean_squared_error(y_test, y_pred, squared=False))"
   ]
  },
  {
   "cell_type": "markdown",
   "metadata": {},
   "source": [
    "### Get recommendations for an user"
   ]
  },
  {
   "cell_type": "code",
   "execution_count": 11,
   "metadata": {},
   "outputs": [
    {
     "name": "stdout",
     "output_type": "stream",
     "text": [
      "Picked user: 726528\n"
     ]
    }
   ],
   "source": [
    "user_idx = np.random.randint(cf_model.num_users)\n",
    "user = M.index_to_user[str(user_idx)]\n",
    "print(f\"Picked user: {user}\")"
   ]
  },
  {
   "cell_type": "code",
   "execution_count": 12,
   "metadata": {},
   "outputs": [
    {
     "data": {
      "text/html": [
       "<div>\n",
       "<style scoped>\n",
       "    .dataframe tbody tr th:only-of-type {\n",
       "        vertical-align: middle;\n",
       "    }\n",
       "\n",
       "    .dataframe tbody tr th {\n",
       "        vertical-align: top;\n",
       "    }\n",
       "\n",
       "    .dataframe thead th {\n",
       "        text-align: right;\n",
       "    }\n",
       "</style>\n",
       "<table border=\"1\" class=\"dataframe\">\n",
       "  <thead>\n",
       "    <tr style=\"text-align: right;\">\n",
       "      <th></th>\n",
       "      <th>app_id</th>\n",
       "      <th>titles</th>\n",
       "      <th>rating</th>\n",
       "    </tr>\n",
       "  </thead>\n",
       "  <tbody>\n",
       "    <tr>\n",
       "      <th>0</th>\n",
       "      <td>243890</td>\n",
       "      <td>Mavis Beacon Teaches Typing Family Edition</td>\n",
       "      <td>6.977656</td>\n",
       "    </tr>\n",
       "    <tr>\n",
       "      <th>1</th>\n",
       "      <td>1265970</td>\n",
       "      <td>Dark City: Dublin Collector's Edition</td>\n",
       "      <td>6.909213</td>\n",
       "    </tr>\n",
       "    <tr>\n",
       "      <th>2</th>\n",
       "      <td>770200</td>\n",
       "      <td>Squally</td>\n",
       "      <td>6.879627</td>\n",
       "    </tr>\n",
       "    <tr>\n",
       "      <th>3</th>\n",
       "      <td>1803150</td>\n",
       "      <td>Void Slayer</td>\n",
       "      <td>6.876066</td>\n",
       "    </tr>\n",
       "    <tr>\n",
       "      <th>4</th>\n",
       "      <td>401250</td>\n",
       "      <td>Zulu Response</td>\n",
       "      <td>6.851001</td>\n",
       "    </tr>\n",
       "    <tr>\n",
       "      <th>5</th>\n",
       "      <td>673830</td>\n",
       "      <td>VR STOCK CAR RACERS</td>\n",
       "      <td>6.814325</td>\n",
       "    </tr>\n",
       "    <tr>\n",
       "      <th>6</th>\n",
       "      <td>1194790</td>\n",
       "      <td>Kessler Effect</td>\n",
       "      <td>6.788010</td>\n",
       "    </tr>\n",
       "    <tr>\n",
       "      <th>7</th>\n",
       "      <td>877780</td>\n",
       "      <td>Puzzles for smart: Cats</td>\n",
       "      <td>6.772220</td>\n",
       "    </tr>\n",
       "    <tr>\n",
       "      <th>8</th>\n",
       "      <td>852180</td>\n",
       "      <td>Bunker Rush</td>\n",
       "      <td>6.766864</td>\n",
       "    </tr>\n",
       "    <tr>\n",
       "      <th>9</th>\n",
       "      <td>1630180</td>\n",
       "      <td>The hidden game society</td>\n",
       "      <td>6.762762</td>\n",
       "    </tr>\n",
       "  </tbody>\n",
       "</table>\n",
       "</div>"
      ],
      "text/plain": [
       "    app_id                                      titles    rating\n",
       "0   243890  Mavis Beacon Teaches Typing Family Edition  6.977656\n",
       "1  1265970       Dark City: Dublin Collector's Edition  6.909213\n",
       "2   770200                                     Squally  6.879627\n",
       "3  1803150                                 Void Slayer  6.876066\n",
       "4   401250                               Zulu Response  6.851001\n",
       "5   673830                         VR STOCK CAR RACERS  6.814325\n",
       "6  1194790                              Kessler Effect  6.788010\n",
       "7   877780                     Puzzles for smart: Cats  6.772220\n",
       "8   852180                                 Bunker Rush  6.766864\n",
       "9  1630180                     The hidden game society  6.762762"
      ]
     },
     "execution_count": 12,
     "metadata": {},
     "output_type": "execute_result"
    }
   ],
   "source": [
    "games, ratings = cf_model.get_recommendation(user_idx, 10)\n",
    "app_ids = [M.index_to_item[str(i)] for i in games]\n",
    "titles = [M.item_to_name[str(i)] for i in app_ids]\n",
    "rec = pd.DataFrame({\"app_id\": app_ids, \"titles\": titles, \"rating\": ratings})\n",
    "rec"
   ]
  }
 ],
 "metadata": {
  "kernelspec": {
   "display_name": "walapy",
   "language": "python",
   "name": "python3"
  },
  "language_info": {
   "codemirror_mode": {
    "name": "ipython",
    "version": 3
   },
   "file_extension": ".py",
   "mimetype": "text/x-python",
   "name": "python",
   "nbconvert_exporter": "python",
   "pygments_lexer": "ipython3",
   "version": "3.12.1"
  }
 },
 "nbformat": 4,
 "nbformat_minor": 2
}
