{
 "cells": [
  {
   "cell_type": "code",
   "execution_count": 1,
   "metadata": {},
   "outputs": [],
   "source": [
    "import numpy as np\n",
    "import pandas as pd\n",
    "from cmfrec import CMF, ContentBased\n",
    "from sklearn.model_selection import train_test_split\n",
    "from collections import defaultdict\n",
    "from utility_cmfrec import run_cmfrec"
   ]
  },
  {
   "cell_type": "markdown",
   "metadata": {},
   "source": [
    "Load data"
   ]
  },
  {
   "cell_type": "code",
   "execution_count": 2,
   "metadata": {},
   "outputs": [],
   "source": [
    "games_features = pd.read_csv('../preprocessed_data/games_features.csv')\n",
    "users_features = pd.read_csv('../preprocessed_data/users_features.csv')\n",
    "ratings = pd.read_csv('../preprocessed_data/ratings.csv')\n"
   ]
  },
  {
   "cell_type": "markdown",
   "metadata": {},
   "source": [
    "Split data"
   ]
  },
  {
   "cell_type": "code",
   "execution_count": 3,
   "metadata": {},
   "outputs": [],
   "source": [
    "rec_train, rec_test = train_test_split(ratings,test_size= 0.2, random_state= 42)\n",
    "users_train,games_train = rec_train[\"user_id\"].unique(), rec_train[\"app_id\"].unique()\n",
    "rec_test =rec_test.loc[rec_test[\"user_id\"].isin(users_train) & rec_test[\"app_id\"].isin(games_train)]"
   ]
  },
  {
   "cell_type": "markdown",
   "metadata": {},
   "source": [
    "# Model"
   ]
  },
  {
   "cell_type": "markdown",
   "metadata": {},
   "source": [
    "Collective Matrix Factorization"
   ]
  },
  {
   "cell_type": "code",
   "execution_count": 18,
   "metadata": {},
   "outputs": [
    {
     "name": "stdout",
     "output_type": "stream",
     "text": [
      "Training the model...\n",
      "Done. Time taken: 0:00:14.843728 \n",
      "\n",
      "Evaluating the model with train data...\n",
      "Time taken: 0:00:12.289018\n",
      "---------------\n",
      "Train Data\n",
      "---------------\n",
      "RMSE: 0.8355242259476812\n",
      "\n",
      "MAE: 28.57128497418425\n",
      "\n",
      "\n",
      "Adding train results to the dictionary...\n",
      "\n",
      "Evaluating the model with test data...\n",
      "Time taken: 0:00:04.750186\n",
      "---------------\n",
      "Test Data\n",
      "---------------\n",
      "RMSE: 0.9444242721263454\n",
      "\n",
      "MAPE: 32.22118964378746\n",
      "\n",
      "Precision@10: 0.8145785006775114\n",
      "\n",
      "Recall@10: 0.6818698298489629\n",
      "\n",
      "F1@10: 0.7143439362928201\n",
      "\n",
      "NDCG@5: 0.8353702063758119\n",
      "Storing the test results in the test dictionary...\n",
      "\n",
      "---------------------------------------------\n",
      "Total time taken to run this algorithm: 0:00:31.928638\n"
     ]
    }
   ],
   "source": [
    "cmf = CMF(k = 50,method = \"als\" ,lambda_ = 20, w_main = 0.6, w_item= 0.4, w_user= 0.4 )\n",
    "train, test = run_cmfrec(cmf, rec_train, rec_test, U = users_features, I = games_features)"
   ]
  },
  {
   "cell_type": "markdown",
   "metadata": {},
   "source": [
    "Other formulation"
   ]
  },
  {
   "cell_type": "code",
   "execution_count": 19,
   "metadata": {},
   "outputs": [
    {
     "name": "stdout",
     "output_type": "stream",
     "text": [
      "Training the model...\n",
      "Done. Time taken: 0:12:29.173888 \n",
      "\n",
      "Evaluating the model with train data...\n",
      "Time taken: 0:00:10.275269\n",
      "---------------\n",
      "Train Data\n",
      "---------------\n",
      "RMSE: 0.9247938682612628\n",
      "\n",
      "MAE: 31.20217276726808\n",
      "\n",
      "\n",
      "Adding train results to the dictionary...\n",
      "\n",
      "Evaluating the model with test data...\n",
      "Time taken: 0:00:04.515620\n",
      "---------------\n",
      "Test Data\n",
      "---------------\n",
      "RMSE: 0.9393888561565027\n",
      "\n",
      "MAPE: 31.77115485058204\n",
      "\n",
      "Precision@10: 0.8149806994948843\n",
      "\n",
      "Recall@10: 0.6748167451728876\n",
      "\n",
      "F1@10: 0.7114410528484865\n",
      "\n",
      "NDCG@5: 0.83373034323944\n",
      "Storing the test results in the test dictionary...\n",
      "\n",
      "---------------------------------------------\n",
      "Total time taken to run this algorithm: 0:12:44.006204\n"
     ]
    }
   ],
   "source": [
    "offset = ContentBased(k = 50, lambda_ = 35,user_bias = True, item_bias= True)\n",
    "train, test = run_cmfrec(offset, rec_train, rec_test, U = users_features, I = games_features)"
   ]
  }
 ],
 "metadata": {
  "kernelspec": {
   "display_name": "Python 3",
   "language": "python",
   "name": "python3"
  },
  "language_info": {
   "codemirror_mode": {
    "name": "ipython",
    "version": 3
   },
   "file_extension": ".py",
   "mimetype": "text/x-python",
   "name": "python",
   "nbconvert_exporter": "python",
   "pygments_lexer": "ipython3",
   "version": "3.11.9"
  }
 },
 "nbformat": 4,
 "nbformat_minor": 2
}
