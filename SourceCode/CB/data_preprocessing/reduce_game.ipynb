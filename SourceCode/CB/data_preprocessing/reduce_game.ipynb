{
 "cells": [
  {
   "cell_type": "code",
   "execution_count": 1,
   "metadata": {},
   "outputs": [],
   "source": [
    "import pandas as pd\n",
    "import numpy as np\n",
    "import matplotlib.pyplot as plt\n",
    "import pickle as pkl\n",
    "import os\n",
    "current_dir = os.getcwd()\n",
    "rootpath = os.path.abspath(os.path.join(current_dir, \"..\",\"..\"))"
   ]
  },
  {
   "cell_type": "code",
   "execution_count": 2,
   "metadata": {},
   "outputs": [],
   "source": [
    "games=pd.read_csv(rootpath+\"/CB/data/games.csv\",usecols=[\"title\",\"price_final\",\"app_id\"])\n",
    "content=pd.read_json(rootpath+\"/CB/data/games_metadata.json\",lines=True)\n",
    "rec=pd.read_csv(rootpath+\"/CB/data/recommendations.csv\")"
   ]
  },
  {
   "cell_type": "code",
   "execution_count": 5,
   "metadata": {},
   "outputs": [
    {
     "data": {
      "text/html": [
       "<div>\n",
       "<style scoped>\n",
       "    .dataframe tbody tr th:only-of-type {\n",
       "        vertical-align: middle;\n",
       "    }\n",
       "\n",
       "    .dataframe tbody tr th {\n",
       "        vertical-align: top;\n",
       "    }\n",
       "\n",
       "    .dataframe thead th {\n",
       "        text-align: right;\n",
       "    }\n",
       "</style>\n",
       "<table border=\"1\" class=\"dataframe\">\n",
       "  <thead>\n",
       "    <tr style=\"text-align: right;\">\n",
       "      <th></th>\n",
       "      <th>app_id</th>\n",
       "      <th>title</th>\n",
       "      <th>price_final</th>\n",
       "    </tr>\n",
       "  </thead>\n",
       "  <tbody>\n",
       "    <tr>\n",
       "      <th>0</th>\n",
       "      <td>13500</td>\n",
       "      <td>Prince of Persia: Warrior Within™</td>\n",
       "      <td>9.99</td>\n",
       "    </tr>\n",
       "    <tr>\n",
       "      <th>1</th>\n",
       "      <td>22364</td>\n",
       "      <td>BRINK: Agents of Change</td>\n",
       "      <td>2.99</td>\n",
       "    </tr>\n",
       "    <tr>\n",
       "      <th>2</th>\n",
       "      <td>113020</td>\n",
       "      <td>Monaco: What's Yours Is Mine</td>\n",
       "      <td>14.99</td>\n",
       "    </tr>\n",
       "    <tr>\n",
       "      <th>3</th>\n",
       "      <td>226560</td>\n",
       "      <td>Escape Dead Island</td>\n",
       "      <td>14.99</td>\n",
       "    </tr>\n",
       "    <tr>\n",
       "      <th>4</th>\n",
       "      <td>249050</td>\n",
       "      <td>Dungeon of the ENDLESS™</td>\n",
       "      <td>11.99</td>\n",
       "    </tr>\n",
       "  </tbody>\n",
       "</table>\n",
       "</div>"
      ],
      "text/plain": [
       "   app_id                              title  price_final\n",
       "0   13500  Prince of Persia: Warrior Within™         9.99\n",
       "1   22364            BRINK: Agents of Change         2.99\n",
       "2  113020       Monaco: What's Yours Is Mine        14.99\n",
       "3  226560                 Escape Dead Island        14.99\n",
       "4  249050            Dungeon of the ENDLESS™        11.99"
      ]
     },
     "execution_count": 5,
     "metadata": {},
     "output_type": "execute_result"
    }
   ],
   "source": [
    "games.head()"
   ]
  },
  {
   "cell_type": "code",
   "execution_count": 6,
   "metadata": {},
   "outputs": [
    {
     "data": {
      "text/plain": [
       "(31897, 3)"
      ]
     },
     "execution_count": 6,
     "metadata": {},
     "output_type": "execute_result"
    }
   ],
   "source": [
    "game_id_filter=rec[\"app_id\"].unique().tolist()\n",
    "games=games[games[\"app_id\"].isin(game_id_filter)]\n",
    "games.shape"
   ]
  },
  {
   "cell_type": "code",
   "execution_count": 7,
   "metadata": {},
   "outputs": [
    {
     "data": {
      "text/plain": [
       "(31897, 3)"
      ]
     },
     "execution_count": 7,
     "metadata": {},
     "output_type": "execute_result"
    }
   ],
   "source": [
    "games.shape"
   ]
  },
  {
   "cell_type": "code",
   "execution_count": 8,
   "metadata": {},
   "outputs": [],
   "source": [
    "games=games.merge(content,on=\"app_id\")"
   ]
  },
  {
   "cell_type": "code",
   "execution_count": 10,
   "metadata": {},
   "outputs": [],
   "source": [
    "\"\"\"with open(rootpath+\"/CB/data/50000_games.pkl\",\"wb\") as f:\n",
    "    pkl.dump(games,f)\"\"\""
   ]
  },
  {
   "cell_type": "code",
   "execution_count": 9,
   "metadata": {},
   "outputs": [],
   "source": [
    "games_copy=games.copy()"
   ]
  },
  {
   "cell_type": "code",
   "execution_count": 10,
   "metadata": {},
   "outputs": [],
   "source": [
    "games_copy[\"description\"]=games_copy[\"description\"].apply(lambda x:x.split())\n",
    "games_copy[\"content\"]=games_copy[\"description\"]+games_copy[\"tags\"]\n",
    "games_copy[\"content\"]=games_copy[\"content\"].apply(lambda x:\" \".join(x))"
   ]
  },
  {
   "cell_type": "code",
   "execution_count": 11,
   "metadata": {},
   "outputs": [
    {
     "data": {
      "text/plain": [
       "0    Enter the dark underworld of Prince of Persia ...\n",
       "1    Monaco: What's Yours Is Mine is a single playe...\n",
       "2    Escape Dead Island is a Survival-Mystery adven...\n",
       "3    Dungeon of the Endless is a Rogue-Like Dungeon...\n",
       "4    “METAL SLUG 3”, the masterpiece in SNK’s emble...\n",
       "Name: content, dtype: object"
      ]
     },
     "execution_count": 11,
     "metadata": {},
     "output_type": "execute_result"
    }
   ],
   "source": [
    "games_copy[\"content\"].head()"
   ]
  },
  {
   "cell_type": "code",
   "execution_count": 12,
   "metadata": {},
   "outputs": [
    {
     "data": {
      "text/plain": [
       "(31322, 5)"
      ]
     },
     "execution_count": 12,
     "metadata": {},
     "output_type": "execute_result"
    }
   ],
   "source": [
    "to_drop=games_copy[games_copy[\"content\"]==\"\"].index.tolist()\n",
    "games=games.drop(to_drop,axis=0)\n",
    "games.shape"
   ]
  },
  {
   "cell_type": "markdown",
   "metadata": {},
   "source": []
  },
  {
   "cell_type": "code",
   "execution_count": 13,
   "metadata": {},
   "outputs": [],
   "source": [
    "games=games[:10000].reset_index(drop=True)"
   ]
  },
  {
   "cell_type": "code",
   "execution_count": 14,
   "metadata": {},
   "outputs": [
    {
     "data": {
      "text/html": [
       "<div>\n",
       "<style scoped>\n",
       "    .dataframe tbody tr th:only-of-type {\n",
       "        vertical-align: middle;\n",
       "    }\n",
       "\n",
       "    .dataframe tbody tr th {\n",
       "        vertical-align: top;\n",
       "    }\n",
       "\n",
       "    .dataframe thead th {\n",
       "        text-align: right;\n",
       "    }\n",
       "</style>\n",
       "<table border=\"1\" class=\"dataframe\">\n",
       "  <thead>\n",
       "    <tr style=\"text-align: right;\">\n",
       "      <th></th>\n",
       "      <th>app_id</th>\n",
       "      <th>title</th>\n",
       "      <th>price_final</th>\n",
       "      <th>description</th>\n",
       "      <th>tags</th>\n",
       "    </tr>\n",
       "  </thead>\n",
       "  <tbody>\n",
       "    <tr>\n",
       "      <th>0</th>\n",
       "      <td>13500</td>\n",
       "      <td>Prince of Persia: Warrior Within™</td>\n",
       "      <td>9.99</td>\n",
       "      <td>Enter the dark underworld of Prince of Persia ...</td>\n",
       "      <td>[Action, Adventure, Parkour, Third Person, Gre...</td>\n",
       "    </tr>\n",
       "    <tr>\n",
       "      <th>1</th>\n",
       "      <td>113020</td>\n",
       "      <td>Monaco: What's Yours Is Mine</td>\n",
       "      <td>14.99</td>\n",
       "      <td>Monaco: What's Yours Is Mine is a single playe...</td>\n",
       "      <td>[Co-op, Stealth, Indie, Heist, Local Co-Op, St...</td>\n",
       "    </tr>\n",
       "    <tr>\n",
       "      <th>2</th>\n",
       "      <td>226560</td>\n",
       "      <td>Escape Dead Island</td>\n",
       "      <td>14.99</td>\n",
       "      <td>Escape Dead Island is a Survival-Mystery adven...</td>\n",
       "      <td>[Zombies, Adventure, Survival, Action, Third P...</td>\n",
       "    </tr>\n",
       "    <tr>\n",
       "      <th>3</th>\n",
       "      <td>249050</td>\n",
       "      <td>Dungeon of the ENDLESS™</td>\n",
       "      <td>11.99</td>\n",
       "      <td>Dungeon of the Endless is a Rogue-Like Dungeon...</td>\n",
       "      <td>[Roguelike, Strategy, Tower Defense, Pixel Gra...</td>\n",
       "    </tr>\n",
       "    <tr>\n",
       "      <th>4</th>\n",
       "      <td>250180</td>\n",
       "      <td>METAL SLUG 3</td>\n",
       "      <td>7.99</td>\n",
       "      <td>“METAL SLUG 3”, the masterpiece in SNK’s emble...</td>\n",
       "      <td>[Arcade, Classic, Action, Co-op, Side Scroller...</td>\n",
       "    </tr>\n",
       "    <tr>\n",
       "      <th>...</th>\n",
       "      <td>...</td>\n",
       "      <td>...</td>\n",
       "      <td>...</td>\n",
       "      <td>...</td>\n",
       "      <td>...</td>\n",
       "    </tr>\n",
       "    <tr>\n",
       "      <th>9995</th>\n",
       "      <td>1437820</td>\n",
       "      <td>Heroes of the Three Kingdoms</td>\n",
       "      <td>0.99</td>\n",
       "      <td>《三国群英传》是由宇峻奥汀（Odin）公司出品的一款策略战棋游戏，也是三国群英传系列的第一部...</td>\n",
       "      <td>[Strategy, Strategy RPG, Singleplayer, 2D, Mil...</td>\n",
       "    </tr>\n",
       "    <tr>\n",
       "      <th>9996</th>\n",
       "      <td>1488810</td>\n",
       "      <td>Rabbit Hole</td>\n",
       "      <td>7.99</td>\n",
       "      <td>An ancient evil has descended upon the rural t...</td>\n",
       "      <td>[Adventure, Action, Indie, Gore, Violent, Thir...</td>\n",
       "    </tr>\n",
       "    <tr>\n",
       "      <th>9997</th>\n",
       "      <td>1493970</td>\n",
       "      <td>The Chameleon</td>\n",
       "      <td>9.99</td>\n",
       "      <td>A tense stealth game with super-powers, set in...</td>\n",
       "      <td>[Stealth, Retro, Heist, 3D, Third Person, Open...</td>\n",
       "    </tr>\n",
       "    <tr>\n",
       "      <th>9998</th>\n",
       "      <td>1495420</td>\n",
       "      <td>Dragon Creek</td>\n",
       "      <td>14.99</td>\n",
       "      <td>Ever wanted your own dragon? Dragon Creek is a...</td>\n",
       "      <td>[Card Battler, Side Scroller, Time Management,...</td>\n",
       "    </tr>\n",
       "    <tr>\n",
       "      <th>9999</th>\n",
       "      <td>1517890</td>\n",
       "      <td>SynthVR</td>\n",
       "      <td>24.99</td>\n",
       "      <td>A modular synthesizer environment for virtual ...</td>\n",
       "      <td>[Audio Production, Utilities, VR, Electronic M...</td>\n",
       "    </tr>\n",
       "  </tbody>\n",
       "</table>\n",
       "<p>10000 rows × 5 columns</p>\n",
       "</div>"
      ],
      "text/plain": [
       "       app_id                              title  price_final  \\\n",
       "0       13500  Prince of Persia: Warrior Within™         9.99   \n",
       "1      113020       Monaco: What's Yours Is Mine        14.99   \n",
       "2      226560                 Escape Dead Island        14.99   \n",
       "3      249050            Dungeon of the ENDLESS™        11.99   \n",
       "4      250180                       METAL SLUG 3         7.99   \n",
       "...       ...                                ...          ...   \n",
       "9995  1437820       Heroes of the Three Kingdoms         0.99   \n",
       "9996  1488810                        Rabbit Hole         7.99   \n",
       "9997  1493970                      The Chameleon         9.99   \n",
       "9998  1495420                       Dragon Creek        14.99   \n",
       "9999  1517890                            SynthVR        24.99   \n",
       "\n",
       "                                            description  \\\n",
       "0     Enter the dark underworld of Prince of Persia ...   \n",
       "1     Monaco: What's Yours Is Mine is a single playe...   \n",
       "2     Escape Dead Island is a Survival-Mystery adven...   \n",
       "3     Dungeon of the Endless is a Rogue-Like Dungeon...   \n",
       "4     “METAL SLUG 3”, the masterpiece in SNK’s emble...   \n",
       "...                                                 ...   \n",
       "9995  《三国群英传》是由宇峻奥汀（Odin）公司出品的一款策略战棋游戏，也是三国群英传系列的第一部...   \n",
       "9996  An ancient evil has descended upon the rural t...   \n",
       "9997  A tense stealth game with super-powers, set in...   \n",
       "9998  Ever wanted your own dragon? Dragon Creek is a...   \n",
       "9999  A modular synthesizer environment for virtual ...   \n",
       "\n",
       "                                                   tags  \n",
       "0     [Action, Adventure, Parkour, Third Person, Gre...  \n",
       "1     [Co-op, Stealth, Indie, Heist, Local Co-Op, St...  \n",
       "2     [Zombies, Adventure, Survival, Action, Third P...  \n",
       "3     [Roguelike, Strategy, Tower Defense, Pixel Gra...  \n",
       "4     [Arcade, Classic, Action, Co-op, Side Scroller...  \n",
       "...                                                 ...  \n",
       "9995  [Strategy, Strategy RPG, Singleplayer, 2D, Mil...  \n",
       "9996  [Adventure, Action, Indie, Gore, Violent, Thir...  \n",
       "9997  [Stealth, Retro, Heist, 3D, Third Person, Open...  \n",
       "9998  [Card Battler, Side Scroller, Time Management,...  \n",
       "9999  [Audio Production, Utilities, VR, Electronic M...  \n",
       "\n",
       "[10000 rows x 5 columns]"
      ]
     },
     "execution_count": 14,
     "metadata": {},
     "output_type": "execute_result"
    }
   ],
   "source": [
    "games"
   ]
  },
  {
   "cell_type": "code",
   "execution_count": 79,
   "metadata": {},
   "outputs": [],
   "source": [
    "#pkl.dump(games,open(rootpath+\"CB/data/reduced_games.pkl\",'wb'))"
   ]
  }
 ],
 "metadata": {
  "kernelspec": {
   "display_name": "Python 3",
   "language": "python",
   "name": "python3"
  },
  "language_info": {
   "codemirror_mode": {
    "name": "ipython",
    "version": 3
   },
   "file_extension": ".py",
   "mimetype": "text/x-python",
   "name": "python",
   "nbconvert_exporter": "python",
   "pygments_lexer": "ipython3",
   "version": "3.11.9"
  }
 },
 "nbformat": 4,
 "nbformat_minor": 2
}
