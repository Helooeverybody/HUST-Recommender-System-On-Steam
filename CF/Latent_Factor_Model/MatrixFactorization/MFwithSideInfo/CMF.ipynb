{
 "cells": [
  {
   "cell_type": "code",
   "execution_count": 3,
   "metadata": {},
   "outputs": [],
   "source": [
    "import numpy as np\n",
    "import pandas as pd\n",
    "from cmfrec import CMF, ContentBased\n",
    "from sklearn.model_selection import train_test_split\n",
    "from sklearn.metrics import mean_squared_error\n",
    "from collections import defaultdict\n",
    "\n"
   ]
  },
  {
   "cell_type": "markdown",
   "metadata": {},
   "source": [
    "Load data"
   ]
  },
  {
   "cell_type": "code",
   "execution_count": 4,
   "metadata": {},
   "outputs": [],
   "source": [
    "def reduce_memory(df):\n",
    "    for col in df.columns:\n",
    "        if df[col].dtype == 'float64':\n",
    "            df[col] = df[col].astype('float32')\n",
    "        if df[col].dtype == 'int64':\n",
    "            df[col] = df[col].astype('int32')\n",
    "        return df\n",
    "games_data = reduce_memory(pd.read_csv('../data/games.csv'))\n",
    "users_data = reduce_memory(pd.read_csv('../reduced_data/users.csv'))\n",
    "rec_data = reduce_memory(pd.read_csv('../reduced_data/recommendations.csv'))\n",
    "gamesmeta_data = pd.read_json('../data/games_metadata.json',lines = True)"
   ]
  },
  {
   "cell_type": "markdown",
   "metadata": {},
   "source": [
    "Pre-process data"
   ]
  },
  {
   "cell_type": "code",
   "execution_count": 5,
   "metadata": {},
   "outputs": [
    {
     "name": "stderr",
     "output_type": "stream",
     "text": [
      "C:\\Users\\Acer\\AppData\\Local\\Temp\\ipykernel_17004\\1416395558.py:2: SettingWithCopyWarning: \n",
      "A value is trying to be set on a copy of a slice from a DataFrame\n",
      "\n",
      "See the caveats in the documentation: https://pandas.pydata.org/pandas-docs/stable/user_guide/indexing.html#returning-a-view-versus-a-copy\n",
      "  MFrec_data.rename(columns={'user_id': 'UserId', \"app_id\": \"ItemId\", \"is_recommended\":\"Rating\"}, inplace=True)\n"
     ]
    }
   ],
   "source": [
    "MFrec_data = rec_data[[\"user_id\",\"app_id\",\"is_recommended\"]]\n",
    "MFrec_data.rename(columns={'user_id': 'UserId', \"app_id\": \"ItemId\", \"is_recommended\":\"Rating\"}, inplace=True)"
   ]
  },
  {
   "cell_type": "code",
   "execution_count": 6,
   "metadata": {},
   "outputs": [
    {
     "name": "stdout",
     "output_type": "stream",
     "text": [
      "(3161313, 3)\n",
      "(276576, 3)\n",
      "(312852, 3)\n",
      "(257321, 3)\n",
      "(101052, 3)\n"
     ]
    }
   ],
   "source": [
    "users_unique = MFrec_data[\"UserId\"].unique()\n",
    "games_unique = MFrec_data[\"ItemId\"].unique()\n",
    "users_train, users_test = train_test_split(users_unique, test_size= 0.05, random_state= 123)\n",
    "games_train, games_test = train_test_split(games_unique, test_size= 0.1, random_state= 40)\n",
    "rec_train, rec_test = train_test_split(MFrec_data.loc[MFrec_data[\"UserId\"].isin(users_train)\n",
    "                                                     & MFrec_data[\"ItemId\"].isin(games_train)],\n",
    "                                                     test_size= 0.1, random_state= 1)\n",
    "\n",
    "users_train,games_train = rec_train[\"UserId\"].unique(), rec_train[\"ItemId\"].unique()\n",
    "\n",
    "rec_test1 =rec_test.loc[rec_test[\"UserId\"].isin(users_train)&\n",
    "                                          rec_test[\"ItemId\"].isin(games_train)]\n",
    "rec_test2 = MFrec_data.loc[MFrec_data[\"UserId\"].isin(users_train)&\n",
    "                                          ~MFrec_data[\"ItemId\"].isin(games_train)]\n",
    "rec_test3 = MFrec_data.loc[~MFrec_data[\"UserId\"].isin(users_train)&\n",
    "                                          MFrec_data[\"ItemId\"].isin(games_train)]\n",
    "rec_test4 = MFrec_data.loc[~MFrec_data[\"UserId\"].isin(users_train)&\n",
    "                                          ~MFrec_data[\"ItemId\"].isin(games_train)]\n",
    "print(rec_train.shape)\n",
    "print(rec_test1.shape)\n",
    "print(rec_test2.shape)\n",
    "print(rec_test3.shape)\n",
    "print(rec_test4.shape)"
   ]
  },
  {
   "cell_type": "code",
   "execution_count": 7,
   "metadata": {},
   "outputs": [],
   "source": [
    "sentiment_mapping = {\n",
    "    'Overwhelmingly Positive':8,\n",
    "    'Very Positive':7,\n",
    "    'Positive': 6,\n",
    "    'Mostly Positive': 5,\n",
    "    'Mixed': 4,\n",
    "    'Mostly Negative': 3,\n",
    "    'Negative': 2,\n",
    "    'Very Negative': 1,\n",
    "    'Overwhelmingly Negative': 0, \n",
    "}\n",
    "games_data['rating'].replace(sentiment_mapping,inplace=True)\n",
    "MFgames_data  = games_data.drop(['title','win','mac','linux','price_original','steam_deck','date_release'], axis = 1).rename(columns={\"app_id\" :\"ItemId\"})\n",
    "MFgames_data.iloc[:,1:] = (MFgames_data.iloc[:,1:]-MFgames_data.iloc[:,1:].mean()) / MFgames_data.iloc[:,1:].std()\n",
    "\n",
    "MFusers_data = users_data.rename(columns={\"user_id\" : \"UserId\"})\n",
    "MFusers_data.iloc[:,1:] = (MFusers_data.iloc[:,1:] - MFusers_data.iloc[:,1:].mean()) / MFusers_data.iloc[:,1:].std()"
   ]
  },
  {
   "cell_type": "markdown",
   "metadata": {},
   "source": [
    "# Model"
   ]
  },
  {
   "cell_type": "markdown",
   "metadata": {},
   "source": [
    "Normal Matrix Factoriztion"
   ]
  },
  {
   "cell_type": "code",
   "execution_count": 9,
   "metadata": {},
   "outputs": [
    {
     "data": {
      "text/plain": [
       "Collective matrix factorization model\n",
       "(explicit-feedback variant)\n"
      ]
     },
     "execution_count": 9,
     "metadata": {},
     "output_type": "execute_result"
    }
   ],
   "source": [
    "model = CMF(method = \"als\", k = 40, lambda_ = 1e+1)\n",
    "model.fit(rec_train)"
   ]
  },
  {
   "cell_type": "markdown",
   "metadata": {},
   "source": [
    "Matrix Factorization with side info"
   ]
  },
  {
   "cell_type": "code",
   "execution_count": 6,
   "metadata": {},
   "outputs": [],
   "source": [
    "model_with_sideinfo = CMF(method = \"als\", lambda_ = 1e+1, w_main = 0.5, w_item= 0.25, w_user= 0.25)\n",
    "model_with_sideinfo.fit(X = MFrec_data, U = MFusers_data, I = MFgames_data)"
   ]
  },
  {
   "cell_type": "markdown",
   "metadata": {},
   "source": [
    "# Predict one user"
   ]
  },
  {
   "cell_type": "markdown",
   "metadata": {},
   "source": [
    "View info the user"
   ]
  },
  {
   "cell_type": "code",
   "execution_count": 8,
   "metadata": {},
   "outputs": [],
   "source": [
    "title = defaultdict(lambda: 0)\n",
    "reviews = defaultdict(lambda : 0)\n",
    "positive_ratio = defaultdict(lambda : 0)\n",
    "for i in games_data.itertuples():\n",
    "    title[i.app_id] = i.title\n",
    "    reviews[i.app_id] = i.user_reviews\n",
    "    positive_ratio[i.app_id] = i.positive_ratio\n",
    "   "
   ]
  },
  {
   "cell_type": "code",
   "execution_count": 9,
   "metadata": {},
   "outputs": [
    {
     "data": {
      "text/html": [
       "<div>\n",
       "<style scoped>\n",
       "    .dataframe tbody tr th:only-of-type {\n",
       "        vertical-align: middle;\n",
       "    }\n",
       "\n",
       "    .dataframe tbody tr th {\n",
       "        vertical-align: top;\n",
       "    }\n",
       "\n",
       "    .dataframe thead th {\n",
       "        text-align: right;\n",
       "    }\n",
       "</style>\n",
       "<table border=\"1\" class=\"dataframe\">\n",
       "  <thead>\n",
       "    <tr style=\"text-align: right;\">\n",
       "      <th></th>\n",
       "      <th>user_id</th>\n",
       "      <th>products</th>\n",
       "      <th>reviews</th>\n",
       "    </tr>\n",
       "  </thead>\n",
       "  <tbody>\n",
       "    <tr>\n",
       "      <th>5310600</th>\n",
       "      <td>10</td>\n",
       "      <td>387</td>\n",
       "      <td>2</td>\n",
       "    </tr>\n",
       "  </tbody>\n",
       "</table>\n",
       "</div>"
      ],
      "text/plain": [
       "         user_id  products  reviews\n",
       "5310600       10       387        2"
      ]
     },
     "execution_count": 9,
     "metadata": {},
     "output_type": "execute_result"
    },
    {
     "data": {
      "text/html": [
       "<div>\n",
       "<style scoped>\n",
       "    .dataframe tbody tr th:only-of-type {\n",
       "        vertical-align: middle;\n",
       "    }\n",
       "\n",
       "    .dataframe tbody tr th {\n",
       "        vertical-align: top;\n",
       "    }\n",
       "\n",
       "    .dataframe thead th {\n",
       "        text-align: right;\n",
       "    }\n",
       "</style>\n",
       "<table border=\"1\" class=\"dataframe\">\n",
       "  <thead>\n",
       "    <tr style=\"text-align: right;\">\n",
       "      <th></th>\n",
       "      <th>app_id</th>\n",
       "      <th>helpful</th>\n",
       "      <th>funny</th>\n",
       "      <th>date</th>\n",
       "      <th>is_recommended</th>\n",
       "      <th>hours</th>\n",
       "      <th>user_id</th>\n",
       "      <th>review_id</th>\n",
       "      <th>Movie</th>\n",
       "      <th>Number_of_reviews</th>\n",
       "      <th>positive_ratio</th>\n",
       "    </tr>\n",
       "  </thead>\n",
       "  <tbody>\n",
       "    <tr>\n",
       "      <th>305473</th>\n",
       "      <td>394360</td>\n",
       "      <td>0</td>\n",
       "      <td>0</td>\n",
       "      <td>2021-11-26</td>\n",
       "      <td>True</td>\n",
       "      <td>107.0</td>\n",
       "      <td>10</td>\n",
       "      <td>305473</td>\n",
       "      <td>Hearts of Iron IV</td>\n",
       "      <td>176243</td>\n",
       "      <td>92</td>\n",
       "    </tr>\n",
       "    <tr>\n",
       "      <th>9771144</th>\n",
       "      <td>469600</td>\n",
       "      <td>0</td>\n",
       "      <td>0</td>\n",
       "      <td>2021-10-13</td>\n",
       "      <td>True</td>\n",
       "      <td>26.2</td>\n",
       "      <td>10</td>\n",
       "      <td>9771144</td>\n",
       "      <td>Legion TD 2 - Multiplayer Tower Defense</td>\n",
       "      <td>8426</td>\n",
       "      <td>86</td>\n",
       "    </tr>\n",
       "  </tbody>\n",
       "</table>\n",
       "</div>"
      ],
      "text/plain": [
       "         app_id  helpful  funny        date  is_recommended  hours  user_id  \\\n",
       "305473   394360        0      0  2021-11-26            True  107.0       10   \n",
       "9771144  469600        0      0  2021-10-13            True   26.2       10   \n",
       "\n",
       "         review_id                                    Movie  \\\n",
       "305473      305473                        Hearts of Iron IV   \n",
       "9771144    9771144  Legion TD 2 - Multiplayer Tower Defense   \n",
       "\n",
       "         Number_of_reviews  positive_ratio  \n",
       "305473              176243              92  \n",
       "9771144               8426              86  "
      ]
     },
     "execution_count": 9,
     "metadata": {},
     "output_type": "execute_result"
    }
   ],
   "source": [
    "userId = 10\n",
    "users_data[lambda x: x[\"user_id\"] == userId]\n",
    "rec_data[lambda x: x[\"user_id\"] == userId].assign(Movie=lambda x: x[\"app_id\"].map(title),\n",
    "                                                  Number_of_reviews = lambda x: x[\"app_id\"].map(reviews),\n",
    "                                                  positive_ratio=lambda x: x[\"app_id\"].map(positive_ratio))"
   ]
  },
  {
   "cell_type": "markdown",
   "metadata": {},
   "source": [
    "Examine top recommended lists"
   ]
  },
  {
   "cell_type": "code",
   "execution_count": 10,
   "metadata": {},
   "outputs": [],
   "source": [
    "exclude = MFrec_data[\"ItemId\"].loc[MFrec_data['UserId'] == userId]\n",
    "\n",
    "rec_list_m = model.topN(user =userId, n= 5, exclude =exclude)\n",
    "rec_list_msideinfo =model_with_sideinfo.topN(user =userId, n=5, exclude = exclude)"
   ]
  },
  {
   "cell_type": "code",
   "execution_count": 11,
   "metadata": {},
   "outputs": [
    {
     "name": "stdout",
     "output_type": "stream",
     "text": [
      "Recommended from ratings-only model\n",
      "1) - Ready or Not - Average Rating: 0.91 - Number of ratings: 95170\n",
      "2) - METAL GEAR SOLID V: THE PHANTOM PAIN - Average Rating: 0.93 - Number of ratings: 57296\n",
      "3) - Fallout: New Vegas - Average Rating: 0.95 - Number of ratings: 147417\n",
      "4) - DOOM - Average Rating: 0.96 - Number of ratings: 121343\n",
      "5) - Pavlov VR - Average Rating: 0.94 - Number of ratings: 34735\n",
      "----------------\n",
      "Recommended from hybrid model\n",
      "1) - Among Us - Average Rating: 0.88 - Number of ratings: 587821\n",
      "2) - Warframe - Average Rating: 0.88 - Number of ratings: 542198\n",
      "3) - Grand Theft Auto IV: The Complete Edition - Average Rating: 0.79 - Number of ratings: 114405\n",
      "4) - DARK SOULS™ III - Average Rating: 0.93 - Number of ratings: 230407\n",
      "5) - NieR:Automata™ - Average Rating: 0.86 - Number of ratings: 86896\n"
     ]
    }
   ],
   "source": [
    "avg_games_rating = defaultdict(lambda: 0)\n",
    "for i in MFrec_data.groupby(\"ItemId\")[\"Rating\"].mean().to_frame().itertuples():\n",
    "    avg_games_rating[i.Index] = i.Rating\n",
    "def printRec(reclist):\n",
    "    list_w_info = [str(m + 1) + \") - \" + title[reclist[m]] +\\\n",
    "        \" - Average Rating: \" + str(np.round(avg_games_rating[reclist[m]], 2))+\\\n",
    "        \" - Number of ratings: \" + str(reviews[reclist[m]])\\\n",
    "                   for m in range(len(reclist))]\n",
    "    print(\"\\n\".join(list_w_info))\n",
    "print(\"Recommended from ratings-only model\")\n",
    "printRec(rec_list_m)\n",
    "print(\"----------------\")\n",
    "print(\"Recommended from hybrid model\")\n",
    "printRec(rec_list_msideinfo)"
   ]
  },
  {
   "cell_type": "markdown",
   "metadata": {},
   "source": [
    "# Evaluate model"
   ]
  },
  {
   "cell_type": "markdown",
   "metadata": {},
   "source": [
    "Train-test split"
   ]
  },
  {
   "cell_type": "code",
   "execution_count": 12,
   "metadata": {},
   "outputs": [
    {
     "name": "stdout",
     "output_type": "stream",
     "text": [
      "(4046993, 3)\n",
      "(4787903, 3)\n",
      "(7942295, 3)\n",
      "(3069932, 3)\n"
     ]
    }
   ],
   "source": [
    "users_unique = MFrec_data[\"UserId\"].unique()\n",
    "games_unique = MFrec_data[\"ItemId\"].unique()\n",
    "users_train, users_test = train_test_split(users_unique, test_size= 0.2, random_state= 123)\n",
    "games_train, games_test = train_test_split(games_unique, test_size= 0.2, random_state= 42)\n",
    "rec_train, rec_test = train_test_split(MFrec_data.loc[MFrec_data[\"UserId\"].isin(users_train)\n",
    "                                                     & MFrec_data[\"ItemId\"].isin(games_train)],\n",
    "                                                     test_size= 0.2, random_state= 1)\n",
    "\n",
    "users_train,games_train = rec_train[\"UserId\"].unique(), rec_train[\"ItemId\"].unique()\n",
    "\n",
    "rec_test1 =rec_test.loc[rec_test[\"UserId\"].isin(users_train)&\n",
    "                                          rec_test[\"ItemId\"].isin(games_train)]\n",
    "rec_test2 = MFrec_data.loc[MFrec_data[\"UserId\"].isin(users_train)&\n",
    "                                          ~MFrec_data[\"ItemId\"].isin(games_train)]\n",
    "rec_test3 = MFrec_data.loc[~MFrec_data[\"UserId\"].isin(users_train)&\n",
    "                                          MFrec_data[\"ItemId\"].isin(games_train)]\n",
    "rec_test4 = MFrec_data.loc[~MFrec_data[\"UserId\"].isin(users_train)&\n",
    "                                          ~MFrec_data[\"ItemId\"].isin(games_train)]\n",
    "\n",
    "print(rec_test1.shape)\n",
    "print(rec_test2.shape)\n",
    "print(rec_test3.shape)\n",
    "print(rec_test4.shape)"
   ]
  },
  {
   "cell_type": "code",
   "execution_count": 13,
   "metadata": {},
   "outputs": [],
   "source": [
    "users_data_train = MFusers_data.loc[lambda x: x[\"UserId\"].isin(users_train)]\n",
    "games_data_train = MFgames_data.loc[lambda x: x[\"ItemId\"].isin(games_train)]\n",
    "\n",
    "m_classic = CMF(k=40).fit(rec_train)\n",
    "m_collective = CMF(k=40, w_main=0.5, w_user=0.5, w_item=0.5).fit(X=rec_train,U=users_data_train,I=games_data_train)"
   ]
  },
  {
   "cell_type": "code",
   "execution_count": 19,
   "metadata": {},
   "outputs": [
    {
     "name": "stdout",
     "output_type": "stream",
     "text": [
      "RMSE type 1 ratings-only model: 0.338 [rho: 0.349]\n"
     ]
    },
    {
     "name": "stderr",
     "output_type": "stream",
     "text": [
      "C:\\Users\\Acer\\AppData\\Local\\Packages\\PythonSoftwareFoundation.Python.3.11_qbz5n2kfra8p0\\LocalCache\\local-packages\\Python311\\site-packages\\sklearn\\metrics\\_regression.py:483: FutureWarning: 'squared' is deprecated in version 1.4 and will be removed in 1.6. To calculate the root mean squared error, use the function'root_mean_squared_error'.\n",
      "  warnings.warn(\n"
     ]
    }
   ],
   "source": [
    "pred_ratings_only = m_classic.predict(rec_test1[\"UserId\"], rec_test1[\"ItemId\"])\n",
    "print(\"RMSE type 1 ratings-only model: %.3f [rho: %.3f]\" %(np.sqrt(mean_squared_error(rec_test1[\"Rating\"], pred_ratings_only, squared=True)),np.corrcoef(rec_test1[\"Rating\"], pred_ratings_only)[0,1]))"
   ]
  },
  {
   "cell_type": "code",
   "execution_count": 20,
   "metadata": {},
   "outputs": [
    {
     "name": "stdout",
     "output_type": "stream",
     "text": [
      "RMSE type 1 hybrid model: 0.696 [rho: 0.019]\n"
     ]
    },
    {
     "name": "stderr",
     "output_type": "stream",
     "text": [
      "C:\\Users\\Acer\\AppData\\Local\\Packages\\PythonSoftwareFoundation.Python.3.11_qbz5n2kfra8p0\\LocalCache\\local-packages\\Python311\\site-packages\\sklearn\\metrics\\_regression.py:483: FutureWarning: 'squared' is deprecated in version 1.4 and will be removed in 1.6. To calculate the root mean squared error, use the function'root_mean_squared_error'.\n",
      "  warnings.warn(\n"
     ]
    }
   ],
   "source": [
    "\n",
    "pred_hybrid = m_collective.predict(rec_test1[\"UserId\"], rec_test1[\"ItemId\"])\n",
    "print(\"RMSE type 1 hybrid model: %.3f [rho: %.3f]\" %(np.sqrt(mean_squared_error(rec_test1[\"Rating\"],pred_hybrid,squared=True)),np.corrcoef(rec_test1[\"Rating\"], pred_hybrid)[0,1]))"
   ]
  },
  {
   "cell_type": "code",
   "execution_count": null,
   "metadata": {},
   "outputs": [],
   "source": []
  }
 ],
 "metadata": {
  "kernelspec": {
   "display_name": "Python 3",
   "language": "python",
   "name": "python3"
  },
  "language_info": {
   "codemirror_mode": {
    "name": "ipython",
    "version": 3
   },
   "file_extension": ".py",
   "mimetype": "text/x-python",
   "name": "python",
   "nbconvert_exporter": "python",
   "pygments_lexer": "ipython3",
   "version": "3.11.9"
  }
 },
 "nbformat": 4,
 "nbformat_minor": 2
}
