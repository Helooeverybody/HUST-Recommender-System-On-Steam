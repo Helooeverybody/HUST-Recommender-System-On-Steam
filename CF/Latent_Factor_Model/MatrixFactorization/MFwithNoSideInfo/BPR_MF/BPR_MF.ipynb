{
 "cells": [
  {
   "cell_type": "code",
   "execution_count": 1,
   "metadata": {},
   "outputs": [],
   "source": [
    "import pandas as pd\n",
    "from sklearn.model_selection import train_test_split\n",
    "from dataset import BprMFData\n",
    "from model import MFbpr\n",
    "from evaluation import evaluate\n",
    "from torch.utils.data import DataLoader\n",
    "import torch "
   ]
  },
  {
   "cell_type": "markdown",
   "metadata": {},
   "source": [
    "Load the data"
   ]
  },
  {
   "cell_type": "code",
   "execution_count": 2,
   "metadata": {},
   "outputs": [],
   "source": [
    "data = pd.read_csv(\"../../preprocessed_data/ratings.csv\")\n",
    "rec_data = data[['user_id','app_id','implicit_rating']].copy()\n"
   ]
  },
  {
   "cell_type": "code",
   "execution_count": 3,
   "metadata": {},
   "outputs": [
    {
     "name": "stdout",
     "output_type": "stream",
     "text": [
      "(3483739, 3)\n",
      "(870400, 3)\n"
     ]
    }
   ],
   "source": [
    "rec_train, rec_test = train_test_split(rec_data,test_size= 0.2, random_state= 42)\n",
    "users_train,games_train = rec_train[\"user_id\"].unique(), rec_train[\"app_id\"].unique()\n",
    "rec_test =rec_test.loc[rec_test[\"user_id\"].isin(users_train) & rec_test[\"app_id\"].isin(games_train)]\n",
    "testset = list(zip(rec_test.user_id.values, rec_test.app_id.values, rec_test.implicit_rating.values))\n",
    "print(rec_train.shape)\n",
    "print(rec_test.shape)"
   ]
  },
  {
   "cell_type": "markdown",
   "metadata": {},
   "source": [
    "Remap the index of userId and gamesId"
   ]
  },
  {
   "cell_type": "code",
   "execution_count": 4,
   "metadata": {},
   "outputs": [],
   "source": [
    "users_id_map = {id : idx for idx, id in enumerate(rec_data.user_id.unique())}\n",
    "games_id_map = {id : idx for idx, id in enumerate(rec_data.app_id.unique())}\n",
    "\n",
    "def generate(df):\n",
    "    dataset = {}\n",
    "    for user_id, user_group in df.groupby(\"user_id\"):\n",
    "        user_like = user_group[user_group[\"implicit_rating\"]== True][\"app_id\"].tolist()\n",
    "        user_dislike = user_group[user_group[\"implicit_rating\"] == False][\"app_id\"].tolist()\n",
    "        if len(user_like) > 0 and len(user_dislike) > 0:\n",
    "            dataset[users_id_map[user_id]] = ([games_id_map[like_item] for like_item in user_like], [games_id_map[dis_item] for dis_item in user_dislike])\n",
    "    return dataset\n",
    "train = generate(rec_train)\n",
    "test = generate(rec_train)\n"
   ]
  },
  {
   "cell_type": "code",
   "execution_count": 5,
   "metadata": {},
   "outputs": [],
   "source": [
    "trainset =BprMFData(train)\n",
    "testset = BprMFData(test)\n",
    "train_loader = DataLoader(trainset, batch_size = 1024, shuffle = True)\n",
    "test_loader = DataLoader(testset, batch_size = 1024, shuffle = True)"
   ]
  },
  {
   "cell_type": "code",
   "execution_count": 6,
   "metadata": {},
   "outputs": [],
   "source": [
    "def train_bpr(model, train_loader, test_loader, test_data, epochs=20, lr=0.1):\n",
    "    optimizer = torch.optim.SGD([model.U, model.V], lr=lr, momentum= 0.4)\n",
    "    for epoch in range(epochs):\n",
    "        model.train()\n",
    "        epoch_loss = 0\n",
    "        for users, items_pos, items_neg in train_loader:\n",
    "            users, items_pos, items_neg = users.long(), items_pos.long(), items_neg.long()\n",
    "            optimizer.zero_grad()\n",
    "            _, _, loss = model(users, items_pos, items_neg)\n",
    "            loss.backward()\n",
    "            optimizer.step()\n",
    "            epoch_loss += loss.item()\n",
    "\n",
    "        epoch_loss /= len(train_loader)\n",
    "        print(f'Epoch {epoch + 1}/{epochs}, Loss: {epoch_loss:.4f}')\n",
    "        evaluate(model, test_loader, test_data)"
   ]
  },
  {
   "cell_type": "code",
   "execution_count": 7,
   "metadata": {},
   "outputs": [
    {
     "name": "stdout",
     "output_type": "stream",
     "text": [
      "Epoch 1/60, Loss: 12524.5381\n",
      "Accuracy: 0.6455 - NDCG@5: 0.9438 - F1@10: 0.9159\n",
      "Epoch 2/60, Loss: 10358.5524\n",
      "Accuracy: 0.6524 - NDCG@5: 0.9417 - F1@10: 0.9175\n",
      "Epoch 3/60, Loss: 9034.0020\n",
      "Accuracy: 0.6640 - NDCG@5: 0.9410 - F1@10: 0.9186\n",
      "Epoch 4/60, Loss: 7969.7298\n",
      "Accuracy: 0.6704 - NDCG@5: 0.9421 - F1@10: 0.9204\n",
      "Epoch 5/60, Loss: 7122.1549\n",
      "Accuracy: 0.6810 - NDCG@5: 0.9427 - F1@10: 0.9228\n",
      "Epoch 6/60, Loss: 6400.8289\n",
      "Accuracy: 0.6793 - NDCG@5: 0.9428 - F1@10: 0.9217\n",
      "Epoch 7/60, Loss: 5827.3283\n",
      "Accuracy: 0.6827 - NDCG@5: 0.9420 - F1@10: 0.9237\n",
      "Epoch 8/60, Loss: 5333.5035\n",
      "Accuracy: 0.6914 - NDCG@5: 0.9461 - F1@10: 0.9258\n",
      "Epoch 9/60, Loss: 4853.5401\n",
      "Accuracy: 0.6933 - NDCG@5: 0.9467 - F1@10: 0.9281\n",
      "Epoch 10/60, Loss: 4504.7171\n",
      "Accuracy: 0.6981 - NDCG@5: 0.9486 - F1@10: 0.9287\n",
      "Epoch 11/60, Loss: 4135.2013\n",
      "Accuracy: 0.6980 - NDCG@5: 0.9498 - F1@10: 0.9296\n",
      "Epoch 12/60, Loss: 3847.8058\n",
      "Accuracy: 0.7085 - NDCG@5: 0.9523 - F1@10: 0.9312\n",
      "Epoch 13/60, Loss: 3580.7293\n",
      "Accuracy: 0.7124 - NDCG@5: 0.9515 - F1@10: 0.9332\n",
      "Epoch 14/60, Loss: 3322.9696\n",
      "Accuracy: 0.7195 - NDCG@5: 0.9544 - F1@10: 0.9341\n",
      "Epoch 15/60, Loss: 3113.1327\n",
      "Accuracy: 0.7224 - NDCG@5: 0.9547 - F1@10: 0.9353\n",
      "Epoch 16/60, Loss: 2918.8670\n",
      "Accuracy: 0.7285 - NDCG@5: 0.9564 - F1@10: 0.9371\n",
      "Epoch 17/60, Loss: 2755.0425\n",
      "Accuracy: 0.7320 - NDCG@5: 0.9575 - F1@10: 0.9380\n",
      "Epoch 18/60, Loss: 2611.3883\n",
      "Accuracy: 0.7298 - NDCG@5: 0.9582 - F1@10: 0.9385\n",
      "Epoch 19/60, Loss: 2465.9279\n",
      "Accuracy: 0.7375 - NDCG@5: 0.9590 - F1@10: 0.9396\n",
      "Epoch 20/60, Loss: 2353.6956\n",
      "Accuracy: 0.7494 - NDCG@5: 0.9604 - F1@10: 0.9426\n",
      "Epoch 21/60, Loss: 2234.8160\n",
      "Accuracy: 0.7514 - NDCG@5: 0.9629 - F1@10: 0.9442\n",
      "Epoch 22/60, Loss: 2131.0653\n",
      "Accuracy: 0.7525 - NDCG@5: 0.9637 - F1@10: 0.9450\n",
      "Epoch 23/60, Loss: 2042.3839\n",
      "Accuracy: 0.7597 - NDCG@5: 0.9649 - F1@10: 0.9462\n",
      "Epoch 24/60, Loss: 1959.0996\n",
      "Accuracy: 0.7633 - NDCG@5: 0.9653 - F1@10: 0.9467\n",
      "Epoch 25/60, Loss: 1880.5944\n",
      "Accuracy: 0.7640 - NDCG@5: 0.9664 - F1@10: 0.9483\n",
      "Epoch 26/60, Loss: 1818.1897\n",
      "Accuracy: 0.7666 - NDCG@5: 0.9671 - F1@10: 0.9488\n",
      "Epoch 27/60, Loss: 1760.9948\n",
      "Accuracy: 0.7708 - NDCG@5: 0.9681 - F1@10: 0.9496\n",
      "Epoch 28/60, Loss: 1698.3786\n",
      "Accuracy: 0.7710 - NDCG@5: 0.9690 - F1@10: 0.9501\n",
      "Epoch 29/60, Loss: 1641.4657\n",
      "Accuracy: 0.7755 - NDCG@5: 0.9698 - F1@10: 0.9506\n",
      "Epoch 30/60, Loss: 1602.6678\n",
      "Accuracy: 0.7786 - NDCG@5: 0.9716 - F1@10: 0.9517\n",
      "Epoch 31/60, Loss: 1554.2912\n",
      "Accuracy: 0.7778 - NDCG@5: 0.9719 - F1@10: 0.9511\n",
      "Epoch 32/60, Loss: 1520.1872\n",
      "Accuracy: 0.7833 - NDCG@5: 0.9719 - F1@10: 0.9516\n",
      "Epoch 33/60, Loss: 1478.1274\n",
      "Accuracy: 0.7875 - NDCG@5: 0.9727 - F1@10: 0.9521\n",
      "Epoch 34/60, Loss: 1446.2247\n",
      "Accuracy: 0.7879 - NDCG@5: 0.9741 - F1@10: 0.9530\n",
      "Epoch 35/60, Loss: 1413.8094\n",
      "Accuracy: 0.7888 - NDCG@5: 0.9744 - F1@10: 0.9528\n",
      "Epoch 36/60, Loss: 1387.2716\n",
      "Accuracy: 0.7917 - NDCG@5: 0.9748 - F1@10: 0.9516\n",
      "Epoch 37/60, Loss: 1362.6858\n",
      "Accuracy: 0.7951 - NDCG@5: 0.9750 - F1@10: 0.9513\n",
      "Epoch 38/60, Loss: 1338.0370\n",
      "Accuracy: 0.7993 - NDCG@5: 0.9760 - F1@10: 0.9510\n",
      "Epoch 39/60, Loss: 1312.5999\n",
      "Accuracy: 0.7965 - NDCG@5: 0.9764 - F1@10: 0.9500\n",
      "Epoch 40/60, Loss: 1290.0297\n",
      "Accuracy: 0.8036 - NDCG@5: 0.9766 - F1@10: 0.9489\n",
      "Epoch 41/60, Loss: 1267.8647\n",
      "Accuracy: 0.8029 - NDCG@5: 0.9773 - F1@10: 0.9484\n",
      "Epoch 42/60, Loss: 1254.4513\n",
      "Accuracy: 0.7997 - NDCG@5: 0.9774 - F1@10: 0.9468\n",
      "Epoch 43/60, Loss: 1233.8386\n",
      "Accuracy: 0.8072 - NDCG@5: 0.9782 - F1@10: 0.9459\n",
      "Epoch 44/60, Loss: 1223.4285\n",
      "Accuracy: 0.8082 - NDCG@5: 0.9781 - F1@10: 0.9438\n",
      "Epoch 45/60, Loss: 1205.2330\n",
      "Accuracy: 0.8093 - NDCG@5: 0.9790 - F1@10: 0.9433\n",
      "Epoch 46/60, Loss: 1191.1978\n",
      "Accuracy: 0.8089 - NDCG@5: 0.9789 - F1@10: 0.9410\n",
      "Epoch 47/60, Loss: 1180.7287\n",
      "Accuracy: 0.8132 - NDCG@5: 0.9799 - F1@10: 0.9397\n",
      "Epoch 48/60, Loss: 1164.7961\n",
      "Accuracy: 0.8137 - NDCG@5: 0.9793 - F1@10: 0.9386\n",
      "Epoch 49/60, Loss: 1152.6951\n",
      "Accuracy: 0.8114 - NDCG@5: 0.9798 - F1@10: 0.9354\n",
      "Epoch 50/60, Loss: 1148.6882\n",
      "Accuracy: 0.8170 - NDCG@5: 0.9804 - F1@10: 0.9329\n",
      "Epoch 51/60, Loss: 1137.5539\n",
      "Accuracy: 0.8185 - NDCG@5: 0.9804 - F1@10: 0.9312\n",
      "Epoch 52/60, Loss: 1122.8415\n",
      "Accuracy: 0.8149 - NDCG@5: 0.9800 - F1@10: 0.9280\n",
      "Epoch 53/60, Loss: 1117.9752\n",
      "Accuracy: 0.8182 - NDCG@5: 0.9809 - F1@10: 0.9270\n",
      "Epoch 54/60, Loss: 1110.1546\n",
      "Accuracy: 0.8201 - NDCG@5: 0.9808 - F1@10: 0.9238\n",
      "Epoch 55/60, Loss: 1100.8133\n",
      "Accuracy: 0.8177 - NDCG@5: 0.9813 - F1@10: 0.9226\n",
      "Epoch 56/60, Loss: 1100.0822\n",
      "Accuracy: 0.8241 - NDCG@5: 0.9818 - F1@10: 0.9196\n",
      "Epoch 57/60, Loss: 1089.4624\n",
      "Accuracy: 0.8215 - NDCG@5: 0.9818 - F1@10: 0.9170\n",
      "Epoch 58/60, Loss: 1085.3046\n",
      "Accuracy: 0.8226 - NDCG@5: 0.9821 - F1@10: 0.9143\n",
      "Epoch 59/60, Loss: 1079.6887\n",
      "Accuracy: 0.8231 - NDCG@5: 0.9823 - F1@10: 0.9127\n",
      "Epoch 60/60, Loss: 1073.9943\n",
      "Accuracy: 0.8227 - NDCG@5: 0.9825 - F1@10: 0.9084\n"
     ]
    }
   ],
   "source": [
    "model = MFbpr(len(rec_data.user_id.unique()), len(rec_data.app_id.unique()))\n",
    "train_bpr(model, train_loader, test_loader, test, epochs=60, lr=0.08)"
   ]
  }
 ],
 "metadata": {
  "kernelspec": {
   "display_name": "Python 3",
   "language": "python",
   "name": "python3"
  },
  "language_info": {
   "codemirror_mode": {
    "name": "ipython",
    "version": 3
   },
   "file_extension": ".py",
   "mimetype": "text/x-python",
   "name": "python",
   "nbconvert_exporter": "python",
   "pygments_lexer": "ipython3",
   "version": "3.11.9"
  }
 },
 "nbformat": 4,
 "nbformat_minor": 2
}
