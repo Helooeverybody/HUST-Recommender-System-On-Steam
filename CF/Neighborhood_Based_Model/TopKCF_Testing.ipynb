{
 "cells": [
  {
   "cell_type": "markdown",
   "metadata": {},
   "source": [
    "# Testing CF performance"
   ]
  },
  {
   "cell_type": "markdown",
   "metadata": {},
   "source": [
    "### Dependencies"
   ]
  },
  {
   "cell_type": "code",
   "execution_count": 1,
   "metadata": {},
   "outputs": [],
   "source": [
    "import numpy as np\n",
    "import pandas as pd\n",
    "from sklearn.metrics import mean_squared_error, r2_score"
   ]
  },
  {
   "cell_type": "markdown",
   "metadata": {},
   "source": [
    "### Import modules"
   ]
  },
  {
   "cell_type": "code",
   "execution_count": 1,
   "metadata": {},
   "outputs": [],
   "source": [
    "from preprocessing import Preprocessor\n",
    "from topk_cf import TopKNeighborCF\n",
    "from similarity import Similarity"
   ]
  },
  {
   "cell_type": "markdown",
   "metadata": {},
   "source": [
    "### Testing on sample Steam dataset"
   ]
  },
  {
   "cell_type": "markdown",
   "metadata": {},
   "source": [
    "Use the steam_60 dataset (≥60 ratings per users)"
   ]
  },
  {
   "cell_type": "code",
   "execution_count": 3,
   "metadata": {},
   "outputs": [],
   "source": [
    "X_steam, y_steam, ui_steam_shape = Preprocessor.load_data(\"../data/steam_60/user_item_data.txt\")\n",
    "X_steam_train, y_steam_train, X_steam_test, y_steam_test = Preprocessor.split(\n",
    "    X_steam, y_steam, 0.8, by=\"user\", shuffle=True\n",
    ")"
   ]
  },
  {
   "cell_type": "code",
   "execution_count": 6,
   "metadata": {},
   "outputs": [
    {
     "name": "stdout",
     "output_type": "stream",
     "text": [
      "The train data set has 25217 users out of 25217 recorded users\n",
      "The train data set has 35476 games out of 36014 recorded games\n"
     ]
    }
   ],
   "source": [
    "print(f\"The train data set has {len(np.unique(X_steam_train[:, 0]))} users out of {ui_steam_shape[0]} recorded users\")\n",
    "print(f\"The train data set has {len(np.unique(X_steam_train[:, 1]))} games out of {ui_steam_shape[1]} recorded games\")"
   ]
  },
  {
   "cell_type": "code",
   "execution_count": 7,
   "metadata": {},
   "outputs": [
    {
     "name": "stdout",
     "output_type": "stream",
     "text": [
      "The test data set has 25217 users out of 25217 recorded users\n",
      "The test data set has 29108 games out of 36014 recorded games\n"
     ]
    }
   ],
   "source": [
    "print(f\"The test data set has {len(np.unique(X_steam_test[:, 0]))} users out of {ui_steam_shape[0]} recorded users\")\n",
    "print(f\"The test data set has {len(np.unique(X_steam_test[:, 1]))} games out of {ui_steam_shape[1]} recorded games\")"
   ]
  },
  {
   "cell_type": "markdown",
   "metadata": {},
   "source": [
    "### Evaluation"
   ]
  },
  {
   "cell_type": "markdown",
   "metadata": {},
   "source": [
    "##### Accuracy"
   ]
  },
  {
   "cell_type": "code",
   "execution_count": 8,
   "metadata": {},
   "outputs": [
    {
     "name": "stdout",
     "output_type": "stream",
     "text": [
      "True: [3.5 4.5 3.  ... 3.5 3.  3. ]\n",
      "Pred: [3.54086136 4.1050531  2.99464538 ... 3.20206782 2.89554248 2.95552147]\n",
      "R2  : 0.32428553637342095\n",
      "RMSE: 0.9635053568812305\n"
     ]
    }
   ],
   "source": [
    "uucf = TopKNeighborCF(Similarity.cosine, mode=\"uucf\", neighbors=20)\n",
    "print(\"Fitting data\", end=\"\\r\")\n",
    "uucf.fit(X_steam_train, y_steam_train, ui_steam_shape)\n",
    "print(\"Predicting  \", end=\"\\r\")\n",
    "y_pred = uucf.predict(X_steam_test)\n",
    "print(\"True:\", y_steam_test)\n",
    "print(\"Pred:\", y_pred)\n",
    "print(\"R2  :\", r2_score(y_steam_test, y_pred))\n",
    "print(\"RMSE:\", mean_squared_error(y_steam_test, y_pred, squared=False))"
   ]
  },
  {
   "cell_type": "code",
   "execution_count": 9,
   "metadata": {},
   "outputs": [
    {
     "name": "stdout",
     "output_type": "stream",
     "text": [
      "True: [3.5 4.5 3.  ... 3.5 3.  3. ]\n",
      "Pred: [3.80594098 3.94851691 2.4653895  ... 3.48494484 2.78244471 3.25524955]\n",
      "R2  : 0.3634519969128486\n",
      "RMSE: 0.9351647023281325\n"
     ]
    }
   ],
   "source": [
    "iicf = TopKNeighborCF(Similarity.cosine, mode=\"iicf\", neighbors=20)\n",
    "print(\"Fitting data\", end=\"\\r\")\n",
    "iicf.fit(X_steam_train, y_steam_train, ui_steam_shape)\n",
    "print(\"Predicting  \", end=\"\\r\")\n",
    "y_pred = iicf.predict(X_steam_test)\n",
    "print(\"True:\", y_steam_test)\n",
    "print(\"Pred:\", y_pred)\n",
    "print(\"R2  :\", r2_score(y_steam_test, y_pred))\n",
    "print(\"RMSE:\", mean_squared_error(y_steam_test, y_pred, squared=False))"
   ]
  },
  {
   "cell_type": "markdown",
   "metadata": {},
   "source": [
    "##### Comparison"
   ]
  },
  {
   "cell_type": "markdown",
   "metadata": {},
   "source": [
    "Neighbours"
   ]
  },
  {
   "cell_type": "code",
   "execution_count": 10,
   "metadata": {},
   "outputs": [],
   "source": [
    "neighbors = [5, 10, 15, 20, 25]\n",
    "func = Similarity.cosine\n",
    "r2 = []\n",
    "rmse = []\n",
    "for n in neighbors:\n",
    "    cf = TopKNeighborCF(func, \"uucf\", n)\n",
    "    cf.fit(X_steam_train, y_steam_train, ui_steam_shape)\n",
    "    y_pred = cf.predict(X_steam_test)\n",
    "    r2.append(r2_score(y_steam_test, y_pred))\n",
    "    rmse.append(mean_squared_error(y_steam_test, y_pred, squared=False))"
   ]
  },
  {
   "cell_type": "code",
   "execution_count": 14,
   "metadata": {},
   "outputs": [
    {
     "data": {
      "text/html": [
       "<div>\n",
       "<style scoped>\n",
       "    .dataframe tbody tr th:only-of-type {\n",
       "        vertical-align: middle;\n",
       "    }\n",
       "\n",
       "    .dataframe tbody tr th {\n",
       "        vertical-align: top;\n",
       "    }\n",
       "\n",
       "    .dataframe thead tr th {\n",
       "        text-align: left;\n",
       "    }\n",
       "</style>\n",
       "<table border=\"1\" class=\"dataframe\">\n",
       "  <thead>\n",
       "    <tr>\n",
       "      <th></th>\n",
       "      <th>5</th>\n",
       "      <th>10</th>\n",
       "      <th>15</th>\n",
       "      <th>20</th>\n",
       "      <th>25</th>\n",
       "    </tr>\n",
       "  </thead>\n",
       "  <tbody>\n",
       "    <tr>\n",
       "      <th>R2</th>\n",
       "      <td>0.255295</td>\n",
       "      <td>0.30289</td>\n",
       "      <td>0.317478</td>\n",
       "      <td>0.324286</td>\n",
       "      <td>0.327863</td>\n",
       "    </tr>\n",
       "    <tr>\n",
       "      <th>RMSE</th>\n",
       "      <td>1.011497</td>\n",
       "      <td>0.97864</td>\n",
       "      <td>0.968347</td>\n",
       "      <td>0.963505</td>\n",
       "      <td>0.960951</td>\n",
       "    </tr>\n",
       "  </tbody>\n",
       "</table>\n",
       "</div>"
      ],
      "text/plain": [
       "            5        10        15        20        25\n",
       "R2    0.255295  0.30289  0.317478  0.324286  0.327863\n",
       "RMSE  1.011497  0.97864  0.968347  0.963505  0.960951"
      ]
     },
     "execution_count": 14,
     "metadata": {},
     "output_type": "execute_result"
    }
   ],
   "source": [
    "pd.DataFrame([r2, rmse], columns=[neighbors], index=[\"R2\", \"RMSE\"])"
   ]
  }
 ],
 "metadata": {
  "kernelspec": {
   "display_name": "walapy",
   "language": "python",
   "name": "python3"
  },
  "language_info": {
   "codemirror_mode": {
    "name": "ipython",
    "version": 3
   },
   "file_extension": ".py",
   "mimetype": "text/x-python",
   "name": "python",
   "nbconvert_exporter": "python",
   "pygments_lexer": "ipython3",
   "version": "3.12.1"
  }
 },
 "nbformat": 4,
 "nbformat_minor": 2
}
