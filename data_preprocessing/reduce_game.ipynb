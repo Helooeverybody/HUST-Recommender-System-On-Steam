{
 "cells": [
  {
   "cell_type": "code",
   "execution_count": 1,
   "metadata": {},
   "outputs": [],
   "source": [
    "import pandas as pd\n",
    "import numpy as np\n",
    "import matplotlib.pyplot as plt\n",
    "import pickle as pkl"
   ]
  },
  {
   "cell_type": "code",
   "execution_count": 5,
   "metadata": {},
   "outputs": [],
   "source": [
    "games=pd.read_csv(\"data/games.csv\",usecols=[\"title\",\"price_final\",\"app_id\"])\n",
    "content=pd.read_json(\"data/games_metadata.json\",lines=True)\n",
    "rec=pd.read_csv(\"data/recommendations.csv\")"
   ]
  },
  {
   "cell_type": "code",
   "execution_count": 6,
   "metadata": {},
   "outputs": [
    {
     "data": {
      "text/html": [
       "<div>\n",
       "<style scoped>\n",
       "    .dataframe tbody tr th:only-of-type {\n",
       "        vertical-align: middle;\n",
       "    }\n",
       "\n",
       "    .dataframe tbody tr th {\n",
       "        vertical-align: top;\n",
       "    }\n",
       "\n",
       "    .dataframe thead th {\n",
       "        text-align: right;\n",
       "    }\n",
       "</style>\n",
       "<table border=\"1\" class=\"dataframe\">\n",
       "  <thead>\n",
       "    <tr style=\"text-align: right;\">\n",
       "      <th></th>\n",
       "      <th>app_id</th>\n",
       "      <th>title</th>\n",
       "      <th>price_final</th>\n",
       "    </tr>\n",
       "  </thead>\n",
       "  <tbody>\n",
       "    <tr>\n",
       "      <th>0</th>\n",
       "      <td>13500</td>\n",
       "      <td>Prince of Persia: Warrior Within™</td>\n",
       "      <td>9.99</td>\n",
       "    </tr>\n",
       "    <tr>\n",
       "      <th>1</th>\n",
       "      <td>22364</td>\n",
       "      <td>BRINK: Agents of Change</td>\n",
       "      <td>2.99</td>\n",
       "    </tr>\n",
       "    <tr>\n",
       "      <th>2</th>\n",
       "      <td>113020</td>\n",
       "      <td>Monaco: What's Yours Is Mine</td>\n",
       "      <td>14.99</td>\n",
       "    </tr>\n",
       "    <tr>\n",
       "      <th>3</th>\n",
       "      <td>226560</td>\n",
       "      <td>Escape Dead Island</td>\n",
       "      <td>14.99</td>\n",
       "    </tr>\n",
       "    <tr>\n",
       "      <th>4</th>\n",
       "      <td>249050</td>\n",
       "      <td>Dungeon of the ENDLESS™</td>\n",
       "      <td>11.99</td>\n",
       "    </tr>\n",
       "  </tbody>\n",
       "</table>\n",
       "</div>"
      ],
      "text/plain": [
       "   app_id                              title  price_final\n",
       "0   13500  Prince of Persia: Warrior Within™         9.99\n",
       "1   22364            BRINK: Agents of Change         2.99\n",
       "2  113020       Monaco: What's Yours Is Mine        14.99\n",
       "3  226560                 Escape Dead Island        14.99\n",
       "4  249050            Dungeon of the ENDLESS™        11.99"
      ]
     },
     "execution_count": 6,
     "metadata": {},
     "output_type": "execute_result"
    }
   ],
   "source": [
    "games.head()"
   ]
  },
  {
   "cell_type": "code",
   "execution_count": 7,
   "metadata": {},
   "outputs": [
    {
     "data": {
      "text/plain": [
       "(31897, 3)"
      ]
     },
     "execution_count": 7,
     "metadata": {},
     "output_type": "execute_result"
    }
   ],
   "source": [
    "game_id_filter=rec[\"app_id\"].unique().tolist()\n",
    "games=games[games[\"app_id\"].isin(game_id_filter)]\n",
    "games.shape"
   ]
  },
  {
   "cell_type": "code",
   "execution_count": 8,
   "metadata": {},
   "outputs": [
    {
     "data": {
      "text/plain": [
       "(31897, 3)"
      ]
     },
     "execution_count": 8,
     "metadata": {},
     "output_type": "execute_result"
    }
   ],
   "source": [
    "games.shape"
   ]
  },
  {
   "cell_type": "code",
   "execution_count": 9,
   "metadata": {},
   "outputs": [],
   "source": [
    "games=games.merge(content,on=\"app_id\")"
   ]
  },
  {
   "cell_type": "code",
   "execution_count": 10,
   "metadata": {},
   "outputs": [],
   "source": [
    "with open(\"data/50000_games.pkl\",\"wb\") as f:\n",
    "    pkl.dump(games,f)"
   ]
  },
  {
   "cell_type": "code",
   "execution_count": 71,
   "metadata": {},
   "outputs": [],
   "source": [
    "games_copy=games.copy()"
   ]
  },
  {
   "cell_type": "code",
   "execution_count": 72,
   "metadata": {},
   "outputs": [],
   "source": [
    "games_copy[\"description\"]=games_copy[\"description\"].apply(lambda x:x.split())\n",
    "games_copy[\"content\"]=games_copy[\"description\"]+games_copy[\"tags\"]\n",
    "games_copy[\"content\"]=games_copy[\"content\"].apply(lambda x:\" \".join(x))"
   ]
  },
  {
   "cell_type": "code",
   "execution_count": 73,
   "metadata": {},
   "outputs": [
    {
     "data": {
      "text/plain": [
       "0    Enter the dark underworld of Prince of Persia ...\n",
       "1    Monaco: What's Yours Is Mine is a single playe...\n",
       "2    Escape Dead Island is a Survival-Mystery adven...\n",
       "3    Dungeon of the Endless is a Rogue-Like Dungeon...\n",
       "4    “METAL SLUG 3”, the masterpiece in SNK’s emble...\n",
       "Name: content, dtype: object"
      ]
     },
     "execution_count": 73,
     "metadata": {},
     "output_type": "execute_result"
    }
   ],
   "source": [
    "games_copy[\"content\"].head()"
   ]
  },
  {
   "cell_type": "code",
   "execution_count": 74,
   "metadata": {},
   "outputs": [
    {
     "data": {
      "text/plain": [
       "(35877, 5)"
      ]
     },
     "execution_count": 74,
     "metadata": {},
     "output_type": "execute_result"
    }
   ],
   "source": [
    "to_drop=games_copy[games_copy[\"content\"]==\"\"].index.tolist()\n",
    "games=games.drop(to_drop,axis=0)\n",
    "games.shape"
   ]
  },
  {
   "cell_type": "markdown",
   "metadata": {},
   "source": []
  },
  {
   "cell_type": "code",
   "execution_count": 75,
   "metadata": {},
   "outputs": [],
   "source": [
    "games=games[:10000].reset_index(drop=True)"
   ]
  },
  {
   "cell_type": "code",
   "execution_count": 76,
   "metadata": {},
   "outputs": [
    {
     "data": {
      "text/html": [
       "<div>\n",
       "<style scoped>\n",
       "    .dataframe tbody tr th:only-of-type {\n",
       "        vertical-align: middle;\n",
       "    }\n",
       "\n",
       "    .dataframe tbody tr th {\n",
       "        vertical-align: top;\n",
       "    }\n",
       "\n",
       "    .dataframe thead th {\n",
       "        text-align: right;\n",
       "    }\n",
       "</style>\n",
       "<table border=\"1\" class=\"dataframe\">\n",
       "  <thead>\n",
       "    <tr style=\"text-align: right;\">\n",
       "      <th></th>\n",
       "      <th>app_id</th>\n",
       "      <th>title</th>\n",
       "      <th>price_final</th>\n",
       "      <th>description</th>\n",
       "      <th>tags</th>\n",
       "    </tr>\n",
       "  </thead>\n",
       "  <tbody>\n",
       "    <tr>\n",
       "      <th>0</th>\n",
       "      <td>1291230</td>\n",
       "      <td>Heaven vs Hell</td>\n",
       "      <td>2.99</td>\n",
       "      <td>Play as Heaven or Hell in this semi-turn-based...</td>\n",
       "      <td>[Casual, Adventure, Tactical RPG, Indie, Hand-...</td>\n",
       "    </tr>\n",
       "    <tr>\n",
       "      <th>1</th>\n",
       "      <td>1310210</td>\n",
       "      <td>OMICRON: Coronavirus Battlegrounds</td>\n",
       "      <td>2.99</td>\n",
       "      <td>The first coronavirus online game. Run away fr...</td>\n",
       "      <td>[Spectacle fighter, Arena Shooter, Top-Down Sh...</td>\n",
       "    </tr>\n",
       "    <tr>\n",
       "      <th>2</th>\n",
       "      <td>1350570</td>\n",
       "      <td>Missile Tank</td>\n",
       "      <td>9.99</td>\n",
       "      <td>We will destroy the boxes that appear randomly...</td>\n",
       "      <td>[Casual, Action, 2D Fighter, Platformer, 2D, S...</td>\n",
       "    </tr>\n",
       "    <tr>\n",
       "      <th>3</th>\n",
       "      <td>1355050</td>\n",
       "      <td>Traurig Secrets: Prologue</td>\n",
       "      <td>1.99</td>\n",
       "      <td>It's college graduation season! But, tragicall...</td>\n",
       "      <td>[Casual, Visual Novel, Anime, Horror, Psycholo...</td>\n",
       "    </tr>\n",
       "    <tr>\n",
       "      <th>4</th>\n",
       "      <td>525210</td>\n",
       "      <td>Nock: Hidden Arrow</td>\n",
       "      <td>9.99</td>\n",
       "      <td>Nock: Hidden Arrow is a stealth archery dungeo...</td>\n",
       "      <td>[VR, Action, Adventure, Indie, Stealth, Dungeo...</td>\n",
       "    </tr>\n",
       "    <tr>\n",
       "      <th>...</th>\n",
       "      <td>...</td>\n",
       "      <td>...</td>\n",
       "      <td>...</td>\n",
       "      <td>...</td>\n",
       "      <td>...</td>\n",
       "    </tr>\n",
       "    <tr>\n",
       "      <th>10872</th>\n",
       "      <td>1953060</td>\n",
       "      <td>Time Thief</td>\n",
       "      <td>0.00</td>\n",
       "      <td>Time Thief is an action adventure game where l...</td>\n",
       "      <td>[Action-Adventure, Action, Adventure, Explorat...</td>\n",
       "    </tr>\n",
       "    <tr>\n",
       "      <th>10873</th>\n",
       "      <td>668600</td>\n",
       "      <td>Pixelum</td>\n",
       "      <td>0.00</td>\n",
       "      <td>Pixelum is a whole world made up entirely from...</td>\n",
       "      <td>[RPG, Adventure, Simulation, Indie, Early Acce...</td>\n",
       "    </tr>\n",
       "    <tr>\n",
       "      <th>10874</th>\n",
       "      <td>2071510</td>\n",
       "      <td>Goblin Rules Football</td>\n",
       "      <td>0.00</td>\n",
       "      <td>Test your mettle on the goblin gridiron in Gob...</td>\n",
       "      <td>[Sports, Arcade, 2D, Football (American), Team...</td>\n",
       "    </tr>\n",
       "    <tr>\n",
       "      <th>10875</th>\n",
       "      <td>962400</td>\n",
       "      <td>Granny</td>\n",
       "      <td>4.99</td>\n",
       "      <td>You have to escape Granny`s house...You have f...</td>\n",
       "      <td>[Horror, Survival Horror, Adventure, First-Per...</td>\n",
       "    </tr>\n",
       "    <tr>\n",
       "      <th>10876</th>\n",
       "      <td>1205040</td>\n",
       "      <td>Granny: Chapter Two</td>\n",
       "      <td>4.99</td>\n",
       "      <td>You have to escape Granny and Grandpa...You ha...</td>\n",
       "      <td>[Adventure, Indie, Horror, Gore, Violent, Dark...</td>\n",
       "    </tr>\n",
       "  </tbody>\n",
       "</table>\n",
       "<p>10877 rows × 5 columns</p>\n",
       "</div>"
      ],
      "text/plain": [
       "        app_id                               title  price_final  \\\n",
       "0      1291230                      Heaven vs Hell         2.99   \n",
       "1      1310210  OMICRON: Coronavirus Battlegrounds         2.99   \n",
       "2      1350570                        Missile Tank         9.99   \n",
       "3      1355050           Traurig Secrets: Prologue         1.99   \n",
       "4       525210                  Nock: Hidden Arrow         9.99   \n",
       "...        ...                                 ...          ...   \n",
       "10872  1953060                          Time Thief         0.00   \n",
       "10873   668600                             Pixelum         0.00   \n",
       "10874  2071510               Goblin Rules Football         0.00   \n",
       "10875   962400                              Granny         4.99   \n",
       "10876  1205040                 Granny: Chapter Two         4.99   \n",
       "\n",
       "                                             description  \\\n",
       "0      Play as Heaven or Hell in this semi-turn-based...   \n",
       "1      The first coronavirus online game. Run away fr...   \n",
       "2      We will destroy the boxes that appear randomly...   \n",
       "3      It's college graduation season! But, tragicall...   \n",
       "4      Nock: Hidden Arrow is a stealth archery dungeo...   \n",
       "...                                                  ...   \n",
       "10872  Time Thief is an action adventure game where l...   \n",
       "10873  Pixelum is a whole world made up entirely from...   \n",
       "10874  Test your mettle on the goblin gridiron in Gob...   \n",
       "10875  You have to escape Granny`s house...You have f...   \n",
       "10876  You have to escape Granny and Grandpa...You ha...   \n",
       "\n",
       "                                                    tags  \n",
       "0      [Casual, Adventure, Tactical RPG, Indie, Hand-...  \n",
       "1      [Spectacle fighter, Arena Shooter, Top-Down Sh...  \n",
       "2      [Casual, Action, 2D Fighter, Platformer, 2D, S...  \n",
       "3      [Casual, Visual Novel, Anime, Horror, Psycholo...  \n",
       "4      [VR, Action, Adventure, Indie, Stealth, Dungeo...  \n",
       "...                                                  ...  \n",
       "10872  [Action-Adventure, Action, Adventure, Explorat...  \n",
       "10873  [RPG, Adventure, Simulation, Indie, Early Acce...  \n",
       "10874  [Sports, Arcade, 2D, Football (American), Team...  \n",
       "10875  [Horror, Survival Horror, Adventure, First-Per...  \n",
       "10876  [Adventure, Indie, Horror, Gore, Violent, Dark...  \n",
       "\n",
       "[10877 rows x 5 columns]"
      ]
     },
     "execution_count": 76,
     "metadata": {},
     "output_type": "execute_result"
    }
   ],
   "source": [
    "games"
   ]
  },
  {
   "cell_type": "code",
   "execution_count": 77,
   "metadata": {},
   "outputs": [],
   "source": [
    "import pickle as pkl"
   ]
  },
  {
   "cell_type": "code",
   "execution_count": 79,
   "metadata": {},
   "outputs": [],
   "source": [
    "pkl.dump(games,open(\"data2/reduced_game.pkl\",'wb'))"
   ]
  }
 ],
 "metadata": {
  "kernelspec": {
   "display_name": "Python 3",
   "language": "python",
   "name": "python3"
  },
  "language_info": {
   "codemirror_mode": {
    "name": "ipython",
    "version": 3
   },
   "file_extension": ".py",
   "mimetype": "text/x-python",
   "name": "python",
   "nbconvert_exporter": "python",
   "pygments_lexer": "ipython3",
   "version": "3.11.9"
  }
 },
 "nbformat": 4,
 "nbformat_minor": 2
}
