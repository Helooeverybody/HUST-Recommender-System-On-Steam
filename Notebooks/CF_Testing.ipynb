{
 "cells": [
  {
   "cell_type": "markdown",
   "metadata": {},
   "source": [
    "# Testing CF performance"
   ]
  },
  {
   "cell_type": "markdown",
   "metadata": {},
   "source": [
    "### Dependencies"
   ]
  },
  {
   "cell_type": "code",
   "execution_count": 28,
   "metadata": {},
   "outputs": [],
   "source": [
    "import numpy as np\n",
    "import pandas as pd\n",
    "from sklearn.metrics import mean_squared_error, r2_score"
   ]
  },
  {
   "cell_type": "markdown",
   "metadata": {},
   "source": [
    "### Import CF module"
   ]
  },
  {
   "cell_type": "code",
   "execution_count": 29,
   "metadata": {},
   "outputs": [],
   "source": [
    "import sys, os\n",
    "sys.path.insert(0, os.path.abspath(\"..\"))\n",
    "from Modules.CF import Similarity, CF, PreProcessing"
   ]
  },
  {
   "cell_type": "markdown",
   "metadata": {},
   "source": [
    "### Testing on sample Steam dataset"
   ]
  },
  {
   "cell_type": "code",
   "execution_count": 35,
   "metadata": {},
   "outputs": [],
   "source": [
    "X_steam, y_steam, M, ui_steam_shape = PreProcessing.data_from_csv(\"../data/steam-90k/steam-90k.csv\")\n",
    "X_steam_train, y_steam_train, X_steam_test, y_steam_test = PreProcessing.split(\n",
    "    X_steam, y_steam, 0.8, by=\"user\", shuffle=True\n",
    ")"
   ]
  },
  {
   "cell_type": "code",
   "execution_count": 36,
   "metadata": {},
   "outputs": [
    {
     "name": "stdout",
     "output_type": "stream",
     "text": [
      "The train data set has 5840 users out of 5840 recorded users\n",
      "The train data set has 5360 games out of 5360 recorded games\n"
     ]
    }
   ],
   "source": [
    "print(f\"The train data set has {len(np.unique(X_steam_train[:, 0]))} users out of {ui_steam_shape[0]} recorded users\")\n",
    "print(f\"The train data set has {len(np.unique(X_steam_train[:, 1]))} games out of {ui_steam_shape[1]} recorded games\")"
   ]
  },
  {
   "cell_type": "code",
   "execution_count": 37,
   "metadata": {},
   "outputs": [
    {
     "name": "stdout",
     "output_type": "stream",
     "text": [
      "The test data set has 5125 users out of 5840 recorded users\n",
      "The test data set has 5014 games out of 5360 recorded games\n"
     ]
    }
   ],
   "source": [
    "print(f\"The test data set has {len(np.unique(X_steam_test[:, 0]))} users out of {ui_steam_shape[0]} recorded users\")\n",
    "print(f\"The test data set has {len(np.unique(X_steam_test[:, 1]))} games out of {ui_steam_shape[1]} recorded games\")"
   ]
  },
  {
   "cell_type": "markdown",
   "metadata": {},
   "source": [
    "### Evaluation"
   ]
  },
  {
   "cell_type": "markdown",
   "metadata": {},
   "source": [
    "##### Accuracy"
   ]
  },
  {
   "cell_type": "code",
   "execution_count": 38,
   "metadata": {},
   "outputs": [
    {
     "name": "stdout",
     "output_type": "stream",
     "text": [
      "True: [1. 1. 1. ... 1. 1. 1.]\n",
      "Pred: [0.67217746 1.03896333 0.8776604  ... 1.01470588 1.06585176 0.90541664]\n",
      "R2  : 0.2523012265765564\n",
      "RMSE: 0.3707504113392874\n"
     ]
    }
   ],
   "source": [
    "cf = CF(Similarity.inverse_euclidean_squared, mode=\"iicf\", n_neighbors=10)\n",
    "cf.fit(X_steam_train, y_steam_train, ui_steam_shape)\n",
    "y_pred = cf.predict(X_steam_test)\n",
    "print(\"True:\", y_steam_test)\n",
    "print(\"Pred:\", y_pred)\n",
    "print(\"R2  :\", r2_score(y_steam_test, y_pred))\n",
    "print(\"RMSE:\", mean_squared_error(y_steam_test, y_pred, squared=False))"
   ]
  },
  {
   "cell_type": "code",
   "execution_count": 39,
   "metadata": {},
   "outputs": [
    {
     "name": "stdout",
     "output_type": "stream",
     "text": [
      "True: [1. 1. 1. ... 1. 1. 1.]\n",
      "Pred: [0.93076529 1.02432154 1.03563822 ... 1.         1.         0.93562232]\n",
      "R2  : 0.32000247241842794\n",
      "RMSE: 0.353567204092241\n"
     ]
    }
   ],
   "source": [
    "cf = CF(Similarity.inverse_euclidean_squared, mode=\"uucf\", n_neighbors=10)\n",
    "cf.fit(X_steam_train, y_steam_train, ui_steam_shape)\n",
    "y_pred = cf.predict(X_steam_test)\n",
    "print(\"True:\", y_steam_test)\n",
    "print(\"Pred:\", y_pred)\n",
    "print(\"R2  :\", r2_score(y_steam_test, y_pred))\n",
    "print(\"RMSE:\", mean_squared_error(y_steam_test, y_pred, squared=False))"
   ]
  },
  {
   "cell_type": "markdown",
   "metadata": {},
   "source": [
    "##### Implicit feedback"
   ]
  },
  {
   "cell_type": "code",
   "execution_count": 40,
   "metadata": {},
   "outputs": [],
   "source": [
    "def hit_rate(cf: CF, X_test):\n",
    "    total_hit = 0\n",
    "    N = len(np.unique(X_test[:, 0]))\n",
    "    for user in np.unique(X_test[:, 0]):\n",
    "        rated = X_test[X_test[:, 0] == user][:, 1]\n",
    "        rec = cf.get_recommendation(user)[0]\n",
    "        hit = len(np.intersect1d(rec, rated))\n",
    "        total_hit += hit\n",
    "    return total_hit / N"
   ]
  },
  {
   "cell_type": "markdown",
   "metadata": {},
   "source": [
    "##### Comparison"
   ]
  },
  {
   "cell_type": "code",
   "execution_count": 43,
   "metadata": {},
   "outputs": [
    {
     "name": "stderr",
     "output_type": "stream",
     "text": [
      "c:\\Users\\Admin\\anaconda3\\envs\\walapy\\Lib\\site-packages\\numpy\\lib\\function_base.py:2897: RuntimeWarning: invalid value encountered in divide\n",
      "  c /= stddev[:, None]\n",
      "c:\\Users\\Admin\\anaconda3\\envs\\walapy\\Lib\\site-packages\\numpy\\lib\\function_base.py:2898: RuntimeWarning: invalid value encountered in divide\n",
      "  c /= stddev[None, :]\n",
      "c:\\Users\\Admin\\anaconda3\\envs\\walapy\\Lib\\site-packages\\numpy\\lib\\function_base.py:2897: RuntimeWarning: invalid value encountered in divide\n",
      "  c /= stddev[:, None]\n",
      "c:\\Users\\Admin\\anaconda3\\envs\\walapy\\Lib\\site-packages\\numpy\\lib\\function_base.py:2898: RuntimeWarning: invalid value encountered in divide\n",
      "  c /= stddev[None, :]\n",
      "c:\\Users\\Admin\\anaconda3\\envs\\walapy\\Lib\\site-packages\\numpy\\lib\\function_base.py:2897: RuntimeWarning: invalid value encountered in divide\n",
      "  c /= stddev[:, None]\n",
      "c:\\Users\\Admin\\anaconda3\\envs\\walapy\\Lib\\site-packages\\numpy\\lib\\function_base.py:2898: RuntimeWarning: invalid value encountered in divide\n",
      "  c /= stddev[None, :]\n",
      "c:\\Users\\Admin\\anaconda3\\envs\\walapy\\Lib\\site-packages\\numpy\\lib\\function_base.py:2897: RuntimeWarning: invalid value encountered in divide\n",
      "  c /= stddev[:, None]\n",
      "c:\\Users\\Admin\\anaconda3\\envs\\walapy\\Lib\\site-packages\\numpy\\lib\\function_base.py:2898: RuntimeWarning: invalid value encountered in divide\n",
      "  c /= stddev[None, :]\n",
      "c:\\Users\\Admin\\anaconda3\\envs\\walapy\\Lib\\site-packages\\numpy\\lib\\function_base.py:2897: RuntimeWarning: invalid value encountered in divide\n",
      "  c /= stddev[:, None]\n",
      "c:\\Users\\Admin\\anaconda3\\envs\\walapy\\Lib\\site-packages\\numpy\\lib\\function_base.py:2898: RuntimeWarning: invalid value encountered in divide\n",
      "  c /= stddev[None, :]\n",
      "c:\\Users\\Admin\\anaconda3\\envs\\walapy\\Lib\\site-packages\\numpy\\lib\\function_base.py:2897: RuntimeWarning: invalid value encountered in divide\n",
      "  c /= stddev[:, None]\n",
      "c:\\Users\\Admin\\anaconda3\\envs\\walapy\\Lib\\site-packages\\numpy\\lib\\function_base.py:2898: RuntimeWarning: invalid value encountered in divide\n",
      "  c /= stddev[None, :]\n",
      "c:\\Users\\Admin\\anaconda3\\envs\\walapy\\Lib\\site-packages\\numpy\\lib\\function_base.py:2897: RuntimeWarning: invalid value encountered in divide\n",
      "  c /= stddev[:, None]\n",
      "c:\\Users\\Admin\\anaconda3\\envs\\walapy\\Lib\\site-packages\\numpy\\lib\\function_base.py:2898: RuntimeWarning: invalid value encountered in divide\n",
      "  c /= stddev[None, :]\n",
      "c:\\Users\\Admin\\anaconda3\\envs\\walapy\\Lib\\site-packages\\numpy\\lib\\function_base.py:2897: RuntimeWarning: invalid value encountered in divide\n",
      "  c /= stddev[:, None]\n",
      "c:\\Users\\Admin\\anaconda3\\envs\\walapy\\Lib\\site-packages\\numpy\\lib\\function_base.py:2898: RuntimeWarning: invalid value encountered in divide\n",
      "  c /= stddev[None, :]\n",
      "c:\\Users\\Admin\\anaconda3\\envs\\walapy\\Lib\\site-packages\\numpy\\lib\\function_base.py:2897: RuntimeWarning: invalid value encountered in divide\n",
      "  c /= stddev[:, None]\n",
      "c:\\Users\\Admin\\anaconda3\\envs\\walapy\\Lib\\site-packages\\numpy\\lib\\function_base.py:2898: RuntimeWarning: invalid value encountered in divide\n",
      "  c /= stddev[None, :]\n",
      "c:\\Users\\Admin\\anaconda3\\envs\\walapy\\Lib\\site-packages\\numpy\\lib\\function_base.py:2897: RuntimeWarning: invalid value encountered in divide\n",
      "  c /= stddev[:, None]\n",
      "c:\\Users\\Admin\\anaconda3\\envs\\walapy\\Lib\\site-packages\\numpy\\lib\\function_base.py:2898: RuntimeWarning: invalid value encountered in divide\n",
      "  c /= stddev[None, :]\n"
     ]
    }
   ],
   "source": [
    "neighbors = [1, 3, 5, 7, 9]\n",
    "func_names = [\n",
    "    \"UUCF-Cosine\",\n",
    "    \"IICF-Cosine\",\n",
    "    \"UUCF-Pearson\",\n",
    "    \"IICF-Pearson\",\n",
    "    \"UUCF-Inverse Manhattan\",\n",
    "    \"IICF-Inverse Manhattan\",\n",
    "    \"UUCF-Inverse Euclidean Squared\",\n",
    "    \"IICF-Inverse Euclidean Squared\",\n",
    "]\n",
    "mode_funcs = [\n",
    "    (\"uucf\", Similarity.cosine),\n",
    "    (\"iicf\", Similarity.cosine),\n",
    "    (\"uucf\", Similarity.pearson),\n",
    "    (\"iicf\", Similarity.pearson),\n",
    "    (\"uucf\", Similarity.from_distance(metric=\"manhattan\", tosim=lambda x: 1 / (1 + x))),\n",
    "    (\"iicf\", Similarity.from_distance(metric=\"manhattan\", tosim=lambda x: 1 / (1 + x))),\n",
    "    (\"uucf\", Similarity.inverse_euclidean_squared),\n",
    "    (\"iicf\", Similarity.inverse_euclidean_squared),\n",
    "]"
   ]
  },
  {
   "cell_type": "markdown",
   "metadata": {},
   "source": [
    "RMSE"
   ]
  },
  {
   "cell_type": "code",
   "execution_count": 57,
   "metadata": {},
   "outputs": [
    {
     "name": "stderr",
     "output_type": "stream",
     "text": [
      "c:\\Users\\Admin\\anaconda3\\envs\\walapy\\Lib\\site-packages\\numpy\\lib\\function_base.py:2897: RuntimeWarning: invalid value encountered in divide\n",
      "  c /= stddev[:, None]\n",
      "c:\\Users\\Admin\\anaconda3\\envs\\walapy\\Lib\\site-packages\\numpy\\lib\\function_base.py:2898: RuntimeWarning: invalid value encountered in divide\n",
      "  c /= stddev[None, :]\n",
      "c:\\Users\\Admin\\anaconda3\\envs\\walapy\\Lib\\site-packages\\numpy\\lib\\function_base.py:2897: RuntimeWarning: invalid value encountered in divide\n",
      "  c /= stddev[:, None]\n",
      "c:\\Users\\Admin\\anaconda3\\envs\\walapy\\Lib\\site-packages\\numpy\\lib\\function_base.py:2898: RuntimeWarning: invalid value encountered in divide\n",
      "  c /= stddev[None, :]\n",
      "c:\\Users\\Admin\\anaconda3\\envs\\walapy\\Lib\\site-packages\\numpy\\lib\\function_base.py:2897: RuntimeWarning: invalid value encountered in divide\n",
      "  c /= stddev[:, None]\n",
      "c:\\Users\\Admin\\anaconda3\\envs\\walapy\\Lib\\site-packages\\numpy\\lib\\function_base.py:2898: RuntimeWarning: invalid value encountered in divide\n",
      "  c /= stddev[None, :]\n",
      "c:\\Users\\Admin\\anaconda3\\envs\\walapy\\Lib\\site-packages\\numpy\\lib\\function_base.py:2897: RuntimeWarning: invalid value encountered in divide\n",
      "  c /= stddev[:, None]\n",
      "c:\\Users\\Admin\\anaconda3\\envs\\walapy\\Lib\\site-packages\\numpy\\lib\\function_base.py:2898: RuntimeWarning: invalid value encountered in divide\n",
      "  c /= stddev[None, :]\n",
      "c:\\Users\\Admin\\anaconda3\\envs\\walapy\\Lib\\site-packages\\numpy\\lib\\function_base.py:2897: RuntimeWarning: invalid value encountered in divide\n",
      "  c /= stddev[:, None]\n",
      "c:\\Users\\Admin\\anaconda3\\envs\\walapy\\Lib\\site-packages\\numpy\\lib\\function_base.py:2898: RuntimeWarning: invalid value encountered in divide\n",
      "  c /= stddev[None, :]\n",
      "c:\\Users\\Admin\\anaconda3\\envs\\walapy\\Lib\\site-packages\\numpy\\lib\\function_base.py:2897: RuntimeWarning: invalid value encountered in divide\n",
      "  c /= stddev[:, None]\n",
      "c:\\Users\\Admin\\anaconda3\\envs\\walapy\\Lib\\site-packages\\numpy\\lib\\function_base.py:2898: RuntimeWarning: invalid value encountered in divide\n",
      "  c /= stddev[None, :]\n",
      "c:\\Users\\Admin\\anaconda3\\envs\\walapy\\Lib\\site-packages\\numpy\\lib\\function_base.py:2897: RuntimeWarning: invalid value encountered in divide\n",
      "  c /= stddev[:, None]\n",
      "c:\\Users\\Admin\\anaconda3\\envs\\walapy\\Lib\\site-packages\\numpy\\lib\\function_base.py:2898: RuntimeWarning: invalid value encountered in divide\n",
      "  c /= stddev[None, :]\n",
      "c:\\Users\\Admin\\anaconda3\\envs\\walapy\\Lib\\site-packages\\numpy\\lib\\function_base.py:2897: RuntimeWarning: invalid value encountered in divide\n",
      "  c /= stddev[:, None]\n",
      "c:\\Users\\Admin\\anaconda3\\envs\\walapy\\Lib\\site-packages\\numpy\\lib\\function_base.py:2898: RuntimeWarning: invalid value encountered in divide\n",
      "  c /= stddev[None, :]\n",
      "c:\\Users\\Admin\\anaconda3\\envs\\walapy\\Lib\\site-packages\\numpy\\lib\\function_base.py:2897: RuntimeWarning: invalid value encountered in divide\n",
      "  c /= stddev[:, None]\n",
      "c:\\Users\\Admin\\anaconda3\\envs\\walapy\\Lib\\site-packages\\numpy\\lib\\function_base.py:2898: RuntimeWarning: invalid value encountered in divide\n",
      "  c /= stddev[None, :]\n",
      "c:\\Users\\Admin\\anaconda3\\envs\\walapy\\Lib\\site-packages\\numpy\\lib\\function_base.py:2897: RuntimeWarning: invalid value encountered in divide\n",
      "  c /= stddev[:, None]\n",
      "c:\\Users\\Admin\\anaconda3\\envs\\walapy\\Lib\\site-packages\\numpy\\lib\\function_base.py:2898: RuntimeWarning: invalid value encountered in divide\n",
      "  c /= stddev[None, :]\n"
     ]
    }
   ],
   "source": [
    "data = np.zeros((len(neighbors), len(mode_funcs)))\n",
    "for i, n in enumerate(neighbors):\n",
    "    for j, mode_func in enumerate(mode_funcs):\n",
    "        mode = mode_func[0]\n",
    "        func = mode_func[1]\n",
    "        cf = CF(func, mode, n_neighbors=n)\n",
    "        cf.fit(X_steam_train, y_steam_train, ui_steam_shape)\n",
    "        y_pred = cf.predict(X_steam_test)\n",
    "        rmse = mean_squared_error(y_steam_test, y_pred, squared=False)\n",
    "        data[i, j] = rmse\n",
    "rmse_report = pd.DataFrame(data.T, index=func_names, columns=neighbors)"
   ]
  },
  {
   "cell_type": "code",
   "execution_count": 71,
   "metadata": {},
   "outputs": [
    {
     "data": {
      "text/html": [
       "<div>\n",
       "<style scoped>\n",
       "    .dataframe tbody tr th:only-of-type {\n",
       "        vertical-align: middle;\n",
       "    }\n",
       "\n",
       "    .dataframe tbody tr th {\n",
       "        vertical-align: top;\n",
       "    }\n",
       "\n",
       "    .dataframe thead th {\n",
       "        text-align: right;\n",
       "    }\n",
       "</style>\n",
       "<table border=\"1\" class=\"dataframe\">\n",
       "  <thead>\n",
       "    <tr style=\"text-align: right;\">\n",
       "      <th></th>\n",
       "      <th>1</th>\n",
       "      <th>3</th>\n",
       "      <th>5</th>\n",
       "      <th>7</th>\n",
       "      <th>9</th>\n",
       "    </tr>\n",
       "  </thead>\n",
       "  <tbody>\n",
       "    <tr>\n",
       "      <th>UUCF-Cosine</th>\n",
       "      <td>0.444125</td>\n",
       "      <td>0.404688</td>\n",
       "      <td>0.400858</td>\n",
       "      <td>0.399773</td>\n",
       "      <td>0.399567</td>\n",
       "    </tr>\n",
       "    <tr>\n",
       "      <th>UUCF-Pearson</th>\n",
       "      <td>0.444118</td>\n",
       "      <td>0.404685</td>\n",
       "      <td>0.400858</td>\n",
       "      <td>0.399773</td>\n",
       "      <td>0.399560</td>\n",
       "    </tr>\n",
       "    <tr>\n",
       "      <th>IICF-Pearson</th>\n",
       "      <td>0.443976</td>\n",
       "      <td>0.401202</td>\n",
       "      <td>0.394935</td>\n",
       "      <td>0.394061</td>\n",
       "      <td>0.393260</td>\n",
       "    </tr>\n",
       "    <tr>\n",
       "      <th>IICF-Cosine</th>\n",
       "      <td>0.443845</td>\n",
       "      <td>0.401162</td>\n",
       "      <td>0.394935</td>\n",
       "      <td>0.394055</td>\n",
       "      <td>0.393248</td>\n",
       "    </tr>\n",
       "    <tr>\n",
       "      <th>IICF-Inverse Euclidean Squared</th>\n",
       "      <td>0.410590</td>\n",
       "      <td>0.387236</td>\n",
       "      <td>0.379747</td>\n",
       "      <td>0.374808</td>\n",
       "      <td>0.371812</td>\n",
       "    </tr>\n",
       "    <tr>\n",
       "      <th>IICF-Inverse Manhattan</th>\n",
       "      <td>0.410333</td>\n",
       "      <td>0.386891</td>\n",
       "      <td>0.380018</td>\n",
       "      <td>0.374742</td>\n",
       "      <td>0.371786</td>\n",
       "    </tr>\n",
       "    <tr>\n",
       "      <th>UUCF-Inverse Euclidean Squared</th>\n",
       "      <td>0.367295</td>\n",
       "      <td>0.362319</td>\n",
       "      <td>0.360241</td>\n",
       "      <td>0.356814</td>\n",
       "      <td>0.354349</td>\n",
       "    </tr>\n",
       "    <tr>\n",
       "      <th>UUCF-Inverse Manhattan</th>\n",
       "      <td>0.366978</td>\n",
       "      <td>0.361924</td>\n",
       "      <td>0.359939</td>\n",
       "      <td>0.356119</td>\n",
       "      <td>0.353870</td>\n",
       "    </tr>\n",
       "  </tbody>\n",
       "</table>\n",
       "</div>"
      ],
      "text/plain": [
       "                                       1         3         5         7  \\\n",
       "UUCF-Cosine                     0.444125  0.404688  0.400858  0.399773   \n",
       "UUCF-Pearson                    0.444118  0.404685  0.400858  0.399773   \n",
       "IICF-Pearson                    0.443976  0.401202  0.394935  0.394061   \n",
       "IICF-Cosine                     0.443845  0.401162  0.394935  0.394055   \n",
       "IICF-Inverse Euclidean Squared  0.410590  0.387236  0.379747  0.374808   \n",
       "IICF-Inverse Manhattan          0.410333  0.386891  0.380018  0.374742   \n",
       "UUCF-Inverse Euclidean Squared  0.367295  0.362319  0.360241  0.356814   \n",
       "UUCF-Inverse Manhattan          0.366978  0.361924  0.359939  0.356119   \n",
       "\n",
       "                                       9  \n",
       "UUCF-Cosine                     0.399567  \n",
       "UUCF-Pearson                    0.399560  \n",
       "IICF-Pearson                    0.393260  \n",
       "IICF-Cosine                     0.393248  \n",
       "IICF-Inverse Euclidean Squared  0.371812  \n",
       "IICF-Inverse Manhattan          0.371786  \n",
       "UUCF-Inverse Euclidean Squared  0.354349  \n",
       "UUCF-Inverse Manhattan          0.353870  "
      ]
     },
     "execution_count": 71,
     "metadata": {},
     "output_type": "execute_result"
    }
   ],
   "source": [
    "rmse_report = rmse_report.sort_values(by=[9], ascending=False)\n",
    "rmse_report.to_csv(\"../Reports/CF_rmse_report.csv\", float_format=\"%.6f\")\n",
    "rmse_report"
   ]
  },
  {
   "cell_type": "markdown",
   "metadata": {},
   "source": [
    "R2-Score"
   ]
  },
  {
   "cell_type": "code",
   "execution_count": 59,
   "metadata": {},
   "outputs": [
    {
     "name": "stderr",
     "output_type": "stream",
     "text": [
      "c:\\Users\\Admin\\anaconda3\\envs\\walapy\\Lib\\site-packages\\numpy\\lib\\function_base.py:2897: RuntimeWarning: invalid value encountered in divide\n",
      "  c /= stddev[:, None]\n",
      "c:\\Users\\Admin\\anaconda3\\envs\\walapy\\Lib\\site-packages\\numpy\\lib\\function_base.py:2898: RuntimeWarning: invalid value encountered in divide\n",
      "  c /= stddev[None, :]\n",
      "c:\\Users\\Admin\\anaconda3\\envs\\walapy\\Lib\\site-packages\\numpy\\lib\\function_base.py:2897: RuntimeWarning: invalid value encountered in divide\n",
      "  c /= stddev[:, None]\n",
      "c:\\Users\\Admin\\anaconda3\\envs\\walapy\\Lib\\site-packages\\numpy\\lib\\function_base.py:2898: RuntimeWarning: invalid value encountered in divide\n",
      "  c /= stddev[None, :]\n",
      "c:\\Users\\Admin\\anaconda3\\envs\\walapy\\Lib\\site-packages\\numpy\\lib\\function_base.py:2897: RuntimeWarning: invalid value encountered in divide\n",
      "  c /= stddev[:, None]\n",
      "c:\\Users\\Admin\\anaconda3\\envs\\walapy\\Lib\\site-packages\\numpy\\lib\\function_base.py:2898: RuntimeWarning: invalid value encountered in divide\n",
      "  c /= stddev[None, :]\n",
      "c:\\Users\\Admin\\anaconda3\\envs\\walapy\\Lib\\site-packages\\numpy\\lib\\function_base.py:2897: RuntimeWarning: invalid value encountered in divide\n",
      "  c /= stddev[:, None]\n",
      "c:\\Users\\Admin\\anaconda3\\envs\\walapy\\Lib\\site-packages\\numpy\\lib\\function_base.py:2898: RuntimeWarning: invalid value encountered in divide\n",
      "  c /= stddev[None, :]\n",
      "c:\\Users\\Admin\\anaconda3\\envs\\walapy\\Lib\\site-packages\\numpy\\lib\\function_base.py:2897: RuntimeWarning: invalid value encountered in divide\n",
      "  c /= stddev[:, None]\n",
      "c:\\Users\\Admin\\anaconda3\\envs\\walapy\\Lib\\site-packages\\numpy\\lib\\function_base.py:2898: RuntimeWarning: invalid value encountered in divide\n",
      "  c /= stddev[None, :]\n",
      "c:\\Users\\Admin\\anaconda3\\envs\\walapy\\Lib\\site-packages\\numpy\\lib\\function_base.py:2897: RuntimeWarning: invalid value encountered in divide\n",
      "  c /= stddev[:, None]\n",
      "c:\\Users\\Admin\\anaconda3\\envs\\walapy\\Lib\\site-packages\\numpy\\lib\\function_base.py:2898: RuntimeWarning: invalid value encountered in divide\n",
      "  c /= stddev[None, :]\n",
      "c:\\Users\\Admin\\anaconda3\\envs\\walapy\\Lib\\site-packages\\numpy\\lib\\function_base.py:2897: RuntimeWarning: invalid value encountered in divide\n",
      "  c /= stddev[:, None]\n",
      "c:\\Users\\Admin\\anaconda3\\envs\\walapy\\Lib\\site-packages\\numpy\\lib\\function_base.py:2898: RuntimeWarning: invalid value encountered in divide\n",
      "  c /= stddev[None, :]\n",
      "c:\\Users\\Admin\\anaconda3\\envs\\walapy\\Lib\\site-packages\\numpy\\lib\\function_base.py:2897: RuntimeWarning: invalid value encountered in divide\n",
      "  c /= stddev[:, None]\n",
      "c:\\Users\\Admin\\anaconda3\\envs\\walapy\\Lib\\site-packages\\numpy\\lib\\function_base.py:2898: RuntimeWarning: invalid value encountered in divide\n",
      "  c /= stddev[None, :]\n",
      "c:\\Users\\Admin\\anaconda3\\envs\\walapy\\Lib\\site-packages\\numpy\\lib\\function_base.py:2897: RuntimeWarning: invalid value encountered in divide\n",
      "  c /= stddev[:, None]\n",
      "c:\\Users\\Admin\\anaconda3\\envs\\walapy\\Lib\\site-packages\\numpy\\lib\\function_base.py:2898: RuntimeWarning: invalid value encountered in divide\n",
      "  c /= stddev[None, :]\n",
      "c:\\Users\\Admin\\anaconda3\\envs\\walapy\\Lib\\site-packages\\numpy\\lib\\function_base.py:2897: RuntimeWarning: invalid value encountered in divide\n",
      "  c /= stddev[:, None]\n",
      "c:\\Users\\Admin\\anaconda3\\envs\\walapy\\Lib\\site-packages\\numpy\\lib\\function_base.py:2898: RuntimeWarning: invalid value encountered in divide\n",
      "  c /= stddev[None, :]\n"
     ]
    }
   ],
   "source": [
    "data = np.zeros((len(neighbors), len(mode_funcs)))\n",
    "for i, n in enumerate(neighbors):\n",
    "    for j, mode_func in enumerate(mode_funcs):\n",
    "        mode = mode_func[0]\n",
    "        func = mode_func[1]\n",
    "        cf = CF(func, mode, n_neighbors=n)\n",
    "        cf.fit(X_steam_train, y_steam_train, ui_steam_shape)\n",
    "        y_pred = cf.predict(X_steam_test)\n",
    "        r2 = r2_score(y_steam_test, y_pred)\n",
    "        data[i, j] = r2\n",
    "r2_report = pd.DataFrame(data.T, index=func_names, columns=neighbors)"
   ]
  },
  {
   "cell_type": "code",
   "execution_count": 72,
   "metadata": {},
   "outputs": [
    {
     "data": {
      "text/html": [
       "<div>\n",
       "<style scoped>\n",
       "    .dataframe tbody tr th:only-of-type {\n",
       "        vertical-align: middle;\n",
       "    }\n",
       "\n",
       "    .dataframe tbody tr th {\n",
       "        vertical-align: top;\n",
       "    }\n",
       "\n",
       "    .dataframe thead th {\n",
       "        text-align: right;\n",
       "    }\n",
       "</style>\n",
       "<table border=\"1\" class=\"dataframe\">\n",
       "  <thead>\n",
       "    <tr style=\"text-align: right;\">\n",
       "      <th></th>\n",
       "      <th>1</th>\n",
       "      <th>3</th>\n",
       "      <th>5</th>\n",
       "      <th>7</th>\n",
       "      <th>9</th>\n",
       "    </tr>\n",
       "  </thead>\n",
       "  <tbody>\n",
       "    <tr>\n",
       "      <th>UUCF-Cosine</th>\n",
       "      <td>-0.072936</td>\n",
       "      <td>0.109152</td>\n",
       "      <td>0.125933</td>\n",
       "      <td>0.130658</td>\n",
       "      <td>0.131556</td>\n",
       "    </tr>\n",
       "    <tr>\n",
       "      <th>UUCF-Pearson</th>\n",
       "      <td>-0.072901</td>\n",
       "      <td>0.109164</td>\n",
       "      <td>0.125933</td>\n",
       "      <td>0.130657</td>\n",
       "      <td>0.131583</td>\n",
       "    </tr>\n",
       "    <tr>\n",
       "      <th>IICF-Pearson</th>\n",
       "      <td>-0.072215</td>\n",
       "      <td>0.124434</td>\n",
       "      <td>0.151575</td>\n",
       "      <td>0.155324</td>\n",
       "      <td>0.158754</td>\n",
       "    </tr>\n",
       "    <tr>\n",
       "      <th>IICF-Cosine</th>\n",
       "      <td>-0.071583</td>\n",
       "      <td>0.124605</td>\n",
       "      <td>0.151572</td>\n",
       "      <td>0.155350</td>\n",
       "      <td>0.158806</td>\n",
       "    </tr>\n",
       "    <tr>\n",
       "      <th>IICF-Inverse Euclidean Squared</th>\n",
       "      <td>0.082976</td>\n",
       "      <td>0.184330</td>\n",
       "      <td>0.215574</td>\n",
       "      <td>0.235848</td>\n",
       "      <td>0.248014</td>\n",
       "    </tr>\n",
       "    <tr>\n",
       "      <th>IICF-Inverse Manhattan</th>\n",
       "      <td>0.084123</td>\n",
       "      <td>0.185780</td>\n",
       "      <td>0.214454</td>\n",
       "      <td>0.236117</td>\n",
       "      <td>0.248118</td>\n",
       "    </tr>\n",
       "    <tr>\n",
       "      <th>UUCF-Inverse Euclidean Squared</th>\n",
       "      <td>0.266173</td>\n",
       "      <td>0.285921</td>\n",
       "      <td>0.294090</td>\n",
       "      <td>0.307456</td>\n",
       "      <td>0.316992</td>\n",
       "    </tr>\n",
       "    <tr>\n",
       "      <th>UUCF-Inverse Manhattan</th>\n",
       "      <td>0.267441</td>\n",
       "      <td>0.287477</td>\n",
       "      <td>0.295271</td>\n",
       "      <td>0.310151</td>\n",
       "      <td>0.318836</td>\n",
       "    </tr>\n",
       "  </tbody>\n",
       "</table>\n",
       "</div>"
      ],
      "text/plain": [
       "                                       1         3         5         7  \\\n",
       "UUCF-Cosine                    -0.072936  0.109152  0.125933  0.130658   \n",
       "UUCF-Pearson                   -0.072901  0.109164  0.125933  0.130657   \n",
       "IICF-Pearson                   -0.072215  0.124434  0.151575  0.155324   \n",
       "IICF-Cosine                    -0.071583  0.124605  0.151572  0.155350   \n",
       "IICF-Inverse Euclidean Squared  0.082976  0.184330  0.215574  0.235848   \n",
       "IICF-Inverse Manhattan          0.084123  0.185780  0.214454  0.236117   \n",
       "UUCF-Inverse Euclidean Squared  0.266173  0.285921  0.294090  0.307456   \n",
       "UUCF-Inverse Manhattan          0.267441  0.287477  0.295271  0.310151   \n",
       "\n",
       "                                       9  \n",
       "UUCF-Cosine                     0.131556  \n",
       "UUCF-Pearson                    0.131583  \n",
       "IICF-Pearson                    0.158754  \n",
       "IICF-Cosine                     0.158806  \n",
       "IICF-Inverse Euclidean Squared  0.248014  \n",
       "IICF-Inverse Manhattan          0.248118  \n",
       "UUCF-Inverse Euclidean Squared  0.316992  \n",
       "UUCF-Inverse Manhattan          0.318836  "
      ]
     },
     "execution_count": 72,
     "metadata": {},
     "output_type": "execute_result"
    }
   ],
   "source": [
    "r2_report = r2_report.sort_values(by=[9])\n",
    "r2_report.to_csv(\"../Reports/CF_r2_report.csv\", float_format=\"%.6f\")\n",
    "r2_report"
   ]
  }
 ],
 "metadata": {
  "kernelspec": {
   "display_name": "walapy",
   "language": "python",
   "name": "python3"
  },
  "language_info": {
   "codemirror_mode": {
    "name": "ipython",
    "version": 3
   },
   "file_extension": ".py",
   "mimetype": "text/x-python",
   "name": "python",
   "nbconvert_exporter": "python",
   "pygments_lexer": "ipython3",
   "version": "3.12.1"
  }
 },
 "nbformat": 4,
 "nbformat_minor": 2
}
