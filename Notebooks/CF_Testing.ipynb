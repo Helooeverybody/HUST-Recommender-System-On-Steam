{
 "cells": [
  {
   "cell_type": "markdown",
   "metadata": {},
   "source": [
    "# Testing CF performance"
   ]
  },
  {
   "cell_type": "markdown",
   "metadata": {},
   "source": [
    "### Dependencies"
   ]
  },
  {
   "cell_type": "code",
   "execution_count": 84,
   "metadata": {},
   "outputs": [],
   "source": [
    "import numpy as np\n",
    "import pandas as pd\n",
    "from sklearn.metrics import mean_squared_error, r2_score"
   ]
  },
  {
   "cell_type": "markdown",
   "metadata": {},
   "source": [
    "### Import CF module"
   ]
  },
  {
   "cell_type": "code",
   "execution_count": 33,
   "metadata": {},
   "outputs": [],
   "source": [
    "import sys, os\n",
    "sys.path.insert(0, os.path.abspath(\"..\"))\n",
    "from Modules.CF import Similarity, CF, PreProcessing"
   ]
  },
  {
   "cell_type": "markdown",
   "metadata": {},
   "source": [
    "### Testing on Movielens dataset"
   ]
  },
  {
   "cell_type": "markdown",
   "metadata": {},
   "source": [
    "Dataset url: https://grouplens.org/datasets/movielens/100k/\n",
    "- Base: https://files.grouplens.org/datasets/movielens/ml-100k/ub.base\n",
    "- Test: https://files.grouplens.org/datasets/movielens/ml-100k/ub.test"
   ]
  },
  {
   "cell_type": "markdown",
   "metadata": {},
   "source": [
    "#### Import movielens data"
   ]
  },
  {
   "cell_type": "code",
   "execution_count": 3,
   "metadata": {},
   "outputs": [],
   "source": [
    "base_movie = pd.read_csv(\n",
    "    \"https://files.grouplens.org/datasets/movielens/ml-100k/ub.base\",\n",
    "    header=None,\n",
    "    sep=\"\\t\",\n",
    "    encoding=\"latin-1\",\n",
    ")\n",
    "test_movie = pd.read_csv(\n",
    "    \"https://files.grouplens.org/datasets/movielens/ml-100k/ub.test\",\n",
    "    header=None,\n",
    "    sep=\"\\t\",\n",
    "    encoding=\"latin-1\",\n",
    ")\n",
    "X_movie_train, X_movie_test, ui_movie_shape = PreProcessing.data_from_matrix(\n",
    "    base_movie[[0, 1]].to_numpy(),\n",
    "    test_movie[[0, 1]].to_numpy()\n",
    "    )\n",
    "y_movie_train = base_movie[2].to_numpy()\n",
    "y_movie_test = test_movie[2].to_numpy()"
   ]
  },
  {
   "cell_type": "code",
   "execution_count": 4,
   "metadata": {},
   "outputs": [
    {
     "name": "stdout",
     "output_type": "stream",
     "text": [
      "The train data set has 943 users out of 943 recorded users\n",
      "The train data set has 1675 movies out of 1682 recorded moviess\n"
     ]
    }
   ],
   "source": [
    "print(f\"The train data set has {len(np.unique(X_movie_train[:, 0]))} users out of {ui_movie_shape[0]} recorded users\")\n",
    "print(f\"The train data set has {len(np.unique(X_movie_train[:, 1]))} movies out of {ui_movie_shape[1]} recorded moviess\")"
   ]
  },
  {
   "cell_type": "code",
   "execution_count": 5,
   "metadata": {},
   "outputs": [
    {
     "name": "stdout",
     "output_type": "stream",
     "text": [
      "The test data set has 943 users out of 943 recorded users\n",
      "The test data set has 1145 movies out of 1682 recorded moviess\n"
     ]
    }
   ],
   "source": [
    "print(f\"The test data set has {len(np.unique(X_movie_test[:, 0]))} users out of {ui_movie_shape[0]} recorded users\")\n",
    "print(f\"The test data set has {len(np.unique(X_movie_test[:, 1]))} movies out of {ui_movie_shape[1]} recorded moviess\")"
   ]
  },
  {
   "cell_type": "markdown",
   "metadata": {},
   "source": [
    "#### User-based"
   ]
  },
  {
   "cell_type": "code",
   "execution_count": 85,
   "metadata": {},
   "outputs": [
    {
     "name": "stdout",
     "output_type": "stream",
     "text": [
      "R2  : 0.24081869865680194\n",
      "RMSE: 0.9791266307426343\n"
     ]
    }
   ],
   "source": [
    "cf = CF(Similarity.cosine, mode=\"uucf\", n_neighbors=20)\n",
    "cf.fit(X_movie_train, y_movie_train, ui_movie_shape)\n",
    "y_movie_pred = cf.predict(X_movie_test)\n",
    "print(\"R2  :\", r2_score(y_movie_test, y_movie_pred))\n",
    "print(\"RMSE:\", mean_squared_error(y_movie_test, y_movie_pred, squared=False))"
   ]
  },
  {
   "cell_type": "markdown",
   "metadata": {},
   "source": [
    "#### Item-based"
   ]
  },
  {
   "cell_type": "code",
   "execution_count": 86,
   "metadata": {},
   "outputs": [
    {
     "name": "stdout",
     "output_type": "stream",
     "text": [
      "R2  : 0.2780339832815857\n",
      "RMSE: 0.954826555944863\n"
     ]
    }
   ],
   "source": [
    "cf = CF(Similarity.cosine, mode=\"iicf\", n_neighbors=20)\n",
    "cf.fit(X_movie_train, y_movie_train, ui_movie_shape)\n",
    "y_movie_pred = cf.predict(X_movie_test)\n",
    "print(\"R2  :\", r2_score(y_movie_test, y_movie_pred))\n",
    "print(\"RMSE:\", mean_squared_error(y_movie_test, y_movie_pred, squared=False))"
   ]
  },
  {
   "cell_type": "markdown",
   "metadata": {},
   "source": [
    "### Testing on sample Steam dataset"
   ]
  },
  {
   "cell_type": "code",
   "execution_count": 19,
   "metadata": {},
   "outputs": [],
   "source": [
    "X_steam, y_steam, M, ui_steam_shape = PreProcessing.data_from_csv(\"../data/steam-90k/steam-90k.csv\")\n",
    "X_steam_train, y_steam_train, X_steam_test, y_steam_test = PreProcessing.split(\n",
    "    X_steam, y_steam, 0.8, by=\"user\", shuffle=True\n",
    ")"
   ]
  },
  {
   "cell_type": "code",
   "execution_count": 32,
   "metadata": {},
   "outputs": [
    {
     "name": "stdout",
     "output_type": "stream",
     "text": [
      "The train data set has 5840 users out of 5840 recorded users\n",
      "The train data set has 5360 games out of 5360 recorded games\n"
     ]
    }
   ],
   "source": [
    "print(f\"The train data set has {len(np.unique(X_steam_train[:, 0]))} users out of {ui_steam_shape[0]} recorded users\")\n",
    "print(f\"The train data set has {len(np.unique(X_steam_train[:, 1]))} games out of {ui_steam_shape[1]} recorded games\")"
   ]
  },
  {
   "cell_type": "code",
   "execution_count": 21,
   "metadata": {},
   "outputs": [
    {
     "name": "stdout",
     "output_type": "stream",
     "text": [
      "The test data set has 5125 users out of 5840 recorded users\n",
      "The test data set has 5022 games out of 5360 recorded games\n"
     ]
    }
   ],
   "source": [
    "print(f\"The test data set has {len(np.unique(X_steam_test[:, 0]))} users out of {ui_steam_shape[0]} recorded users\")\n",
    "print(f\"The test data set has {len(np.unique(X_steam_test[:, 1]))} games out of {ui_steam_shape[1]} recorded games\")"
   ]
  },
  {
   "cell_type": "markdown",
   "metadata": {},
   "source": [
    "### Evaluation"
   ]
  },
  {
   "cell_type": "markdown",
   "metadata": {},
   "source": [
    "##### Accuracy"
   ]
  },
  {
   "cell_type": "code",
   "execution_count": 87,
   "metadata": {},
   "outputs": [
    {
     "name": "stdout",
     "output_type": "stream",
     "text": [
      "True: [1. 1. 1. ... 1. 1. 1.]\n",
      "Pred: [0.9052505  0.68836456 0.64305076 ... 1.01515152 0.9769645  0.94098695]\n",
      "R2  : 0.26875403381752616\n",
      "RMSE: 0.36712221924198407\n"
     ]
    }
   ],
   "source": [
    "cf = CF(Similarity.inverse_euclidean_squared, mode=\"iicf\", n_neighbors=10)\n",
    "cf.fit(X_steam_train, y_steam_train, ui_steam_shape)\n",
    "y_pred = cf.predict(X_steam_test)\n",
    "print(\"True:\", y_steam_test)\n",
    "print(\"Pred:\", y_pred)\n",
    "print(\"R2  :\", r2_score(y_steam_test, y_pred))\n",
    "print(\"RMSE:\", mean_squared_error(y_steam_test, y_pred, squared=False))"
   ]
  },
  {
   "cell_type": "code",
   "execution_count": 88,
   "metadata": {},
   "outputs": [
    {
     "name": "stdout",
     "output_type": "stream",
     "text": [
      "True: [1. 1. 1. ... 1. 1. 1.]\n",
      "Pred: [1.         0.92307692 0.94444444 ... 1.         1.         1.        ]\n",
      "R2  : 0.3014720223430454\n",
      "RMSE: 0.35881519897918834\n"
     ]
    }
   ],
   "source": [
    "cf = CF(Similarity.inverse_euclidean_squared, mode=\"uucf\", n_neighbors=3)\n",
    "cf.fit(X_steam_train, y_steam_train, ui_steam_shape)\n",
    "y_pred = cf.predict(X_steam_test)\n",
    "print(\"True:\", y_steam_test)\n",
    "print(\"Pred:\", y_pred)\n",
    "print(\"R2  :\", r2_score(y_steam_test, y_pred))\n",
    "print(\"RMSE:\", mean_squared_error(y_steam_test, y_pred, squared=False))"
   ]
  },
  {
   "cell_type": "markdown",
   "metadata": {},
   "source": [
    "##### Implicit feedback"
   ]
  },
  {
   "cell_type": "code",
   "execution_count": 82,
   "metadata": {},
   "outputs": [],
   "source": [
    "def hit_rate(cf: CF, X_test):\n",
    "    total_hit = 0\n",
    "    N = len(np.unique(X_test[:, 0]))\n",
    "    for user in np.unique(X_test[:, 0]):\n",
    "        rated = X_test[X_test[:, 0] == user][:, 1]\n",
    "        rec = cf.get_recommendation(user)[0]\n",
    "        hit = len(np.intersect1d(rec, rated))\n",
    "        total_hit += hit\n",
    "    return total_hit / N"
   ]
  }
 ],
 "metadata": {
  "kernelspec": {
   "display_name": "walapy",
   "language": "python",
   "name": "python3"
  },
  "language_info": {
   "codemirror_mode": {
    "name": "ipython",
    "version": 3
   },
   "file_extension": ".py",
   "mimetype": "text/x-python",
   "name": "python",
   "nbconvert_exporter": "python",
   "pygments_lexer": "ipython3",
   "version": "3.12.1"
  }
 },
 "nbformat": 4,
 "nbformat_minor": 2
}
