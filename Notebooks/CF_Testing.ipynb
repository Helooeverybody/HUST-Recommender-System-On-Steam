{
 "cells": [
  {
   "cell_type": "markdown",
   "metadata": {},
   "source": [
    "# Testing CF performance"
   ]
  },
  {
   "cell_type": "markdown",
   "metadata": {},
   "source": [
    "### Dependencies"
   ]
  },
  {
   "cell_type": "code",
   "execution_count": 1,
   "metadata": {},
   "outputs": [],
   "source": [
    "import numpy as np\n",
    "import pandas as pd\n",
    "from sklearn.metrics import mean_squared_error, r2_score"
   ]
  },
  {
   "cell_type": "markdown",
   "metadata": {},
   "source": [
    "### Import CF module"
   ]
  },
  {
   "cell_type": "code",
   "execution_count": 3,
   "metadata": {},
   "outputs": [],
   "source": [
    "import sys, os\n",
    "sys.path.insert(0, os.path.abspath(\"..\"))\n",
    "from Modules.CF import Similarity, CF, PreProcessing"
   ]
  },
  {
   "cell_type": "markdown",
   "metadata": {},
   "source": [
    "### Testing on sample Steam dataset"
   ]
  },
  {
   "cell_type": "code",
   "execution_count": 4,
   "metadata": {},
   "outputs": [
    {
     "name": "stdout",
     "output_type": "stream",
     "text": [
      "File Name                                             Modified             Size\n",
      "steam_2m.txt                                   2024-05-10 00:22:16     33454467\n"
     ]
    }
   ],
   "source": [
    "from zipfile import ZipFile\n",
    "\n",
    "with ZipFile(\"../data/steam-2m/steam_2m.zip\", 'r') as zip:\n",
    "    zip.printdir()\n",
    "    zip.extract(\"steam_2m.txt\", \"../data/steam-2m\")"
   ]
  },
  {
   "cell_type": "markdown",
   "metadata": {},
   "source": [
    "Use the 90k dataset (≥10 ratings per users/games)"
   ]
  },
  {
   "cell_type": "code",
   "execution_count": 35,
   "metadata": {},
   "outputs": [],
   "source": [
    "X_steam, y_steam, M, ui_steam_shape = PreProcessing.data_from_csv(\"../data/steam-90k/steam-90k.csv\")\n",
    "X_steam_train, y_steam_train, X_steam_test, y_steam_test = PreProcessing.split(\n",
    "    X_steam, y_steam, 0.8, by=\"user\", shuffle=True\n",
    ")"
   ]
  },
  {
   "cell_type": "markdown",
   "metadata": {},
   "source": [
    "Use the 2m dataset (≥60 ratings per users/games)"
   ]
  },
  {
   "cell_type": "code",
   "execution_count": 10,
   "metadata": {},
   "outputs": [],
   "source": [
    "matrix = np.loadtxt(\"../data/steam-2m/steam_2m.txt\", dtype=\"int\")\n",
    "X_steam, ui_steam_shape = PreProcessing.data_from_matrix(matrix)\n",
    "y_steam = matrix[:, -1]\n",
    "X_steam_train, y_steam_train, X_steam_test, y_steam_test = PreProcessing.split(\n",
    "    X_steam, y_steam, 0.8, by=\"user\", shuffle=True\n",
    ")"
   ]
  },
  {
   "cell_type": "code",
   "execution_count": 11,
   "metadata": {},
   "outputs": [
    {
     "name": "stdout",
     "output_type": "stream",
     "text": [
      "The train data set has 25217 users out of 25217 recorded users\n",
      "The train data set has 15651 games out of 15660 recorded games\n"
     ]
    }
   ],
   "source": [
    "print(f\"The train data set has {len(np.unique(X_steam_train[:, 0]))} users out of {ui_steam_shape[0]} recorded users\")\n",
    "print(f\"The train data set has {len(np.unique(X_steam_train[:, 1]))} games out of {ui_steam_shape[1]} recorded games\")"
   ]
  },
  {
   "cell_type": "code",
   "execution_count": 12,
   "metadata": {},
   "outputs": [
    {
     "name": "stdout",
     "output_type": "stream",
     "text": [
      "The test data set has 25215 users out of 25217 recorded users\n",
      "The test data set has 15373 games out of 15660 recorded games\n"
     ]
    }
   ],
   "source": [
    "print(f\"The test data set has {len(np.unique(X_steam_test[:, 0]))} users out of {ui_steam_shape[0]} recorded users\")\n",
    "print(f\"The test data set has {len(np.unique(X_steam_test[:, 1]))} games out of {ui_steam_shape[1]} recorded games\")"
   ]
  },
  {
   "cell_type": "markdown",
   "metadata": {},
   "source": [
    "### Evaluation"
   ]
  },
  {
   "cell_type": "markdown",
   "metadata": {},
   "source": [
    "##### Accuracy"
   ]
  },
  {
   "cell_type": "code",
   "execution_count": 14,
   "metadata": {},
   "outputs": [
    {
     "ename": "KeyboardInterrupt",
     "evalue": "",
     "output_type": "error",
     "traceback": [
      "\u001b[1;31m---------------------------------------------------------------------------\u001b[0m",
      "\u001b[1;31mKeyboardInterrupt\u001b[0m                         Traceback (most recent call last)",
      "Cell \u001b[1;32mIn[14], line 3\u001b[0m\n\u001b[0;32m      1\u001b[0m cf \u001b[38;5;241m=\u001b[39m CF(Similarity\u001b[38;5;241m.\u001b[39minverse_euclidean_squared, mode\u001b[38;5;241m=\u001b[39m\u001b[38;5;124m\"\u001b[39m\u001b[38;5;124miicf\u001b[39m\u001b[38;5;124m\"\u001b[39m, n_neighbors\u001b[38;5;241m=\u001b[39m\u001b[38;5;241m40\u001b[39m)\n\u001b[0;32m      2\u001b[0m cf\u001b[38;5;241m.\u001b[39mfit(X_steam_train, y_steam_train, ui_steam_shape)\n\u001b[1;32m----> 3\u001b[0m y_pred \u001b[38;5;241m=\u001b[39m \u001b[43mcf\u001b[49m\u001b[38;5;241;43m.\u001b[39;49m\u001b[43mpredict\u001b[49m\u001b[43m(\u001b[49m\u001b[43mX_steam_test\u001b[49m\u001b[43m)\u001b[49m\n\u001b[0;32m      4\u001b[0m \u001b[38;5;28mprint\u001b[39m(\u001b[38;5;124m\"\u001b[39m\u001b[38;5;124mTrue:\u001b[39m\u001b[38;5;124m\"\u001b[39m, y_steam_test)\n\u001b[0;32m      5\u001b[0m \u001b[38;5;28mprint\u001b[39m(\u001b[38;5;124m\"\u001b[39m\u001b[38;5;124mPred:\u001b[39m\u001b[38;5;124m\"\u001b[39m, y_pred)\n",
      "File \u001b[1;32mc:\\Users\\Admin\\Desktop\\Projects\\Mini Projects\\Recommendation Project\\HUST-Recommender-System-On-Steam\\Modules\\CF\\cf.py:179\u001b[0m, in \u001b[0;36mCF.predict\u001b[1;34m(self, X)\u001b[0m\n\u001b[0;32m    178\u001b[0m \u001b[38;5;28;01mdef\u001b[39;00m \u001b[38;5;21mpredict\u001b[39m(\u001b[38;5;28mself\u001b[39m, X):\n\u001b[1;32m--> 179\u001b[0m     \u001b[38;5;28;01mreturn\u001b[39;00m \u001b[43mnp\u001b[49m\u001b[38;5;241;43m.\u001b[39;49m\u001b[43mapply_along_axis\u001b[49m\u001b[43m(\u001b[49m\n\u001b[0;32m    180\u001b[0m \u001b[43m        \u001b[49m\u001b[38;5;28;43;01mlambda\u001b[39;49;00m\u001b[43m \u001b[49m\u001b[43mx\u001b[49m\u001b[43m:\u001b[49m\u001b[43m \u001b[49m\u001b[38;5;28;43mself\u001b[39;49m\u001b[38;5;241;43m.\u001b[39;49m\u001b[43mget_rating_prediction\u001b[49m\u001b[43m(\u001b[49m\u001b[43mx\u001b[49m\u001b[43m[\u001b[49m\u001b[38;5;241;43m0\u001b[39;49m\u001b[43m]\u001b[49m\u001b[43m,\u001b[49m\u001b[43m \u001b[49m\u001b[43mx\u001b[49m\u001b[43m[\u001b[49m\u001b[38;5;241;43m1\u001b[39;49m\u001b[43m]\u001b[49m\u001b[43m)\u001b[49m\u001b[43m,\u001b[49m\u001b[43m \u001b[49m\u001b[38;5;241;43m1\u001b[39;49m\u001b[43m,\u001b[49m\u001b[43m \u001b[49m\u001b[43mX\u001b[49m\n\u001b[0;32m    181\u001b[0m \u001b[43m    \u001b[49m\u001b[43m)\u001b[49m\n",
      "File \u001b[1;32mc:\\Users\\Admin\\anaconda3\\envs\\walapy\\Lib\\site-packages\\numpy\\lib\\shape_base.py:402\u001b[0m, in \u001b[0;36mapply_along_axis\u001b[1;34m(func1d, axis, arr, *args, **kwargs)\u001b[0m\n\u001b[0;32m    400\u001b[0m buff[ind0] \u001b[38;5;241m=\u001b[39m res\n\u001b[0;32m    401\u001b[0m \u001b[38;5;28;01mfor\u001b[39;00m ind \u001b[38;5;129;01min\u001b[39;00m inds:\n\u001b[1;32m--> 402\u001b[0m     buff[ind] \u001b[38;5;241m=\u001b[39m asanyarray(\u001b[43mfunc1d\u001b[49m\u001b[43m(\u001b[49m\u001b[43minarr_view\u001b[49m\u001b[43m[\u001b[49m\u001b[43mind\u001b[49m\u001b[43m]\u001b[49m\u001b[43m,\u001b[49m\u001b[43m \u001b[49m\u001b[38;5;241;43m*\u001b[39;49m\u001b[43margs\u001b[49m\u001b[43m,\u001b[49m\u001b[43m \u001b[49m\u001b[38;5;241;43m*\u001b[39;49m\u001b[38;5;241;43m*\u001b[39;49m\u001b[43mkwargs\u001b[49m\u001b[43m)\u001b[49m)\n\u001b[0;32m    404\u001b[0m \u001b[38;5;28;01mif\u001b[39;00m \u001b[38;5;129;01mnot\u001b[39;00m \u001b[38;5;28misinstance\u001b[39m(res, matrix):\n\u001b[0;32m    405\u001b[0m     \u001b[38;5;66;03m# wrap the array, to preserve subclasses\u001b[39;00m\n\u001b[0;32m    406\u001b[0m     buff \u001b[38;5;241m=\u001b[39m res\u001b[38;5;241m.\u001b[39m__array_wrap__(buff)\n",
      "File \u001b[1;32mc:\\Users\\Admin\\Desktop\\Projects\\Mini Projects\\Recommendation Project\\HUST-Recommender-System-On-Steam\\Modules\\CF\\cf.py:180\u001b[0m, in \u001b[0;36mCF.predict.<locals>.<lambda>\u001b[1;34m(x)\u001b[0m\n\u001b[0;32m    178\u001b[0m \u001b[38;5;28;01mdef\u001b[39;00m \u001b[38;5;21mpredict\u001b[39m(\u001b[38;5;28mself\u001b[39m, X):\n\u001b[0;32m    179\u001b[0m     \u001b[38;5;28;01mreturn\u001b[39;00m np\u001b[38;5;241m.\u001b[39mapply_along_axis(\n\u001b[1;32m--> 180\u001b[0m         \u001b[38;5;28;01mlambda\u001b[39;00m x: \u001b[38;5;28;43mself\u001b[39;49m\u001b[38;5;241;43m.\u001b[39;49m\u001b[43mget_rating_prediction\u001b[49m\u001b[43m(\u001b[49m\u001b[43mx\u001b[49m\u001b[43m[\u001b[49m\u001b[38;5;241;43m0\u001b[39;49m\u001b[43m]\u001b[49m\u001b[43m,\u001b[49m\u001b[43m \u001b[49m\u001b[43mx\u001b[49m\u001b[43m[\u001b[49m\u001b[38;5;241;43m1\u001b[39;49m\u001b[43m]\u001b[49m\u001b[43m)\u001b[49m, \u001b[38;5;241m1\u001b[39m, X\n\u001b[0;32m    181\u001b[0m     )\n",
      "File \u001b[1;32mc:\\Users\\Admin\\Desktop\\Projects\\Mini Projects\\Recommendation Project\\HUST-Recommender-System-On-Steam\\Modules\\CF\\cf.py:158\u001b[0m, in \u001b[0;36mCF.get_rating_prediction\u001b[1;34m(self, user_idx, item_idx)\u001b[0m\n\u001b[0;32m    156\u001b[0m     \u001b[38;5;66;03m# Get all games that user played\u001b[39;00m\n\u001b[0;32m    157\u001b[0m     also_played \u001b[38;5;241m=\u001b[39m \u001b[38;5;28mself\u001b[39m\u001b[38;5;241m.\u001b[39mui_matrix\u001b[38;5;241m.\u001b[39mT\u001b[38;5;241m.\u001b[39mgetrow(user_idx)\u001b[38;5;241m.\u001b[39mindices\n\u001b[1;32m--> 158\u001b[0m     ratings \u001b[38;5;241m=\u001b[39m \u001b[38;5;28;43mself\u001b[39;49m\u001b[38;5;241;43m.\u001b[39;49m\u001b[43mui_matrix\u001b[49m\u001b[38;5;241;43m.\u001b[39;49m\u001b[43mT\u001b[49m\u001b[38;5;241;43m.\u001b[39;49m\u001b[43mgetrow\u001b[49m\u001b[43m(\u001b[49m\u001b[43muser_idx\u001b[49m\u001b[43m)\u001b[49m\u001b[38;5;241m.\u001b[39mdata\n\u001b[0;32m    159\u001b[0m \u001b[38;5;28;01melse\u001b[39;00m:  \u001b[38;5;66;03m# self.mode == \"uucf\"\u001b[39;00m\n\u001b[0;32m    160\u001b[0m     idx \u001b[38;5;241m=\u001b[39m user_idx\n",
      "File \u001b[1;32mc:\\Users\\Admin\\anaconda3\\envs\\walapy\\Lib\\site-packages\\scipy\\sparse\\_matrix.py:139\u001b[0m, in \u001b[0;36mspmatrix.getrow\u001b[1;34m(self, i)\u001b[0m\n\u001b[0;32m    135\u001b[0m \u001b[38;5;28;01mdef\u001b[39;00m \u001b[38;5;21mgetrow\u001b[39m(\u001b[38;5;28mself\u001b[39m, i):\n\u001b[0;32m    136\u001b[0m \u001b[38;5;250m    \u001b[39m\u001b[38;5;124;03m\"\"\"Returns a copy of row i of the array, as a (1 x n) sparse\u001b[39;00m\n\u001b[0;32m    137\u001b[0m \u001b[38;5;124;03m    array (row vector).\u001b[39;00m\n\u001b[0;32m    138\u001b[0m \u001b[38;5;124;03m    \"\"\"\u001b[39;00m\n\u001b[1;32m--> 139\u001b[0m     \u001b[38;5;28;01mreturn\u001b[39;00m \u001b[38;5;28;43mself\u001b[39;49m\u001b[38;5;241;43m.\u001b[39;49m\u001b[43m_getrow\u001b[49m\u001b[43m(\u001b[49m\u001b[43mi\u001b[49m\u001b[43m)\u001b[49m\n",
      "File \u001b[1;32mc:\\Users\\Admin\\anaconda3\\envs\\walapy\\Lib\\site-packages\\scipy\\sparse\\_csc.py:196\u001b[0m, in \u001b[0;36m_csc_base._getrow\u001b[1;34m(self, i)\u001b[0m\n\u001b[0;32m    194\u001b[0m \u001b[38;5;28;01mif\u001b[39;00m i \u001b[38;5;241m<\u001b[39m \u001b[38;5;241m0\u001b[39m \u001b[38;5;129;01mor\u001b[39;00m i \u001b[38;5;241m>\u001b[39m\u001b[38;5;241m=\u001b[39m M:\n\u001b[0;32m    195\u001b[0m     \u001b[38;5;28;01mraise\u001b[39;00m \u001b[38;5;167;01mIndexError\u001b[39;00m(\u001b[38;5;124m'\u001b[39m\u001b[38;5;124mindex (\u001b[39m\u001b[38;5;132;01m%d\u001b[39;00m\u001b[38;5;124m) out of range\u001b[39m\u001b[38;5;124m'\u001b[39m \u001b[38;5;241m%\u001b[39m i)\n\u001b[1;32m--> 196\u001b[0m \u001b[38;5;28;01mreturn\u001b[39;00m \u001b[38;5;28;43mself\u001b[39;49m\u001b[38;5;241;43m.\u001b[39;49m\u001b[43m_get_submatrix\u001b[49m\u001b[43m(\u001b[49m\u001b[43mminor\u001b[49m\u001b[38;5;241;43m=\u001b[39;49m\u001b[43mi\u001b[49m\u001b[43m)\u001b[49m\u001b[38;5;241m.\u001b[39mtocsr()\n",
      "File \u001b[1;32mc:\\Users\\Admin\\anaconda3\\envs\\walapy\\Lib\\site-packages\\scipy\\sparse\\_compressed.py:809\u001b[0m, in \u001b[0;36m_cs_matrix._get_submatrix\u001b[1;34m(self, major, minor, copy)\u001b[0m\n\u001b[0;32m    806\u001b[0m \u001b[38;5;28;01mif\u001b[39;00m i0 \u001b[38;5;241m==\u001b[39m \u001b[38;5;241m0\u001b[39m \u001b[38;5;129;01mand\u001b[39;00m j0 \u001b[38;5;241m==\u001b[39m \u001b[38;5;241m0\u001b[39m \u001b[38;5;129;01mand\u001b[39;00m i1 \u001b[38;5;241m==\u001b[39m M \u001b[38;5;129;01mand\u001b[39;00m j1 \u001b[38;5;241m==\u001b[39m N:\n\u001b[0;32m    807\u001b[0m     \u001b[38;5;28;01mreturn\u001b[39;00m \u001b[38;5;28mself\u001b[39m\u001b[38;5;241m.\u001b[39mcopy() \u001b[38;5;28;01mif\u001b[39;00m copy \u001b[38;5;28;01melse\u001b[39;00m \u001b[38;5;28mself\u001b[39m\n\u001b[1;32m--> 809\u001b[0m indptr, indices, data \u001b[38;5;241m=\u001b[39m \u001b[43mget_csr_submatrix\u001b[49m\u001b[43m(\u001b[49m\n\u001b[0;32m    810\u001b[0m \u001b[43m    \u001b[49m\u001b[43mM\u001b[49m\u001b[43m,\u001b[49m\u001b[43m \u001b[49m\u001b[43mN\u001b[49m\u001b[43m,\u001b[49m\u001b[43m \u001b[49m\u001b[38;5;28;43mself\u001b[39;49m\u001b[38;5;241;43m.\u001b[39;49m\u001b[43mindptr\u001b[49m\u001b[43m,\u001b[49m\u001b[43m \u001b[49m\u001b[38;5;28;43mself\u001b[39;49m\u001b[38;5;241;43m.\u001b[39;49m\u001b[43mindices\u001b[49m\u001b[43m,\u001b[49m\u001b[43m \u001b[49m\u001b[38;5;28;43mself\u001b[39;49m\u001b[38;5;241;43m.\u001b[39;49m\u001b[43mdata\u001b[49m\u001b[43m,\u001b[49m\u001b[43m \u001b[49m\u001b[43mi0\u001b[49m\u001b[43m,\u001b[49m\u001b[43m \u001b[49m\u001b[43mi1\u001b[49m\u001b[43m,\u001b[49m\u001b[43m \u001b[49m\u001b[43mj0\u001b[49m\u001b[43m,\u001b[49m\u001b[43m \u001b[49m\u001b[43mj1\u001b[49m\u001b[43m)\u001b[49m\n\u001b[0;32m    812\u001b[0m shape \u001b[38;5;241m=\u001b[39m \u001b[38;5;28mself\u001b[39m\u001b[38;5;241m.\u001b[39m_swap((i1 \u001b[38;5;241m-\u001b[39m i0, j1 \u001b[38;5;241m-\u001b[39m j0))\n\u001b[0;32m    813\u001b[0m \u001b[38;5;28;01mreturn\u001b[39;00m \u001b[38;5;28mself\u001b[39m\u001b[38;5;241m.\u001b[39m\u001b[38;5;18m__class__\u001b[39m((data, indices, indptr), shape\u001b[38;5;241m=\u001b[39mshape,\n\u001b[0;32m    814\u001b[0m                       dtype\u001b[38;5;241m=\u001b[39m\u001b[38;5;28mself\u001b[39m\u001b[38;5;241m.\u001b[39mdtype, copy\u001b[38;5;241m=\u001b[39m\u001b[38;5;28;01mFalse\u001b[39;00m)\n",
      "\u001b[1;31mKeyboardInterrupt\u001b[0m: "
     ]
    }
   ],
   "source": [
    "cf = CF(Similarity.inverse_euclidean_squared, mode=\"iicf\", n_neighbors=40)\n",
    "cf.fit(X_steam_train, y_steam_train, ui_steam_shape)\n",
    "y_pred = cf.predict(X_steam_test)\n",
    "print(\"True:\", y_steam_test)\n",
    "print(\"Pred:\", y_pred)\n",
    "print(\"R2  :\", r2_score(y_steam_test, y_pred))\n",
    "print(\"RMSE:\", mean_squared_error(y_steam_test, y_pred, squared=False))"
   ]
  },
  {
   "cell_type": "code",
   "execution_count": null,
   "metadata": {},
   "outputs": [
    {
     "name": "stdout",
     "output_type": "stream",
     "text": [
      "True: [0 0 0 ... 1 1 0]\n",
      "Pred: [ 0.04793103 -0.01323559 -0.33481333 ...  0.41666667  0.41666667\n",
      "  0.2485831 ]\n",
      "R2  : 0.18767564743860665\n",
      "RMSE: 0.3594152850341306\n"
     ]
    }
   ],
   "source": [
    "cf = CF(Similarity.inverse_euclidean_squared, mode=\"uucf\", n_neighbors=40)\n",
    "cf.fit(X_steam_train, y_steam_train, ui_steam_shape)\n",
    "y_pred = cf.predict(X_steam_test)\n",
    "print(\"True:\", y_steam_test)\n",
    "print(\"Pred:\", y_pred)\n",
    "print(\"R2  :\", r2_score(y_steam_test, y_pred))\n",
    "print(\"RMSE:\", mean_squared_error(y_steam_test, y_pred, squared=False))"
   ]
  },
  {
   "cell_type": "markdown",
   "metadata": {},
   "source": [
    "##### Implicit feedback"
   ]
  },
  {
   "cell_type": "code",
   "execution_count": 40,
   "metadata": {},
   "outputs": [],
   "source": [
    "def hit_rate(cf: CF, X_test):\n",
    "    total_hit = 0\n",
    "    N = len(np.unique(X_test[:, 0]))\n",
    "    for user in np.unique(X_test[:, 0]):\n",
    "        rated = X_test[X_test[:, 0] == user][:, 1]\n",
    "        rec = cf.get_recommendation(user)[0]\n",
    "        hit = len(np.intersect1d(rec, rated))\n",
    "        total_hit += hit\n",
    "    return total_hit / N"
   ]
  },
  {
   "cell_type": "markdown",
   "metadata": {},
   "source": [
    "##### Comparison (using the 90k datset)"
   ]
  },
  {
   "cell_type": "code",
   "execution_count": 43,
   "metadata": {},
   "outputs": [
    {
     "name": "stderr",
     "output_type": "stream",
     "text": [
      "c:\\Users\\Admin\\anaconda3\\envs\\walapy\\Lib\\site-packages\\numpy\\lib\\function_base.py:2897: RuntimeWarning: invalid value encountered in divide\n",
      "  c /= stddev[:, None]\n",
      "c:\\Users\\Admin\\anaconda3\\envs\\walapy\\Lib\\site-packages\\numpy\\lib\\function_base.py:2898: RuntimeWarning: invalid value encountered in divide\n",
      "  c /= stddev[None, :]\n",
      "c:\\Users\\Admin\\anaconda3\\envs\\walapy\\Lib\\site-packages\\numpy\\lib\\function_base.py:2897: RuntimeWarning: invalid value encountered in divide\n",
      "  c /= stddev[:, None]\n",
      "c:\\Users\\Admin\\anaconda3\\envs\\walapy\\Lib\\site-packages\\numpy\\lib\\function_base.py:2898: RuntimeWarning: invalid value encountered in divide\n",
      "  c /= stddev[None, :]\n",
      "c:\\Users\\Admin\\anaconda3\\envs\\walapy\\Lib\\site-packages\\numpy\\lib\\function_base.py:2897: RuntimeWarning: invalid value encountered in divide\n",
      "  c /= stddev[:, None]\n",
      "c:\\Users\\Admin\\anaconda3\\envs\\walapy\\Lib\\site-packages\\numpy\\lib\\function_base.py:2898: RuntimeWarning: invalid value encountered in divide\n",
      "  c /= stddev[None, :]\n",
      "c:\\Users\\Admin\\anaconda3\\envs\\walapy\\Lib\\site-packages\\numpy\\lib\\function_base.py:2897: RuntimeWarning: invalid value encountered in divide\n",
      "  c /= stddev[:, None]\n",
      "c:\\Users\\Admin\\anaconda3\\envs\\walapy\\Lib\\site-packages\\numpy\\lib\\function_base.py:2898: RuntimeWarning: invalid value encountered in divide\n",
      "  c /= stddev[None, :]\n",
      "c:\\Users\\Admin\\anaconda3\\envs\\walapy\\Lib\\site-packages\\numpy\\lib\\function_base.py:2897: RuntimeWarning: invalid value encountered in divide\n",
      "  c /= stddev[:, None]\n",
      "c:\\Users\\Admin\\anaconda3\\envs\\walapy\\Lib\\site-packages\\numpy\\lib\\function_base.py:2898: RuntimeWarning: invalid value encountered in divide\n",
      "  c /= stddev[None, :]\n",
      "c:\\Users\\Admin\\anaconda3\\envs\\walapy\\Lib\\site-packages\\numpy\\lib\\function_base.py:2897: RuntimeWarning: invalid value encountered in divide\n",
      "  c /= stddev[:, None]\n",
      "c:\\Users\\Admin\\anaconda3\\envs\\walapy\\Lib\\site-packages\\numpy\\lib\\function_base.py:2898: RuntimeWarning: invalid value encountered in divide\n",
      "  c /= stddev[None, :]\n",
      "c:\\Users\\Admin\\anaconda3\\envs\\walapy\\Lib\\site-packages\\numpy\\lib\\function_base.py:2897: RuntimeWarning: invalid value encountered in divide\n",
      "  c /= stddev[:, None]\n",
      "c:\\Users\\Admin\\anaconda3\\envs\\walapy\\Lib\\site-packages\\numpy\\lib\\function_base.py:2898: RuntimeWarning: invalid value encountered in divide\n",
      "  c /= stddev[None, :]\n",
      "c:\\Users\\Admin\\anaconda3\\envs\\walapy\\Lib\\site-packages\\numpy\\lib\\function_base.py:2897: RuntimeWarning: invalid value encountered in divide\n",
      "  c /= stddev[:, None]\n",
      "c:\\Users\\Admin\\anaconda3\\envs\\walapy\\Lib\\site-packages\\numpy\\lib\\function_base.py:2898: RuntimeWarning: invalid value encountered in divide\n",
      "  c /= stddev[None, :]\n",
      "c:\\Users\\Admin\\anaconda3\\envs\\walapy\\Lib\\site-packages\\numpy\\lib\\function_base.py:2897: RuntimeWarning: invalid value encountered in divide\n",
      "  c /= stddev[:, None]\n",
      "c:\\Users\\Admin\\anaconda3\\envs\\walapy\\Lib\\site-packages\\numpy\\lib\\function_base.py:2898: RuntimeWarning: invalid value encountered in divide\n",
      "  c /= stddev[None, :]\n",
      "c:\\Users\\Admin\\anaconda3\\envs\\walapy\\Lib\\site-packages\\numpy\\lib\\function_base.py:2897: RuntimeWarning: invalid value encountered in divide\n",
      "  c /= stddev[:, None]\n",
      "c:\\Users\\Admin\\anaconda3\\envs\\walapy\\Lib\\site-packages\\numpy\\lib\\function_base.py:2898: RuntimeWarning: invalid value encountered in divide\n",
      "  c /= stddev[None, :]\n"
     ]
    }
   ],
   "source": [
    "neighbors = [1, 3, 5, 7, 9]\n",
    "func_names = [\n",
    "    \"UUCF-Cosine\",\n",
    "    \"IICF-Cosine\",\n",
    "    \"UUCF-Pearson\",\n",
    "    \"IICF-Pearson\",\n",
    "    \"UUCF-Inverse Manhattan\",\n",
    "    \"IICF-Inverse Manhattan\",\n",
    "    \"UUCF-Inverse Euclidean Squared\",\n",
    "    \"IICF-Inverse Euclidean Squared\",\n",
    "]\n",
    "mode_funcs = [\n",
    "    (\"uucf\", Similarity.cosine),\n",
    "    (\"iicf\", Similarity.cosine),\n",
    "    (\"uucf\", Similarity.pearson),\n",
    "    (\"iicf\", Similarity.pearson),\n",
    "    (\"uucf\", Similarity.from_distance(metric=\"manhattan\", tosim=lambda x: 1 / (1 + x))),\n",
    "    (\"iicf\", Similarity.from_distance(metric=\"manhattan\", tosim=lambda x: 1 / (1 + x))),\n",
    "    (\"uucf\", Similarity.inverse_euclidean_squared),\n",
    "    (\"iicf\", Similarity.inverse_euclidean_squared),\n",
    "]"
   ]
  },
  {
   "cell_type": "markdown",
   "metadata": {},
   "source": [
    "RMSE"
   ]
  },
  {
   "cell_type": "code",
   "execution_count": 57,
   "metadata": {},
   "outputs": [
    {
     "name": "stderr",
     "output_type": "stream",
     "text": [
      "c:\\Users\\Admin\\anaconda3\\envs\\walapy\\Lib\\site-packages\\numpy\\lib\\function_base.py:2897: RuntimeWarning: invalid value encountered in divide\n",
      "  c /= stddev[:, None]\n",
      "c:\\Users\\Admin\\anaconda3\\envs\\walapy\\Lib\\site-packages\\numpy\\lib\\function_base.py:2898: RuntimeWarning: invalid value encountered in divide\n",
      "  c /= stddev[None, :]\n",
      "c:\\Users\\Admin\\anaconda3\\envs\\walapy\\Lib\\site-packages\\numpy\\lib\\function_base.py:2897: RuntimeWarning: invalid value encountered in divide\n",
      "  c /= stddev[:, None]\n",
      "c:\\Users\\Admin\\anaconda3\\envs\\walapy\\Lib\\site-packages\\numpy\\lib\\function_base.py:2898: RuntimeWarning: invalid value encountered in divide\n",
      "  c /= stddev[None, :]\n",
      "c:\\Users\\Admin\\anaconda3\\envs\\walapy\\Lib\\site-packages\\numpy\\lib\\function_base.py:2897: RuntimeWarning: invalid value encountered in divide\n",
      "  c /= stddev[:, None]\n",
      "c:\\Users\\Admin\\anaconda3\\envs\\walapy\\Lib\\site-packages\\numpy\\lib\\function_base.py:2898: RuntimeWarning: invalid value encountered in divide\n",
      "  c /= stddev[None, :]\n",
      "c:\\Users\\Admin\\anaconda3\\envs\\walapy\\Lib\\site-packages\\numpy\\lib\\function_base.py:2897: RuntimeWarning: invalid value encountered in divide\n",
      "  c /= stddev[:, None]\n",
      "c:\\Users\\Admin\\anaconda3\\envs\\walapy\\Lib\\site-packages\\numpy\\lib\\function_base.py:2898: RuntimeWarning: invalid value encountered in divide\n",
      "  c /= stddev[None, :]\n",
      "c:\\Users\\Admin\\anaconda3\\envs\\walapy\\Lib\\site-packages\\numpy\\lib\\function_base.py:2897: RuntimeWarning: invalid value encountered in divide\n",
      "  c /= stddev[:, None]\n",
      "c:\\Users\\Admin\\anaconda3\\envs\\walapy\\Lib\\site-packages\\numpy\\lib\\function_base.py:2898: RuntimeWarning: invalid value encountered in divide\n",
      "  c /= stddev[None, :]\n",
      "c:\\Users\\Admin\\anaconda3\\envs\\walapy\\Lib\\site-packages\\numpy\\lib\\function_base.py:2897: RuntimeWarning: invalid value encountered in divide\n",
      "  c /= stddev[:, None]\n",
      "c:\\Users\\Admin\\anaconda3\\envs\\walapy\\Lib\\site-packages\\numpy\\lib\\function_base.py:2898: RuntimeWarning: invalid value encountered in divide\n",
      "  c /= stddev[None, :]\n",
      "c:\\Users\\Admin\\anaconda3\\envs\\walapy\\Lib\\site-packages\\numpy\\lib\\function_base.py:2897: RuntimeWarning: invalid value encountered in divide\n",
      "  c /= stddev[:, None]\n",
      "c:\\Users\\Admin\\anaconda3\\envs\\walapy\\Lib\\site-packages\\numpy\\lib\\function_base.py:2898: RuntimeWarning: invalid value encountered in divide\n",
      "  c /= stddev[None, :]\n",
      "c:\\Users\\Admin\\anaconda3\\envs\\walapy\\Lib\\site-packages\\numpy\\lib\\function_base.py:2897: RuntimeWarning: invalid value encountered in divide\n",
      "  c /= stddev[:, None]\n",
      "c:\\Users\\Admin\\anaconda3\\envs\\walapy\\Lib\\site-packages\\numpy\\lib\\function_base.py:2898: RuntimeWarning: invalid value encountered in divide\n",
      "  c /= stddev[None, :]\n",
      "c:\\Users\\Admin\\anaconda3\\envs\\walapy\\Lib\\site-packages\\numpy\\lib\\function_base.py:2897: RuntimeWarning: invalid value encountered in divide\n",
      "  c /= stddev[:, None]\n",
      "c:\\Users\\Admin\\anaconda3\\envs\\walapy\\Lib\\site-packages\\numpy\\lib\\function_base.py:2898: RuntimeWarning: invalid value encountered in divide\n",
      "  c /= stddev[None, :]\n",
      "c:\\Users\\Admin\\anaconda3\\envs\\walapy\\Lib\\site-packages\\numpy\\lib\\function_base.py:2897: RuntimeWarning: invalid value encountered in divide\n",
      "  c /= stddev[:, None]\n",
      "c:\\Users\\Admin\\anaconda3\\envs\\walapy\\Lib\\site-packages\\numpy\\lib\\function_base.py:2898: RuntimeWarning: invalid value encountered in divide\n",
      "  c /= stddev[None, :]\n"
     ]
    }
   ],
   "source": [
    "data = np.zeros((len(neighbors), len(mode_funcs)))\n",
    "for i, n in enumerate(neighbors):\n",
    "    for j, mode_func in enumerate(mode_funcs):\n",
    "        mode = mode_func[0]\n",
    "        func = mode_func[1]\n",
    "        cf = CF(func, mode, n_neighbors=n)\n",
    "        cf.fit(X_steam_train, y_steam_train, ui_steam_shape)\n",
    "        y_pred = cf.predict(X_steam_test)\n",
    "        rmse = mean_squared_error(y_steam_test, y_pred, squared=False)\n",
    "        data[i, j] = rmse\n",
    "rmse_report = pd.DataFrame(data.T, index=func_names, columns=neighbors)"
   ]
  },
  {
   "cell_type": "code",
   "execution_count": 71,
   "metadata": {},
   "outputs": [
    {
     "data": {
      "text/html": [
       "<div>\n",
       "<style scoped>\n",
       "    .dataframe tbody tr th:only-of-type {\n",
       "        vertical-align: middle;\n",
       "    }\n",
       "\n",
       "    .dataframe tbody tr th {\n",
       "        vertical-align: top;\n",
       "    }\n",
       "\n",
       "    .dataframe thead th {\n",
       "        text-align: right;\n",
       "    }\n",
       "</style>\n",
       "<table border=\"1\" class=\"dataframe\">\n",
       "  <thead>\n",
       "    <tr style=\"text-align: right;\">\n",
       "      <th></th>\n",
       "      <th>1</th>\n",
       "      <th>3</th>\n",
       "      <th>5</th>\n",
       "      <th>7</th>\n",
       "      <th>9</th>\n",
       "    </tr>\n",
       "  </thead>\n",
       "  <tbody>\n",
       "    <tr>\n",
       "      <th>UUCF-Cosine</th>\n",
       "      <td>0.444125</td>\n",
       "      <td>0.404688</td>\n",
       "      <td>0.400858</td>\n",
       "      <td>0.399773</td>\n",
       "      <td>0.399567</td>\n",
       "    </tr>\n",
       "    <tr>\n",
       "      <th>UUCF-Pearson</th>\n",
       "      <td>0.444118</td>\n",
       "      <td>0.404685</td>\n",
       "      <td>0.400858</td>\n",
       "      <td>0.399773</td>\n",
       "      <td>0.399560</td>\n",
       "    </tr>\n",
       "    <tr>\n",
       "      <th>IICF-Pearson</th>\n",
       "      <td>0.443976</td>\n",
       "      <td>0.401202</td>\n",
       "      <td>0.394935</td>\n",
       "      <td>0.394061</td>\n",
       "      <td>0.393260</td>\n",
       "    </tr>\n",
       "    <tr>\n",
       "      <th>IICF-Cosine</th>\n",
       "      <td>0.443845</td>\n",
       "      <td>0.401162</td>\n",
       "      <td>0.394935</td>\n",
       "      <td>0.394055</td>\n",
       "      <td>0.393248</td>\n",
       "    </tr>\n",
       "    <tr>\n",
       "      <th>IICF-Inverse Euclidean Squared</th>\n",
       "      <td>0.410590</td>\n",
       "      <td>0.387236</td>\n",
       "      <td>0.379747</td>\n",
       "      <td>0.374808</td>\n",
       "      <td>0.371812</td>\n",
       "    </tr>\n",
       "    <tr>\n",
       "      <th>IICF-Inverse Manhattan</th>\n",
       "      <td>0.410333</td>\n",
       "      <td>0.386891</td>\n",
       "      <td>0.380018</td>\n",
       "      <td>0.374742</td>\n",
       "      <td>0.371786</td>\n",
       "    </tr>\n",
       "    <tr>\n",
       "      <th>UUCF-Inverse Euclidean Squared</th>\n",
       "      <td>0.367295</td>\n",
       "      <td>0.362319</td>\n",
       "      <td>0.360241</td>\n",
       "      <td>0.356814</td>\n",
       "      <td>0.354349</td>\n",
       "    </tr>\n",
       "    <tr>\n",
       "      <th>UUCF-Inverse Manhattan</th>\n",
       "      <td>0.366978</td>\n",
       "      <td>0.361924</td>\n",
       "      <td>0.359939</td>\n",
       "      <td>0.356119</td>\n",
       "      <td>0.353870</td>\n",
       "    </tr>\n",
       "  </tbody>\n",
       "</table>\n",
       "</div>"
      ],
      "text/plain": [
       "                                       1         3         5         7  \\\n",
       "UUCF-Cosine                     0.444125  0.404688  0.400858  0.399773   \n",
       "UUCF-Pearson                    0.444118  0.404685  0.400858  0.399773   \n",
       "IICF-Pearson                    0.443976  0.401202  0.394935  0.394061   \n",
       "IICF-Cosine                     0.443845  0.401162  0.394935  0.394055   \n",
       "IICF-Inverse Euclidean Squared  0.410590  0.387236  0.379747  0.374808   \n",
       "IICF-Inverse Manhattan          0.410333  0.386891  0.380018  0.374742   \n",
       "UUCF-Inverse Euclidean Squared  0.367295  0.362319  0.360241  0.356814   \n",
       "UUCF-Inverse Manhattan          0.366978  0.361924  0.359939  0.356119   \n",
       "\n",
       "                                       9  \n",
       "UUCF-Cosine                     0.399567  \n",
       "UUCF-Pearson                    0.399560  \n",
       "IICF-Pearson                    0.393260  \n",
       "IICF-Cosine                     0.393248  \n",
       "IICF-Inverse Euclidean Squared  0.371812  \n",
       "IICF-Inverse Manhattan          0.371786  \n",
       "UUCF-Inverse Euclidean Squared  0.354349  \n",
       "UUCF-Inverse Manhattan          0.353870  "
      ]
     },
     "execution_count": 71,
     "metadata": {},
     "output_type": "execute_result"
    }
   ],
   "source": [
    "rmse_report = rmse_report.sort_values(by=[9], ascending=False)\n",
    "rmse_report.to_csv(\"../Reports/CF_rmse_report.csv\", float_format=\"%.6f\")\n",
    "rmse_report"
   ]
  },
  {
   "cell_type": "markdown",
   "metadata": {},
   "source": [
    "R2-Score"
   ]
  },
  {
   "cell_type": "code",
   "execution_count": 59,
   "metadata": {},
   "outputs": [
    {
     "name": "stderr",
     "output_type": "stream",
     "text": [
      "c:\\Users\\Admin\\anaconda3\\envs\\walapy\\Lib\\site-packages\\numpy\\lib\\function_base.py:2897: RuntimeWarning: invalid value encountered in divide\n",
      "  c /= stddev[:, None]\n",
      "c:\\Users\\Admin\\anaconda3\\envs\\walapy\\Lib\\site-packages\\numpy\\lib\\function_base.py:2898: RuntimeWarning: invalid value encountered in divide\n",
      "  c /= stddev[None, :]\n",
      "c:\\Users\\Admin\\anaconda3\\envs\\walapy\\Lib\\site-packages\\numpy\\lib\\function_base.py:2897: RuntimeWarning: invalid value encountered in divide\n",
      "  c /= stddev[:, None]\n",
      "c:\\Users\\Admin\\anaconda3\\envs\\walapy\\Lib\\site-packages\\numpy\\lib\\function_base.py:2898: RuntimeWarning: invalid value encountered in divide\n",
      "  c /= stddev[None, :]\n",
      "c:\\Users\\Admin\\anaconda3\\envs\\walapy\\Lib\\site-packages\\numpy\\lib\\function_base.py:2897: RuntimeWarning: invalid value encountered in divide\n",
      "  c /= stddev[:, None]\n",
      "c:\\Users\\Admin\\anaconda3\\envs\\walapy\\Lib\\site-packages\\numpy\\lib\\function_base.py:2898: RuntimeWarning: invalid value encountered in divide\n",
      "  c /= stddev[None, :]\n",
      "c:\\Users\\Admin\\anaconda3\\envs\\walapy\\Lib\\site-packages\\numpy\\lib\\function_base.py:2897: RuntimeWarning: invalid value encountered in divide\n",
      "  c /= stddev[:, None]\n",
      "c:\\Users\\Admin\\anaconda3\\envs\\walapy\\Lib\\site-packages\\numpy\\lib\\function_base.py:2898: RuntimeWarning: invalid value encountered in divide\n",
      "  c /= stddev[None, :]\n",
      "c:\\Users\\Admin\\anaconda3\\envs\\walapy\\Lib\\site-packages\\numpy\\lib\\function_base.py:2897: RuntimeWarning: invalid value encountered in divide\n",
      "  c /= stddev[:, None]\n",
      "c:\\Users\\Admin\\anaconda3\\envs\\walapy\\Lib\\site-packages\\numpy\\lib\\function_base.py:2898: RuntimeWarning: invalid value encountered in divide\n",
      "  c /= stddev[None, :]\n",
      "c:\\Users\\Admin\\anaconda3\\envs\\walapy\\Lib\\site-packages\\numpy\\lib\\function_base.py:2897: RuntimeWarning: invalid value encountered in divide\n",
      "  c /= stddev[:, None]\n",
      "c:\\Users\\Admin\\anaconda3\\envs\\walapy\\Lib\\site-packages\\numpy\\lib\\function_base.py:2898: RuntimeWarning: invalid value encountered in divide\n",
      "  c /= stddev[None, :]\n",
      "c:\\Users\\Admin\\anaconda3\\envs\\walapy\\Lib\\site-packages\\numpy\\lib\\function_base.py:2897: RuntimeWarning: invalid value encountered in divide\n",
      "  c /= stddev[:, None]\n",
      "c:\\Users\\Admin\\anaconda3\\envs\\walapy\\Lib\\site-packages\\numpy\\lib\\function_base.py:2898: RuntimeWarning: invalid value encountered in divide\n",
      "  c /= stddev[None, :]\n",
      "c:\\Users\\Admin\\anaconda3\\envs\\walapy\\Lib\\site-packages\\numpy\\lib\\function_base.py:2897: RuntimeWarning: invalid value encountered in divide\n",
      "  c /= stddev[:, None]\n",
      "c:\\Users\\Admin\\anaconda3\\envs\\walapy\\Lib\\site-packages\\numpy\\lib\\function_base.py:2898: RuntimeWarning: invalid value encountered in divide\n",
      "  c /= stddev[None, :]\n",
      "c:\\Users\\Admin\\anaconda3\\envs\\walapy\\Lib\\site-packages\\numpy\\lib\\function_base.py:2897: RuntimeWarning: invalid value encountered in divide\n",
      "  c /= stddev[:, None]\n",
      "c:\\Users\\Admin\\anaconda3\\envs\\walapy\\Lib\\site-packages\\numpy\\lib\\function_base.py:2898: RuntimeWarning: invalid value encountered in divide\n",
      "  c /= stddev[None, :]\n",
      "c:\\Users\\Admin\\anaconda3\\envs\\walapy\\Lib\\site-packages\\numpy\\lib\\function_base.py:2897: RuntimeWarning: invalid value encountered in divide\n",
      "  c /= stddev[:, None]\n",
      "c:\\Users\\Admin\\anaconda3\\envs\\walapy\\Lib\\site-packages\\numpy\\lib\\function_base.py:2898: RuntimeWarning: invalid value encountered in divide\n",
      "  c /= stddev[None, :]\n"
     ]
    }
   ],
   "source": [
    "data = np.zeros((len(neighbors), len(mode_funcs)))\n",
    "for i, n in enumerate(neighbors):\n",
    "    for j, mode_func in enumerate(mode_funcs):\n",
    "        mode = mode_func[0]\n",
    "        func = mode_func[1]\n",
    "        cf = CF(func, mode, n_neighbors=n)\n",
    "        cf.fit(X_steam_train, y_steam_train, ui_steam_shape)\n",
    "        y_pred = cf.predict(X_steam_test)\n",
    "        r2 = r2_score(y_steam_test, y_pred)\n",
    "        data[i, j] = r2\n",
    "r2_report = pd.DataFrame(data.T, index=func_names, columns=neighbors)"
   ]
  },
  {
   "cell_type": "code",
   "execution_count": 72,
   "metadata": {},
   "outputs": [
    {
     "data": {
      "text/html": [
       "<div>\n",
       "<style scoped>\n",
       "    .dataframe tbody tr th:only-of-type {\n",
       "        vertical-align: middle;\n",
       "    }\n",
       "\n",
       "    .dataframe tbody tr th {\n",
       "        vertical-align: top;\n",
       "    }\n",
       "\n",
       "    .dataframe thead th {\n",
       "        text-align: right;\n",
       "    }\n",
       "</style>\n",
       "<table border=\"1\" class=\"dataframe\">\n",
       "  <thead>\n",
       "    <tr style=\"text-align: right;\">\n",
       "      <th></th>\n",
       "      <th>1</th>\n",
       "      <th>3</th>\n",
       "      <th>5</th>\n",
       "      <th>7</th>\n",
       "      <th>9</th>\n",
       "    </tr>\n",
       "  </thead>\n",
       "  <tbody>\n",
       "    <tr>\n",
       "      <th>UUCF-Cosine</th>\n",
       "      <td>-0.072936</td>\n",
       "      <td>0.109152</td>\n",
       "      <td>0.125933</td>\n",
       "      <td>0.130658</td>\n",
       "      <td>0.131556</td>\n",
       "    </tr>\n",
       "    <tr>\n",
       "      <th>UUCF-Pearson</th>\n",
       "      <td>-0.072901</td>\n",
       "      <td>0.109164</td>\n",
       "      <td>0.125933</td>\n",
       "      <td>0.130657</td>\n",
       "      <td>0.131583</td>\n",
       "    </tr>\n",
       "    <tr>\n",
       "      <th>IICF-Pearson</th>\n",
       "      <td>-0.072215</td>\n",
       "      <td>0.124434</td>\n",
       "      <td>0.151575</td>\n",
       "      <td>0.155324</td>\n",
       "      <td>0.158754</td>\n",
       "    </tr>\n",
       "    <tr>\n",
       "      <th>IICF-Cosine</th>\n",
       "      <td>-0.071583</td>\n",
       "      <td>0.124605</td>\n",
       "      <td>0.151572</td>\n",
       "      <td>0.155350</td>\n",
       "      <td>0.158806</td>\n",
       "    </tr>\n",
       "    <tr>\n",
       "      <th>IICF-Inverse Euclidean Squared</th>\n",
       "      <td>0.082976</td>\n",
       "      <td>0.184330</td>\n",
       "      <td>0.215574</td>\n",
       "      <td>0.235848</td>\n",
       "      <td>0.248014</td>\n",
       "    </tr>\n",
       "    <tr>\n",
       "      <th>IICF-Inverse Manhattan</th>\n",
       "      <td>0.084123</td>\n",
       "      <td>0.185780</td>\n",
       "      <td>0.214454</td>\n",
       "      <td>0.236117</td>\n",
       "      <td>0.248118</td>\n",
       "    </tr>\n",
       "    <tr>\n",
       "      <th>UUCF-Inverse Euclidean Squared</th>\n",
       "      <td>0.266173</td>\n",
       "      <td>0.285921</td>\n",
       "      <td>0.294090</td>\n",
       "      <td>0.307456</td>\n",
       "      <td>0.316992</td>\n",
       "    </tr>\n",
       "    <tr>\n",
       "      <th>UUCF-Inverse Manhattan</th>\n",
       "      <td>0.267441</td>\n",
       "      <td>0.287477</td>\n",
       "      <td>0.295271</td>\n",
       "      <td>0.310151</td>\n",
       "      <td>0.318836</td>\n",
       "    </tr>\n",
       "  </tbody>\n",
       "</table>\n",
       "</div>"
      ],
      "text/plain": [
       "                                       1         3         5         7  \\\n",
       "UUCF-Cosine                    -0.072936  0.109152  0.125933  0.130658   \n",
       "UUCF-Pearson                   -0.072901  0.109164  0.125933  0.130657   \n",
       "IICF-Pearson                   -0.072215  0.124434  0.151575  0.155324   \n",
       "IICF-Cosine                    -0.071583  0.124605  0.151572  0.155350   \n",
       "IICF-Inverse Euclidean Squared  0.082976  0.184330  0.215574  0.235848   \n",
       "IICF-Inverse Manhattan          0.084123  0.185780  0.214454  0.236117   \n",
       "UUCF-Inverse Euclidean Squared  0.266173  0.285921  0.294090  0.307456   \n",
       "UUCF-Inverse Manhattan          0.267441  0.287477  0.295271  0.310151   \n",
       "\n",
       "                                       9  \n",
       "UUCF-Cosine                     0.131556  \n",
       "UUCF-Pearson                    0.131583  \n",
       "IICF-Pearson                    0.158754  \n",
       "IICF-Cosine                     0.158806  \n",
       "IICF-Inverse Euclidean Squared  0.248014  \n",
       "IICF-Inverse Manhattan          0.248118  \n",
       "UUCF-Inverse Euclidean Squared  0.316992  \n",
       "UUCF-Inverse Manhattan          0.318836  "
      ]
     },
     "execution_count": 72,
     "metadata": {},
     "output_type": "execute_result"
    }
   ],
   "source": [
    "r2_report = r2_report.sort_values(by=[9])\n",
    "r2_report.to_csv(\"../Reports/CF_r2_report.csv\", float_format=\"%.6f\")\n",
    "r2_report"
   ]
  }
 ],
 "metadata": {
  "kernelspec": {
   "display_name": "walapy",
   "language": "python",
   "name": "python3"
  },
  "language_info": {
   "codemirror_mode": {
    "name": "ipython",
    "version": 3
   },
   "file_extension": ".py",
   "mimetype": "text/x-python",
   "name": "python",
   "nbconvert_exporter": "python",
   "pygments_lexer": "ipython3",
   "version": "3.12.1"
  }
 },
 "nbformat": 4,
 "nbformat_minor": 2
}
