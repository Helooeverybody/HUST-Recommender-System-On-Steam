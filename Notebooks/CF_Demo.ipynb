{
 "cells": [
  {
   "cell_type": "markdown",
   "metadata": {},
   "source": [
    "# Colab Filtering Demo"
   ]
  },
  {
   "cell_type": "markdown",
   "metadata": {},
   "source": [
    "### Import dependencies"
   ]
  },
  {
   "cell_type": "code",
   "execution_count": 1,
   "metadata": {},
   "outputs": [],
   "source": [
    "import numpy as np\n",
    "import pandas as pd\n",
    "import seaborn as sns\n",
    "import matplotlib.pyplot as plt\n",
    "# Run this to be able to import 'Modules' on the notebook\n",
    "import sys, os\n",
    "sys.path.insert(0, os.path.abspath(\"..\"))"
   ]
  },
  {
   "cell_type": "markdown",
   "metadata": {},
   "source": [
    "### Data analysis"
   ]
  },
  {
   "cell_type": "markdown",
   "metadata": {},
   "source": [
    "##### Overview"
   ]
  },
  {
   "cell_type": "code",
   "execution_count": 2,
   "metadata": {},
   "outputs": [
    {
     "name": "stdout",
     "output_type": "stream",
     "text": [
      "Number of ratings: 92726\n",
      "Number of unique games: 5360\n",
      "Number of unique users: 5840\n",
      "Average number of ratings per user: 15.88\n",
      "Average number of ratings per game: 17.3\n",
      "Mean global rating: 0.76.\n"
     ]
    }
   ],
   "source": [
    "ratings = pd.read_csv(\"../data/steam-90k/steam-90k.csv\")\n",
    "n_ratings = len(ratings)\n",
    "n_games = ratings[\"app_id\"].nunique()\n",
    "n_users = ratings[\"user_id\"].nunique()\n",
    "\n",
    "print(f\"Number of ratings: {n_ratings}\")\n",
    "print(f\"Number of unique games: {n_games}\")\n",
    "print(f\"Number of unique users: {n_users}\")\n",
    "print(f\"Average number of ratings per user: {round(n_ratings/n_users, 2)}\")\n",
    "print(f\"Average number of ratings per game: {round(n_ratings/n_games, 2)}\")\n",
    "print(f\"Mean global rating: {round(ratings[\"rating\"].mean(),2)}.\")"
   ]
  },
  {
   "cell_type": "code",
   "execution_count": 3,
   "metadata": {},
   "outputs": [
    {
     "data": {
      "image/png": "[encoded data removed]",
      "text/plain": [
       "<Figure size 640x480 with 1 Axes>"
      ]
     },
     "metadata": {},
     "output_type": "display_data"
    }
   ],
   "source": [
    "sns.countplot(x=\"rating\", data=ratings, palette=\"viridis\")\n",
    "plt.title(\"Distribution of game ratings\", fontsize=14)\n",
    "plt.show()"
   ]
  },
  {
   "cell_type": "markdown",
   "metadata": {},
   "source": [
    "##### Most rated games"
   ]
  },
  {
   "cell_type": "code",
   "execution_count": 9,
   "metadata": {},
   "outputs": [
    {
     "data": {
      "text/html": [
       "<div>\n",
       "<style scoped>\n",
       "    .dataframe tbody tr th:only-of-type {\n",
       "        vertical-align: middle;\n",
       "    }\n",
       "\n",
       "    .dataframe tbody tr th {\n",
       "        vertical-align: top;\n",
       "    }\n",
       "\n",
       "    .dataframe thead th {\n",
       "        text-align: right;\n",
       "    }\n",
       "</style>\n",
       "<table border=\"1\" class=\"dataframe\">\n",
       "  <thead>\n",
       "    <tr style=\"text-align: right;\">\n",
       "      <th></th>\n",
       "      <th>count</th>\n",
       "      <th>mean</th>\n",
       "    </tr>\n",
       "    <tr>\n",
       "      <th>title</th>\n",
       "      <th></th>\n",
       "      <th></th>\n",
       "    </tr>\n",
       "  </thead>\n",
       "  <tbody>\n",
       "    <tr>\n",
       "      <th>Dragon's Dogma 2</th>\n",
       "      <td>89</td>\n",
       "      <td>0.629213</td>\n",
       "    </tr>\n",
       "    <tr>\n",
       "      <th>100 March Cats</th>\n",
       "      <td>66</td>\n",
       "      <td>0.984848</td>\n",
       "    </tr>\n",
       "    <tr>\n",
       "      <th>100 Robo Cats</th>\n",
       "      <td>66</td>\n",
       "      <td>0.833333</td>\n",
       "    </tr>\n",
       "    <tr>\n",
       "      <th>100 Capitalist Cats</th>\n",
       "      <td>65</td>\n",
       "      <td>0.969231</td>\n",
       "    </tr>\n",
       "    <tr>\n",
       "      <th>100 Dino Cats</th>\n",
       "      <td>57</td>\n",
       "      <td>1.000000</td>\n",
       "    </tr>\n",
       "  </tbody>\n",
       "</table>\n",
       "</div>"
      ],
      "text/plain": [
       "                     count      mean\n",
       "title                               \n",
       "Dragon's Dogma 2        89  0.629213\n",
       "100 March Cats          66  0.984848\n",
       "100 Robo Cats           66  0.833333\n",
       "100 Capitalist Cats     65  0.969231\n",
       "100 Dino Cats           57  1.000000"
      ]
     },
     "execution_count": 9,
     "metadata": {},
     "output_type": "execute_result"
    }
   ],
   "source": [
    "game_stats = ratings.groupby(\"title\")[\"rating\"].agg([\"count\", \"mean\"])\n",
    "game_stats.sort_values(by=[\"count\", \"mean\"], ascending=False).head()"
   ]
  },
  {
   "cell_type": "markdown",
   "metadata": {},
   "source": [
    "### Preprocess data"
   ]
  },
  {
   "cell_type": "markdown",
   "metadata": {},
   "source": [
    "##### Import from csv"
   ]
  },
  {
   "cell_type": "code",
   "execution_count": 5,
   "metadata": {},
   "outputs": [
    {
     "name": "stdout",
     "output_type": "stream",
     "text": [
      "User-Item: (5840, 5360)\n"
     ]
    }
   ],
   "source": [
    "from Modules.CF import PreProcessing\n",
    "\n",
    "# X: Array of user-item pairs\n",
    "# y: Corresponding ratings for each user-item pair in\n",
    "# M: Mapping consists of 5 dictionaries:\n",
    "#    user_to_index, index_to_user, item_to_index, index_to_item, item_to_name\n",
    "# ui_shape: tuple of (num_users, num_items)\n",
    "\n",
    "X, y, M, ui_shape = PreProcessing.data_from_csv(\"../data/steam-90k/steam-90k.csv\")\n",
    "print(\"User-Item:\", ui_shape)"
   ]
  },
  {
   "cell_type": "markdown",
   "metadata": {},
   "source": [
    "##### Option for spliting data"
   ]
  },
  {
   "cell_type": "code",
   "execution_count": 6,
   "metadata": {},
   "outputs": [],
   "source": [
    "X_train, y_train, X_test, y_test = PreProcessing.split(X, y, 0.8, shuffle=True)"
   ]
  },
  {
   "cell_type": "markdown",
   "metadata": {},
   "source": [
    "### Load data into model"
   ]
  },
  {
   "cell_type": "code",
   "execution_count": 7,
   "metadata": {},
   "outputs": [],
   "source": [
    "from Modules.CF import Similarity, CF\n",
    "\n",
    "sim_func = Similarity.inverse_euclidean_squared\n",
    "cf_model = CF(sim_func, mode=\"uucf\", n_neighbors=10)\n",
    "cf_model.fit(X_train, y_train, ui_shape)"
   ]
  },
  {
   "cell_type": "markdown",
   "metadata": {},
   "source": [
    "### Get prediction"
   ]
  },
  {
   "cell_type": "code",
   "execution_count": 8,
   "metadata": {},
   "outputs": [
    {
     "name": "stdout",
     "output_type": "stream",
     "text": [
      "True: [1. 0. 1. ... 1. 1. 1.]\n",
      "Pred: [0.94909808 0.13627691 0.92677097 ... 0.73365109 0.83757803 1.02214908]\n"
     ]
    }
   ],
   "source": [
    "y_pred = cf_model.predict(X_test)\n",
    "print(\"True:\", y_test)\n",
    "print(\"Pred:\", y_pred)"
   ]
  },
  {
   "cell_type": "markdown",
   "metadata": {},
   "source": [
    "### Evaluation"
   ]
  },
  {
   "cell_type": "code",
   "execution_count": 9,
   "metadata": {},
   "outputs": [
    {
     "name": "stdout",
     "output_type": "stream",
     "text": [
      "R2  : 0.2966979901307313\n",
      "RMSE: 0.3588771735468142\n"
     ]
    }
   ],
   "source": [
    "from sklearn.metrics import r2_score, mean_squared_error\n",
    "print(\"R2  :\", r2_score(y_test, y_pred))\n",
    "print(\"RMSE:\", mean_squared_error(y_test, y_pred, squared=False))"
   ]
  },
  {
   "cell_type": "markdown",
   "metadata": {},
   "source": [
    "### Get recommendations for an user"
   ]
  },
  {
   "cell_type": "code",
   "execution_count": 10,
   "metadata": {},
   "outputs": [],
   "source": [
    "cf_model.fit(X, y, ui_shape)"
   ]
  },
  {
   "cell_type": "code",
   "execution_count": 11,
   "metadata": {},
   "outputs": [
    {
     "name": "stdout",
     "output_type": "stream",
     "text": [
      "Picked user: 76561198008049239\n"
     ]
    }
   ],
   "source": [
    "user_idx = np.random.randint(cf_model.num_users)\n",
    "user = M.index_to_user[user_idx]\n",
    "print(f\"Picked user: {user}\")"
   ]
  },
  {
   "cell_type": "code",
   "execution_count": 12,
   "metadata": {},
   "outputs": [
    {
     "data": {
      "text/html": [
       "<div>\n",
       "<style scoped>\n",
       "    .dataframe tbody tr th:only-of-type {\n",
       "        vertical-align: middle;\n",
       "    }\n",
       "\n",
       "    .dataframe tbody tr th {\n",
       "        vertical-align: top;\n",
       "    }\n",
       "\n",
       "    .dataframe thead th {\n",
       "        text-align: right;\n",
       "    }\n",
       "</style>\n",
       "<table border=\"1\" class=\"dataframe\">\n",
       "  <thead>\n",
       "    <tr style=\"text-align: right;\">\n",
       "      <th></th>\n",
       "      <th>app_id</th>\n",
       "      <th>titles</th>\n",
       "      <th>rating</th>\n",
       "    </tr>\n",
       "  </thead>\n",
       "  <tbody>\n",
       "    <tr>\n",
       "      <th>0</th>\n",
       "      <td>372350</td>\n",
       "      <td>Tumbleweed Express</td>\n",
       "      <td>1.181875</td>\n",
       "    </tr>\n",
       "    <tr>\n",
       "      <th>1</th>\n",
       "      <td>671550</td>\n",
       "      <td>Brickochet</td>\n",
       "      <td>1.162284</td>\n",
       "    </tr>\n",
       "    <tr>\n",
       "      <th>2</th>\n",
       "      <td>1416460</td>\n",
       "      <td>Horror Globes</td>\n",
       "      <td>1.160728</td>\n",
       "    </tr>\n",
       "    <tr>\n",
       "      <th>3</th>\n",
       "      <td>1185470</td>\n",
       "      <td>Deathbloom: Chapter 2</td>\n",
       "      <td>1.154234</td>\n",
       "    </tr>\n",
       "    <tr>\n",
       "      <th>4</th>\n",
       "      <td>726020</td>\n",
       "      <td>Mission Ammunition</td>\n",
       "      <td>1.150266</td>\n",
       "    </tr>\n",
       "    <tr>\n",
       "      <th>5</th>\n",
       "      <td>639560</td>\n",
       "      <td>Spacescape</td>\n",
       "      <td>1.145438</td>\n",
       "    </tr>\n",
       "    <tr>\n",
       "      <th>6</th>\n",
       "      <td>558450</td>\n",
       "      <td>Fibrillation HD</td>\n",
       "      <td>1.134927</td>\n",
       "    </tr>\n",
       "    <tr>\n",
       "      <th>7</th>\n",
       "      <td>337450</td>\n",
       "      <td>Dream Tale</td>\n",
       "      <td>1.133859</td>\n",
       "    </tr>\n",
       "    <tr>\n",
       "      <th>8</th>\n",
       "      <td>1301480</td>\n",
       "      <td>Bishoujo Battle Mahjong Solitaire</td>\n",
       "      <td>1.122258</td>\n",
       "    </tr>\n",
       "    <tr>\n",
       "      <th>9</th>\n",
       "      <td>511350</td>\n",
       "      <td>Mr. Massagy</td>\n",
       "      <td>1.121493</td>\n",
       "    </tr>\n",
       "  </tbody>\n",
       "</table>\n",
       "</div>"
      ],
      "text/plain": [
       "    app_id                             titles    rating\n",
       "0   372350                 Tumbleweed Express  1.181875\n",
       "1   671550                         Brickochet  1.162284\n",
       "2  1416460                      Horror Globes  1.160728\n",
       "3  1185470              Deathbloom: Chapter 2  1.154234\n",
       "4   726020                 Mission Ammunition  1.150266\n",
       "5   639560                         Spacescape  1.145438\n",
       "6   558450                    Fibrillation HD  1.134927\n",
       "7   337450                         Dream Tale  1.133859\n",
       "8  1301480  Bishoujo Battle Mahjong Solitaire  1.122258\n",
       "9   511350                        Mr. Massagy  1.121493"
      ]
     },
     "execution_count": 12,
     "metadata": {},
     "output_type": "execute_result"
    }
   ],
   "source": [
    "games, ratings = cf_model.get_recommendation(user_idx, 10)\n",
    "app_ids = [M.index_to_item[i] for i in games]\n",
    "titles = [M.item_to_name[i] for i in app_ids]\n",
    "rec = pd.DataFrame({\n",
    "    \"app_id\": app_ids,\n",
    "    \"titles\": titles,\n",
    "    \"rating\": ratings\n",
    "})\n",
    "rec"
   ]
  }
 ],
 "metadata": {
  "kernelspec": {
   "display_name": "walapy",
   "language": "python",
   "name": "python3"
  },
  "language_info": {
   "codemirror_mode": {
    "name": "ipython",
    "version": 3
   },
   "file_extension": ".py",
   "mimetype": "text/x-python",
   "name": "python",
   "nbconvert_exporter": "python",
   "pygments_lexer": "ipython3",
   "version": "3.12.1"
  }
 },
 "nbformat": 4,
 "nbformat_minor": 2
}
